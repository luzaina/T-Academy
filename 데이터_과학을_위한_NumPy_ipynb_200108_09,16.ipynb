{
  "nbformat": 4,
  "nbformat_minor": 0,
  "metadata": {
    "colab": {
      "name": "데이터 과학을 위한 NumPy.ipynb_200108_09,16",
      "provenance": [],
      "collapsed_sections": [
        "JPq9Zh8Ekg9n"
      ]
    },
    "kernelspec": {
      "name": "python3",
      "display_name": "Python 3"
    },
    "accelerator": "GPU"
  },
  "cells": [
    {
      "cell_type": "markdown",
      "metadata": {
        "id": "XOmhYVEwXIcH",
        "colab_type": "text"
      },
      "source": [
        "![alt text](https://lh3.googleusercontent.com/jS2nj0Ju7rvJJangnpFrnveoLlMAVc-Ee-k38WW3bRT1rpOooDKa8c3Uh2hZs5j6-XNc1ZFry07GtQTX8sYRpyZGgz8TZuBpGw75pAZqSKQRSfKA0Isy3I-222AHDlZa1WNAvFGmQLfeR4S96qK3agRN-br82Od1243W4uVZbFmbkZPykYy4_qDeE2UrbT1nVr8QZccLXjjtjiJRM8WQ_8eZFSRUBP1BMQg5AG6l7tdGXuWlQDmqFOFcDcEQE5ZX30N7TIcDSOiMWjp0gGZgtMfaR983h4NP8dUp-ej-Vo1D4FSpa_zTpjvKRrpbfnVir1LpIw0yC9OjD7aCMtLcul9Npe-voMkiJgz5XNvFatCgq5WmfcoaDDvkkEQZgp7LQoOqqprzvdItdiyWagMtCVQONtypoZhc2kQQkfav2M0sC9kG4AXDJ6nOlpi8iSbJSVVPKHN9wzGzN1gxo2dDtaua9VfHd5MTOWiRV6ArL6pzwzSzAPSAgUFZZhc4RHGzk5ChHsJBaO3gzvn8GF4Cr7P7GahgXEhw98u1Z0VlNqDmp37B4cUHm5dujBm7jQXGTvPqM5zuDHwiviFId6OMjcjW6xZNckM9_KM8opmUYN_RKP-YPs51qrz9NVksS73JOhHpBHtVQMDCFycT6ZSKv-zdwZN7_FW7=w2160-h856-no)"
      ]
    },
    {
      "cell_type": "markdown",
      "metadata": {
        "id": "6cMgoMfCa04s",
        "colab_type": "text"
      },
      "source": [
        "# 들어가며"
      ]
    },
    {
      "cell_type": "markdown",
      "metadata": {
        "id": "RbbfuWbnYG4p",
        "colab_type": "text"
      },
      "source": [
        "## Google Colab 사용 방법"
      ]
    },
    {
      "cell_type": "markdown",
      "metadata": {
        "id": "N-19yBZf9p0X",
        "colab_type": "text"
      },
      "source": [
        "- 방향키 ↑↓: 셀 간 이동\n",
        "- Enter: 편집모드\n",
        "- Ctrl + Enter: 셀 실행\n",
        "- Shift + Enter: 셀 실행 + 다음 셀 선택\n",
        "\n",
        "---\n",
        "\n",
        "- Ctrl +M D: 셀 삭제\n",
        "- Ctrl + M K: 셀 위로 이동\n",
        "- Ctrl + M J: 셀 아래로 이동"
      ]
    },
    {
      "cell_type": "markdown",
      "metadata": {
        "id": "lzIDPJDeUOjE",
        "colab_type": "text"
      },
      "source": [
        "# NumPy의 존재 이유\n"
      ]
    },
    {
      "cell_type": "markdown",
      "metadata": {
        "id": "ph6QEFZ7hH7n",
        "colab_type": "text"
      },
      "source": [
        "![alt text](https://lh3.googleusercontent.com/AP7oMf3hAk2jjhu_cHRNZ6JHxjOZ9FOtthMkSw_wPoRBgSuroW8s4BhP5vAeOrMoBlc7fTeX79ItwpWn5Wmek4wunewkSVe_emEmmFxJUlFbM-a4mFE06ghc5dmpsa9pIRbXQbadTpnOYw9lY9Ujr-UKp5rqi_-IUEh7SFUoWhcGv2ch60Kz3u1j0TWukwW4xCOXd85gkesdMHsaMo_qllLu1mzWeIrABxeASD3n8RuWyiETGJruH5mpiq0X7PkprxJkbwTmaOfwQTolZp64xW05yvXb2xEN_dJuHaWvhCdX05RVcqjw6JjWrqnmLKSwYKgHUy-l4yXBgsZFSh0Vi-di4-DB4e5LxNJa_9ykJuC9sr_msdeub6EMBJnvwziHIkdqwmfUUEl13EHFpkbt2AsJVeSj-ctJTUIxGCx1kD2OPA0VID_BTNpJDBXH1RtMC8JoRysIClD4NVL0tSh96R0ZownNqE8FZlextg86VQuhP7_CRSFtuEdzD5I0SxHDqPWhHzA9Okb5gmDwBykEf55jla53ta1thdxwKG8uJAm9ksW0lnsmG7HcA0l6UJibRJVhnf4-jEmJ_0CvCQ61rf0lbP_-bJOGOy3HZP5NrqOfVbJvX0Ey9UYURK1H7XuhDdydyTi4JY_V-7htYv7RxKUTED5Bd7R1WiQnCIYwbrDPbTyR6KHZgO7ydMp37hOlr9Fw745ASonaxuyPA2XTdRSCXg=w708-h371-no)\n",
        "\n",
        "NumPy는 Pandas, Scikit-learn, Tensorflow등 데이터 사이언스 분야에서 사용되는 라이브러리들의 토대가 되는 라이브러리입니다. NumPy 그 자체로는 높은 수준의 데이터 분석 기능을 제공하지 않지만 NumPy를 활용해 데이터를 Python상에서 표현하고 다룰 줄 알아야만 데이터 분석이라는 그 이후 단계로 나아갈 수 있습니다.\n",
        "\n",
        "이번 강의에서는 데이터 분석의 토대가 될 NumPy의 기본 기능들과 더 빠르고 효율적인 연산을 위한 NumPy 활용법들을 다룰 예정입니다."
      ]
    },
    {
      "cell_type": "markdown",
      "metadata": {
        "id": "-532MytnX9MS",
        "colab_type": "text"
      },
      "source": [
        "## 데이터 과학에서 다차원 배열의 필요성"
      ]
    },
    {
      "cell_type": "markdown",
      "metadata": {
        "id": "-Q-jtnLMzU_E",
        "colab_type": "text"
      },
      "source": [
        "### 숫자 자료형"
      ]
    },
    {
      "cell_type": "markdown",
      "metadata": {
        "id": "3dM8Kpc6ieIl",
        "colab_type": "text"
      },
      "source": [
        "파이썬에서는 데이터를 숫자형 변수에 저장할 수 있습니다.\n",
        "\n",
        "세명의 학생들로 이루어진 반이 있고 이 학생들의 수학점수를 각각의 **숫자형 변수**에 저장하는 경우 아래처럼 처리할 수 있습니다."
      ]
    },
    {
      "cell_type": "code",
      "metadata": {
        "id": "uBPH_VzffLcT",
        "colab_type": "code",
        "colab": {}
      },
      "source": [
        "MathScore1 = 11\n",
        "MathScore2 = 12\n",
        "MathScore3 = 13"
      ],
      "execution_count": 0,
      "outputs": []
    },
    {
      "cell_type": "markdown",
      "metadata": {
        "id": "8S69KSR0k-Ua",
        "colab_type": "text"
      },
      "source": [
        "점수들의 합과, 평균은 아래처럼 구할 수 있습니다."
      ]
    },
    {
      "cell_type": "code",
      "metadata": {
        "id": "17qPqrBJfU5o",
        "colab_type": "code",
        "outputId": "52dfb0a1-7503-476f-ac31-befdfb8eed43",
        "colab": {
          "base_uri": "https://localhost:8080/",
          "height": 54
        }
      },
      "source": [
        "MathScoreSum = MathScore1 + MathScore2 + MathScore3\n",
        "MathScoreAverage = MathScoreSum/3\n",
        "\n",
        "print(\"수학점수 합: {}\".format(MathScoreSum))\n",
        "print(\"수학점수 평균: {}\".format(MathScoreAverage))"
      ],
      "execution_count": 0,
      "outputs": [
        {
          "output_type": "stream",
          "text": [
            "수학점수 합: 36\n",
            "수학점수 평균: 12.0\n"
          ],
          "name": "stdout"
        }
      ]
    },
    {
      "cell_type": "markdown",
      "metadata": {
        "id": "28PfXZzYmkwo",
        "colab_type": "text"
      },
      "source": [
        "만약 새로운 학생이 전학을 와서 시험을 쳤고 이 학생의 성적을 추가한 점수들의 합과 평균을 구하려면 어떻게 해야 할까요?\n",
        "\n",
        "새로운 변수를 추가해야 합니다."
      ]
    },
    {
      "cell_type": "code",
      "metadata": {
        "id": "qdzLb2iPm41S",
        "colab_type": "code",
        "colab": {}
      },
      "source": [
        "MathScore4 = 14"
      ],
      "execution_count": 0,
      "outputs": []
    },
    {
      "cell_type": "markdown",
      "metadata": {
        "id": "xS6-rRa7m83D",
        "colab_type": "text"
      },
      "source": [
        "그리고 합과 평균을 구하는 코드 역시 수정해야합니다."
      ]
    },
    {
      "cell_type": "code",
      "metadata": {
        "id": "LLsJ9qawm7vA",
        "colab_type": "code",
        "outputId": "c58935d0-8d91-4f2a-9ecc-7ebe20a34d27",
        "colab": {
          "base_uri": "https://localhost:8080/",
          "height": 54
        }
      },
      "source": [
        "MathScoreSum = MathScore1 + MathScore2 + MathScore3 + MathScore4  # 추가된 MathScore4를 합 구할때 고려\n",
        "MathScoreAverage = MathScoreSum/4                                 # 수정: 분모를 3에서 4로 수정\n",
        "\n",
        "print(\"수학점수 합: {}\".format(MathScoreSum))\n",
        "print(\"수학점수 평균: {}\".format(MathScoreAverage))"
      ],
      "execution_count": 0,
      "outputs": [
        {
          "output_type": "stream",
          "text": [
            "수학점수 합: 50\n",
            "수학점수 평균: 12.5\n"
          ],
          "name": "stdout"
        }
      ]
    },
    {
      "cell_type": "markdown",
      "metadata": {
        "id": "ojfCyAcWzZvz",
        "colab_type": "text"
      },
      "source": [
        "### 리스트 자료형"
      ]
    },
    {
      "cell_type": "markdown",
      "metadata": {
        "id": "G5_DhNL4o3Fs",
        "colab_type": "text"
      },
      "source": [
        "추가된 데이터를 새로 선언해 주는것은 어쩔수 없다 하더라도 합과 평균을 구하는 코드를 매번 변경하는건 비효율적인 일입니다."
      ]
    },
    {
      "cell_type": "markdown",
      "metadata": {
        "id": "YndLMp1Zznur",
        "colab_type": "text"
      },
      "source": [
        "리스트 자료형에 데이터를 저장하면 이 문제를 해결할 수 있습니다.\n",
        "\n",
        "다섯명의 학생들로 이루어진 반이 있고 이 학생들의 수학점수를 **리스트**에 저장하는 경우 아래처럼 처리할 수 있습니다."
      ]
    },
    {
      "cell_type": "code",
      "metadata": {
        "id": "RkZXCTbMyvDz",
        "colab_type": "code",
        "outputId": "ea57d8ba-52b1-43d4-facc-4370529e9d09",
        "colab": {
          "base_uri": "https://localhost:8080/",
          "height": 35
        }
      },
      "source": [
        "MathScoreList = [11, 12, 13]\n",
        "\n",
        "print(MathScoreList)"
      ],
      "execution_count": 0,
      "outputs": [
        {
          "output_type": "stream",
          "text": [
            "[11, 12, 13]\n"
          ],
          "name": "stdout"
        }
      ]
    },
    {
      "cell_type": "markdown",
      "metadata": {
        "id": "arCJlQ3J0RY5",
        "colab_type": "text"
      },
      "source": [
        "점수들의 합과, 평균은 아래처럼 구할 수 있습니다."
      ]
    },
    {
      "cell_type": "code",
      "metadata": {
        "id": "0nfV0KGFfU3a",
        "colab_type": "code",
        "outputId": "bf77344d-310a-4374-8e5c-f4704d4a790c",
        "colab": {
          "base_uri": "https://localhost:8080/",
          "height": 54
        }
      },
      "source": [
        "listMathScoreSum = 0      # 변수 선언&초기화\n",
        "listMathScoreAverage = 0  # 변수 선언&초기화\n",
        "\n",
        "for e in MathScoreList:\n",
        "  listMathScoreSum += e   # listMathScoreSum = listMathScoreSum + e 와 동일한 코드\n",
        "  \n",
        "listMathScoreAverage = listMathScoreSum / len(MathScoreList)\n",
        "\n",
        "print(\"수학점수 합: {}\".format(listMathScoreSum))\n",
        "print(\"수학점수 평균: {}\".format(listMathScoreAverage))"
      ],
      "execution_count": 0,
      "outputs": [
        {
          "output_type": "stream",
          "text": [
            "수학점수 합: 36\n",
            "수학점수 평균: 12.0\n"
          ],
          "name": "stdout"
        }
      ]
    },
    {
      "cell_type": "markdown",
      "metadata": {
        "id": "iyULeL49s1o3",
        "colab_type": "text"
      },
      "source": [
        "만약 새로운 학생이 전학을 와서 시험을 쳤고 이 학생의 성적을 추가한 점수들의 합과 평균을 구하려면 어떻게 해야 할까요?\n",
        "\n",
        "~~새로운 변수를 추가해야 합니다.~~\n",
        "\n",
        "기존의 리스트에 새로운 데이터를 추가하면 됩니다."
      ]
    },
    {
      "cell_type": "code",
      "metadata": {
        "id": "XLU6-OJO02Pq",
        "colab_type": "code",
        "colab": {}
      },
      "source": [
        "# append: list의 끝에 요소를 추가할 때 사용하는 메서드\n",
        "MathScoreList.append(14)  # 데이터 추가"
      ],
      "execution_count": 0,
      "outputs": []
    },
    {
      "cell_type": "markdown",
      "metadata": {
        "id": "WwlsHrpO06-B",
        "colab_type": "text"
      },
      "source": [
        "~~그리고 합과 평균을 구하는 코드 역시 수정해야합니다.~~\n",
        "\n",
        "새로운 데이터가 추가되더라도 평균과 합을 구하는 **코드는 수정 없이 그대로 사용할 수 있습니다**."
      ]
    },
    {
      "cell_type": "code",
      "metadata": {
        "id": "hZ9b6Es8fU1Q",
        "colab_type": "code",
        "outputId": "d12b7b5e-0fb5-44c9-86b6-ff32e7858f2b",
        "colab": {
          "base_uri": "https://localhost:8080/",
          "height": 54
        }
      },
      "source": [
        "listMathScoreSum = 0      # 변수 선언&초기화\n",
        "listMathScoreAverage = 0  # 변수 선언&초기화\n",
        "\n",
        "for e in MathScoreList:\n",
        "  listMathScoreSum += e   # listMathScoreSum = listMathScoreSum + e 와 동일한 코드\n",
        "  \n",
        "listMathScoreAverage = listMathScoreSum / len(MathScoreList)\n",
        "\n",
        "print(\"수학점수 합: {}\".format(listMathScoreSum))\n",
        "print(\"수학점수 평균: {}\".format(listMathScoreAverage))"
      ],
      "execution_count": 0,
      "outputs": [
        {
          "output_type": "stream",
          "text": [
            "수학점수 합: 50\n",
            "수학점수 평균: 12.5\n"
          ],
          "name": "stdout"
        }
      ]
    },
    {
      "cell_type": "markdown",
      "metadata": {
        "id": "HaiPjaN4lgr0",
        "colab_type": "text"
      },
      "source": [
        "만약 시험문제의 오류가 발견되어 모두 정답처리를 해 모든 학생의 점수를 1점씩 올려줘야 하는 상황에서는 어떻게 해야할까요?\n",
        "\n",
        "반복문이나 List comprehension같은 방법이 있습니다."
      ]
    },
    {
      "cell_type": "markdown",
      "metadata": {
        "colab_type": "text",
        "id": "gwRCBixOvF4R"
      },
      "source": [
        "**반복문**"
      ]
    },
    {
      "cell_type": "code",
      "metadata": {
        "colab_type": "code",
        "id": "DWLrwbYJvF4J",
        "outputId": "d3388fa7-36df-4a24-e14d-c52e046c7765",
        "colab": {
          "base_uri": "https://localhost:8080/",
          "height": 35
        }
      },
      "source": [
        "MathScoreList2 = []\n",
        "for e in MathScoreList:\n",
        "  MathScoreList2.append(e+1)\n",
        "  \n",
        "\n",
        "print(MathScoreList2)"
      ],
      "execution_count": 0,
      "outputs": [
        {
          "output_type": "stream",
          "text": [
            "[12, 13, 14, 15]\n"
          ],
          "name": "stdout"
        }
      ]
    },
    {
      "cell_type": "markdown",
      "metadata": {
        "id": "JhKvljj4nxEh",
        "colab_type": "text"
      },
      "source": [
        "**List Comprehension**"
      ]
    },
    {
      "cell_type": "code",
      "metadata": {
        "id": "5eViBzeRjmxp",
        "colab_type": "code",
        "outputId": "945db289-aabe-4e68-caf6-ff76c0276989",
        "colab": {
          "base_uri": "https://localhost:8080/",
          "height": 35
        }
      },
      "source": [
        "MathScoreList3 = [e +1 for e in MathScoreList]\n",
        "\n",
        "print(MathScoreList3)"
      ],
      "execution_count": 0,
      "outputs": [
        {
          "output_type": "stream",
          "text": [
            "[12, 13, 14, 15]\n"
          ],
          "name": "stdout"
        }
      ]
    },
    {
      "cell_type": "markdown",
      "metadata": {
        "id": "fx6d-Cq8X9HP",
        "colab_type": "text"
      },
      "source": [
        "## 파이썬 기본 자료형으로 구현한 다차원 배열"
      ]
    },
    {
      "cell_type": "markdown",
      "metadata": {
        "id": "z-7ZLOVbu798",
        "colab_type": "text"
      },
      "source": [
        "#### Nested List (중첩 리스트)"
      ]
    },
    {
      "cell_type": "markdown",
      "metadata": {
        "id": "C-611O6VyZek",
        "colab_type": "text"
      },
      "source": [
        "1반의 점수가 11, 12, 13\n",
        "\n",
        "2반의 점수가 21, 22, 23\n",
        "\n",
        "3반의 점수가 31, 32, 33점이라고 한다면,\n",
        "\n",
        "리스트 안에 리스트를 넣어 위 데이터를 아래처럼 나타낼 수 있습니다."
      ]
    },
    {
      "cell_type": "code",
      "metadata": {
        "id": "MZU0pOw4u48h",
        "colab_type": "code",
        "outputId": "a11f09ad-bb70-4d2a-bb99-0d2853aa95b3",
        "colab": {
          "base_uri": "https://localhost:8080/",
          "height": 35
        }
      },
      "source": [
        "MathScoreNestedList = [[11, 12, 13], [21, 22, 23], [31, 32, 33]]\n",
        "\n",
        "print(MathScoreNestedList)"
      ],
      "execution_count": 0,
      "outputs": [
        {
          "output_type": "stream",
          "text": [
            "[[11, 12, 13], [21, 22, 23], [31, 32, 33]]\n"
          ],
          "name": "stdout"
        }
      ]
    },
    {
      "cell_type": "markdown",
      "metadata": {
        "id": "Lc76UfCXvO06",
        "colab_type": "text"
      },
      "source": [
        "<p class=\"aligncenter\">\n",
        "    <img src=\"https://lh3.googleusercontent.com/pQw2wvQVpsV40t7Uk6O-iNMwVX0GUesvvA-snrEVl1lGWeRsrDjU-2YlkO0jlW7XFMmQNVQchD1XM4sbWVSPtTWjvSc50mY2iuFKNYc72N-rSvymejq4dCpuG4WeheZ2M4tqkJzO37xcujHDe4MJNc0URISUgTXt2452rMh2wDrCVKOa0Ywh85x3cqL9IRYJxjUm0yKmjtCTJhDSXZVEXvnc1RtQoLJzviQsSp6yDdHrA7UwZNBzgMQc3_ol7PUREYY3tLXTXs0_eA-XaJ_J0ONIk2xUnW4B_erXbjeA-UDXFg76BXSmq0CHmcmIewz__z7QI8W7XMS-p087h2mvgxHQFC9tOE2SKQl8oLHFKPm5QrViTs1vrH6sHSYfVoEnJ4XHtV4GPEU0gRco2aYF6x7lfM6I_FGDG0Xm1lncuZUxJ6ger9CF5KB0t881bJbnAvx3WdpPNPw23uG2CqqcadZ5phhvLhh7UDT_kmvq9p04w2E1OTRGxnpljA0qppfFIAAB9wcKdD7cJW48cYjoFTnxKxRaIJYATgquEQ7uzLXsmMu_JeWQpe7gjPlc0lTzguOYp5Rn0vLRxeYZhsN2rwO-g_9XBgZ5_smxUuVYLQeujJvJL41NwOkLtWHWe-r1B449P7Y2Y1uktbd0v5xDRPsde4MynOh3TJWUVw8S2bTP82giPHRryz3l3NRfMaxAJ-fgEggmJV7RNelOAnKYIXnNLA=w1124-h422-no\" alt=\"centered image\"  width=\"400\" height=\"200\">\n",
        "</p>\n",
        "\n",
        "> (source: https://cognitiveclass.ai/blog/nested-lists-multidimensional-numpy-arrays/)"
      ]
    },
    {
      "cell_type": "markdown",
      "metadata": {
        "id": "bJJJv6tHz0FA",
        "colab_type": "text"
      },
      "source": [
        "각 원소에 1을 더하는 코드는 아래와 같습니다."
      ]
    },
    {
      "cell_type": "code",
      "metadata": {
        "id": "NuyFbrDWyzRH",
        "colab_type": "code",
        "outputId": "f716d1d4-cae8-4770-9182-511e1a511f13",
        "colab": {
          "base_uri": "https://localhost:8080/",
          "height": 35
        }
      },
      "source": [
        "MathScoreNestedList2 = []\n",
        "\n",
        "for list in MathScoreNestedList:\n",
        "  tempList = []\n",
        "  \n",
        "  for e in list:\n",
        "    tempList.append(e+1)\n",
        "  \n",
        "  MathScoreNestedList2.append(tempList)\n",
        "  \n",
        "\n",
        "print(MathScoreNestedList2)"
      ],
      "execution_count": 0,
      "outputs": [
        {
          "output_type": "stream",
          "text": [
            "[[12, 13, 14], [22, 23, 24], [32, 33, 34]]\n"
          ],
          "name": "stdout"
        }
      ]
    },
    {
      "cell_type": "markdown",
      "metadata": {
        "id": "Ggk9YaVCEeQk",
        "colab_type": "text"
      },
      "source": [
        "#### 문제점\n",
        "\n",
        "1차원에서 2차원으로 데이터의 차원이 증가하니 반복문도 하나 더 사용해야 합니다.\n",
        "\n",
        "데이터의 차원이 증가할수록 코드는 복잡해질 수밖에 없습니다."
      ]
    },
    {
      "cell_type": "markdown",
      "metadata": {
        "id": "KyRVZiGsX8-d",
        "colab_type": "text"
      },
      "source": [
        "## NumPy로 구현한 다차원 배열"
      ]
    },
    {
      "cell_type": "markdown",
      "metadata": {
        "id": "VAJJqz6Gx-LD",
        "colab_type": "text"
      },
      "source": [
        "**NumPy**를 사용하면 다차원배열을 효율적으로 다룰 수 있습니다.\n",
        "\n",
        "`import numpy as np` 형태로 import하는게 일반적입니다."
      ]
    },
    {
      "cell_type": "code",
      "metadata": {
        "id": "oWA0-ULoyHe2",
        "colab_type": "code",
        "outputId": "1a8b8e68-a7b0-4a71-d66e-1d6c4f8a4d41",
        "colab": {
          "base_uri": "https://localhost:8080/",
          "height": 72
        }
      },
      "source": [
        "import numpy as np\n",
        "\n",
        "mathScoreNdarray = np.array(MathScoreNestedList)\n",
        "# mathScoreNdarray = np.array([[11, 12, 13], [21, 22, 23], [31, 32, 33]])\n",
        "\n",
        "print(mathScoreNdarray)"
      ],
      "execution_count": 0,
      "outputs": [
        {
          "output_type": "stream",
          "text": [
            "[[11 12 13]\n",
            " [21 22 23]\n",
            " [31 32 33]]\n"
          ],
          "name": "stdout"
        }
      ]
    },
    {
      "cell_type": "code",
      "metadata": {
        "id": "eBOJNzZzci-R",
        "colab_type": "code",
        "outputId": "4fdca28d-c129-417e-dd7d-8f81df558bff",
        "colab": {
          "base_uri": "https://localhost:8080/",
          "height": 72
        }
      },
      "source": [
        "mathScoreNdarray"
      ],
      "execution_count": 0,
      "outputs": [
        {
          "output_type": "execute_result",
          "data": {
            "text/plain": [
              "array([[11, 12, 13],\n",
              "       [21, 22, 23],\n",
              "       [31, 32, 33]])"
            ]
          },
          "metadata": {
            "tags": []
          },
          "execution_count": 17
        }
      ]
    },
    {
      "cell_type": "markdown",
      "metadata": {
        "id": "lgl_tzgkC7Zt",
        "colab_type": "text"
      },
      "source": [
        "각 원소에 1을 더하려면"
      ]
    },
    {
      "cell_type": "code",
      "metadata": {
        "id": "d3fecKmbyjVJ",
        "colab_type": "code",
        "outputId": "161796f7-3053-4d9c-91bb-35746a5fc551",
        "colab": {
          "base_uri": "https://localhost:8080/",
          "height": 72
        }
      },
      "source": [
        "mathScoreNdarray + 1 # 이것이 바로 브로드캐스팅! 후반부에 다룰 예정입니다."
      ],
      "execution_count": 0,
      "outputs": [
        {
          "output_type": "execute_result",
          "data": {
            "text/plain": [
              "array([[12, 13, 14],\n",
              "       [22, 23, 24],\n",
              "       [32, 33, 34]])"
            ]
          },
          "metadata": {
            "tags": []
          },
          "execution_count": 18
        }
      ]
    },
    {
      "cell_type": "markdown",
      "metadata": {
        "id": "0tvgQrXOC-U9",
        "colab_type": "text"
      },
      "source": [
        "NumPy에 구현된 메서드를 활용해 합이나 평균도 쉽게 구할 수 있습니다."
      ]
    },
    {
      "cell_type": "code",
      "metadata": {
        "id": "ZSoke9ZuGTO9",
        "colab_type": "code",
        "outputId": "aa142737-b971-4a09-b112-9d41a3122100",
        "colab": {
          "base_uri": "https://localhost:8080/",
          "height": 35
        }
      },
      "source": [
        "# 전체 합 구하기\n",
        "np.sum(mathScoreNdarray)"
      ],
      "execution_count": 0,
      "outputs": [
        {
          "output_type": "execute_result",
          "data": {
            "text/plain": [
              "198"
            ]
          },
          "metadata": {
            "tags": []
          },
          "execution_count": 19
        }
      ]
    },
    {
      "cell_type": "code",
      "metadata": {
        "id": "io9nIHuLDAYn",
        "colab_type": "code",
        "outputId": "da5a1650-cb48-4ebb-8b9d-84caf4252f04",
        "colab": {
          "base_uri": "https://localhost:8080/",
          "height": 35
        }
      },
      "source": [
        "# 전체 평균 구하기\n",
        "np.mean(mathScoreNdarray)"
      ],
      "execution_count": 0,
      "outputs": [
        {
          "output_type": "execute_result",
          "data": {
            "text/plain": [
              "22.0"
            ]
          },
          "metadata": {
            "tags": []
          },
          "execution_count": 20
        }
      ]
    },
    {
      "cell_type": "code",
      "metadata": {
        "id": "rmXOPrigDJQN",
        "colab_type": "code",
        "outputId": "9785612a-d36c-46bd-d22f-274e3e518313",
        "colab": {
          "base_uri": "https://localhost:8080/",
          "height": 35
        }
      },
      "source": [
        "# 열의 평균 구하기\n",
        "np.mean(mathScoreNdarray, axis=0)"
      ],
      "execution_count": 0,
      "outputs": [
        {
          "output_type": "execute_result",
          "data": {
            "text/plain": [
              "array([21., 22., 23.])"
            ]
          },
          "metadata": {
            "tags": []
          },
          "execution_count": 21
        }
      ]
    },
    {
      "cell_type": "code",
      "metadata": {
        "id": "oi3vpqc9DJEL",
        "colab_type": "code",
        "outputId": "39e9776f-8b26-4baf-c3f2-53c6d868c6df",
        "colab": {
          "base_uri": "https://localhost:8080/",
          "height": 35
        }
      },
      "source": [
        "# 행의 평균 구하기\n",
        "np.mean(mathScoreNdarray, axis=1)"
      ],
      "execution_count": 0,
      "outputs": [
        {
          "output_type": "execute_result",
          "data": {
            "text/plain": [
              "array([12., 22., 32.])"
            ]
          },
          "metadata": {
            "tags": []
          },
          "execution_count": 22
        }
      ]
    },
    {
      "cell_type": "markdown",
      "metadata": {
        "id": "WO1oIiOgX83Z",
        "colab_type": "text"
      },
      "source": [
        "## 파이썬 기본 자료형과 넘파이 비교 "
      ]
    },
    {
      "cell_type": "markdown",
      "metadata": {
        "id": "ZsvICvfxa3vR",
        "colab_type": "text"
      },
      "source": [
        "### Helper class"
      ]
    },
    {
      "cell_type": "markdown",
      "metadata": {
        "id": "JPq9Zh8Ekg9n",
        "colab_type": "text"
      },
      "source": [
        "#### 정의\n",
        "\n"
      ]
    },
    {
      "cell_type": "code",
      "metadata": {
        "id": "cxDX7HUYZ3GC",
        "colab_type": "code",
        "cellView": "code",
        "colab": {}
      },
      "source": [
        "# 이해하지 않아도 됩니다. NumPy 강의와 무관하며 시간을 측정하기 위한 클래스 입니다.\n",
        "import time\n",
        "class Timer(object):\n",
        "    def __init__(self, name=None):\n",
        "        self.name = name\n",
        "\n",
        "    def __enter__(self):\n",
        "        self.tstart = time.time()\n",
        "\n",
        "    def __exit__(self, type, value, traceback):\n",
        "        if self.name:\n",
        "            print('[%s]' % self.name)\n",
        "        print('Elapsed: %s' % (time.time() - self.tstart))\n"
      ],
      "execution_count": 0,
      "outputs": []
    },
    {
      "cell_type": "markdown",
      "metadata": {
        "id": "bCgr99-nklgF",
        "colab_type": "text"
      },
      "source": [
        "#### 사용법"
      ]
    },
    {
      "cell_type": "code",
      "metadata": {
        "id": "8gt-EEnbaKPh",
        "colab_type": "code",
        "outputId": "370fc393-0e2f-4456-b8c9-c18c06bd57a6",
        "colab": {
          "base_uri": "https://localhost:8080/",
          "height": 54
        }
      },
      "source": [
        "with Timer('여기에 이름을 입력하세요'):\n",
        "   # 아래에 시간측정을 하고자 하는 코드를 입력하세요.\n",
        "  time.sleep(1)"
      ],
      "execution_count": 0,
      "outputs": [
        {
          "output_type": "stream",
          "text": [
            "[여기에 이름을 입력하세요]\n",
            "Elapsed: 1.0010218620300293\n"
          ],
          "name": "stdout"
        }
      ]
    },
    {
      "cell_type": "markdown",
      "metadata": {
        "id": "hF_Smb1tbYoU",
        "colab_type": "text"
      },
      "source": [
        "### 비교"
      ]
    },
    {
      "cell_type": "code",
      "metadata": {
        "id": "gTrzJCePGKG2",
        "colab_type": "code",
        "cellView": "both",
        "colab": {}
      },
      "source": [
        "# 크기가 100개 이내인 경우 NumPy는 순수 파이썬 구현 보다도 오히려 낮은 성능을 보이는 경향이 있습니다.\n",
        "\n",
        "# rows ,cols가 2일떄 아래 타이머코드를 실행해 보고 rows, cols를 1000으로 바꾼 뒤 다시 코드를 실행 해 보세요.\n",
        "# 차이를 볼 수 있습니다.\n",
        "rows = 2  # 행\n",
        "cols = 2  # 열\n",
        "sampleRand2Darray = np.random.rand(rows, cols)  # ndarry 선언\n",
        "sampleRand2Dlist = sampleRand2Darray.tolist()   # nested list 선언"
      ],
      "execution_count": 0,
      "outputs": []
    },
    {
      "cell_type": "code",
      "metadata": {
        "id": "O0q9eIhjGn7f",
        "colab_type": "code",
        "outputId": "aa582b92-e462-4c2f-efdc-66fe5045fc7f",
        "colab": {
          "base_uri": "https://localhost:8080/",
          "height": 54
        }
      },
      "source": [
        "# rows, cols가 1000넘어갈땐 실행 하지 마세요. (노트북 멈춥니다.)\n",
        "sampleRand2Darray"
      ],
      "execution_count": 0,
      "outputs": [
        {
          "output_type": "execute_result",
          "data": {
            "text/plain": [
              "array([[0.9832522 , 0.78621452],\n",
              "       [0.64226373, 0.86609726]])"
            ]
          },
          "metadata": {
            "tags": []
          },
          "execution_count": 26
        }
      ]
    },
    {
      "cell_type": "code",
      "metadata": {
        "id": "34YB4XnRGnj2",
        "colab_type": "code",
        "outputId": "1158c2b0-027f-444e-9908-eeb969717548",
        "colab": {
          "base_uri": "https://localhost:8080/",
          "height": 54
        }
      },
      "source": [
        "# rows, cols가 1000넘어갈땐 실행 하지 마세요. (노트북 멈춥니다.)\n",
        "sampleRand2Dlist"
      ],
      "execution_count": 0,
      "outputs": [
        {
          "output_type": "execute_result",
          "data": {
            "text/plain": [
              "[[0.9832522028749261, 0.7862145151600328],\n",
              " [0.642263728830452, 0.8660972559465785]]"
            ]
          },
          "metadata": {
            "tags": []
          },
          "execution_count": 27
        }
      ]
    },
    {
      "cell_type": "code",
      "metadata": {
        "id": "JvAxm8IdFrx9",
        "colab_type": "code",
        "outputId": "ea90d90c-3dad-463f-9d76-7ee526693ab6",
        "colab": {
          "base_uri": "https://localhost:8080/",
          "height": 181
        }
      },
      "source": [
        "with Timer('파이썬 기본 자료형 사용 - 모든 원소의 합 구하기'):\n",
        "  sum = 0\n",
        "\n",
        "  for list in sampleRand2Dlist:\n",
        "    for e in list:\n",
        "      sum += e\n",
        "\n",
        "with Timer('파이썬 기본 자료형 사용 - 모든 원소에 1 더하기'):\n",
        "  sampleRand2Dlist2 = []\n",
        "\n",
        "  for list in sampleRand2Dlist:\n",
        "    tempList = []\n",
        "\n",
        "    for e in list:\n",
        "      tempList.append(e+1)\n",
        "\n",
        "    sampleRand2Dlist2.append(tempList)\n",
        "\n",
        "print(\"----------------------------------------------\")\n",
        "\n",
        "with Timer('NumPy사용 - 모든 원소의 합 구하기'):\n",
        "  sum = np.sum(sampleRand2Darray)\n",
        "\n",
        "with Timer('NumPy사용 - 모든 원소에 1 더하기'):\n",
        "  sampleRand2Darray2 = sampleRand2Darray + 1       "
      ],
      "execution_count": 0,
      "outputs": [
        {
          "output_type": "stream",
          "text": [
            "[파이썬 기본 자료형 사용 - 모든 원소의 합 구하기]\n",
            "Elapsed: 0.0009598731994628906\n",
            "[파이썬 기본 자료형 사용 - 모든 원소에 1 더하기]\n",
            "Elapsed: 0.0002117156982421875\n",
            "----------------------------------------------\n",
            "[NumPy사용 - 모든 원소의 합 구하기]\n",
            "Elapsed: 0.00019741058349609375\n",
            "[NumPy사용 - 모든 원소에 1 더하기]\n",
            "Elapsed: 0.00027823448181152344\n"
          ],
          "name": "stdout"
        }
      ]
    },
    {
      "cell_type": "markdown",
      "metadata": {
        "id": "C5afV1nFfowk",
        "colab_type": "text"
      },
      "source": [
        "#### NumPy 장점\n",
        "\n",
        "- 코어 부분이 C로 구현되어 동일한 연산을 하더라도 Python에 비해 속도가 빠름\n",
        "- 라이브러리에 구현되어있는 함수들을 활용해 짧고 간결한 코드 작성 가능\n",
        "- (효율적인 메모리 사용이 가능하도록 구현됨)"
      ]
    },
    {
      "cell_type": "markdown",
      "metadata": {
        "id": "UzwJlSsmPtTq",
        "colab_type": "text"
      },
      "source": [
        "### (참고) ndarray가 list보다 빠른 이유"
      ]
    },
    {
      "cell_type": "markdown",
      "metadata": {
        "id": "gEqzxKWIMXSv",
        "colab_type": "text"
      },
      "source": [
        "![alt text](https://lh3.googleusercontent.com/JD1ljKEm4S_4hvIu8XqTLUw75AjB6K-ElhXY6oMqBiPVEPIkNpHjlMLKsTbpWMIXOZ1X3Ompb-v3lI5FHqlyWWOFR0Pg3vLsio9_8OSgFoAywjGAC6oY85kCahlx-rJtSqW9M3szyXBVjrnlUYIo3opwX7ch7BYaV6sLReXAOwcJThS4f-E-PQWOzwSsCerL_-QEi_wcEV_4Aef_q0u9lrcjvZX-OwW-AcSILKPIB3yoZar4zTTOPHz-miQ4yq2gOktHY1wR4izuJ5SmIT2feKEdP6sD5So8I24vdt1mKKjro3fQenb9ExtH-zAxlJQarxaDnklts7801rG56sa6sE69ZJBp3ZzJ8qr59SM1xf2t9dU1WHcIvMWM5g39B85aIYHRCFmqfwaAx6Gl8x7To_33nyLpc8hA6gIbPQ46O6N_I3-s2G_t5E1dt9mEr0v9fgnco5ib53RP7myVnH6prsSOP4n0hzSvf_gBvKsYIJ2TJA-631XcIR5K7VgE6kycjbVGtTlfDn5fTbVbjgJyIR2xhjPFQ85rxpLnPD0NLE8LzGzjA7bo3CJiBjd0CUHbjbUbUINtLHm8H8lT9U7vZIEzLSIA4dvO3SujTC8R8F7dPBO5Bc91VTWF1mqUftGeWmIdJ61E-KlKb6lRYnRdNq55scpLa3sX2Y2v3tCFq4uHvUM2VO4gkyi_9WNZciyoq1gQD8e9_Ig3aUsWdU87JJMQNw=w638-h479-no)\n",
        "\n",
        "> (source: https://image.slidesharecdn.com/numpy20160519-160516164831/95/numpy-8-638.jpg)"
      ]
    },
    {
      "cell_type": "markdown",
      "metadata": {
        "id": "H-w7yLTNSuMM",
        "colab_type": "text"
      },
      "source": [
        "**파이썬 list가 느린 이유**\n",
        "\n",
        "- 파이썬 리스트는 결국 포인터의 배열\n",
        "- 경우에 따라서 각각 객체가 메모리 여기저기 흩어져 있음\n",
        "- 그러므로 캐시 활용이 어려움\n",
        "\n",
        "**NumPy ndarray가 빠른 이유**\n",
        "\n",
        "- ndarray는 타입을 명시하여 원소의 배열로 데이터를 유지\n",
        "- 다차원 데이터도 연속된 메모리 공간이 할당됨\n",
        "- 많은 연산이 dimensions과 strides를 잘 활용하면 효율적으로 가능\n",
        "  - 가령 transpose는 strides를 바꾸는 것으로 거의 공짜\n",
        "- ndarray 구현 방식을 떠올리면 어떻게 성능을 낼 수 있는지 상상 가능\n",
        "\n"
      ]
    },
    {
      "cell_type": "markdown",
      "metadata": {
        "id": "lZvri5rGa9ky",
        "colab_type": "text"
      },
      "source": [
        "- 예) NumPy에서 Transpose 구현"
      ]
    },
    {
      "cell_type": "markdown",
      "metadata": {
        "id": "tHcsagXmaore",
        "colab_type": "text"
      },
      "source": [
        "![alt text](https://lh3.googleusercontent.com/-cTovEUtM3SZj9_Pd12Sf_hkJpwr9hvvlOTQVC80Q697w8bsSV7I4sAru5fHmgxU7FmxZtq9ZqgvOAqZg41oFjXaEwAtLMLVmN75BIk6HClFMfC6jecLYB6sKDWQUNcLDb2Pt5Vbi8jUVb6VLyWbZGvCVYobh1ev1aNvPoCrqBtR8uv1P8E99xSoaIvzp4dvVG14b_eLBGKuTnak0P305F8OgJgQq2M0Q8_unVPygZOo-vdA9fPx8z_LpOqB0ZIqIXEhf7NmsRWk0cuuUkgJlqJselVnHnTSIVCIohQaOLAU1U_Acufab3szF4BGP-D3DUUQaPcsN-HhxIkSEaFgxuylaRbEUOdYWeXwvuYe9tzNkIzndFtWaQ0MfeBbwlEscaIRVjxsICdCdT0xvX8vpgBegnNQUSo0kT2e3JjY3VLO8YQZ28W457BMyz_2NA_hKuwcGeFWotVoN0AlUTNNQSlpwQzitwSAsi_IlVfNDRYTTTFb-9dTjD9rdgQid3khyHmelE6k1VYayHnwJsJPiD_hcNGYpUChhC5WD-05Qg-R6vrOWXCvkB0tG4Q7fxMIh1_-fhOwEyEOsH91byk4afqJx559LeHldNiDVeU6I-rJRPtkG5mrBYPr0jD2uSIDvpX0ATVesWlunIKD7kvctEidPx8I7yhbKaI96L81K5cbGg49To2OpUaNZ3ttvZiztErvTbkLhruKXIj253HWAI2Jdg=w720-h405-no)"
      ]
    },
    {
      "cell_type": "code",
      "metadata": {
        "id": "bo2JDzn3X5LZ",
        "colab_type": "code",
        "colab": {}
      },
      "source": [
        "x = np.array([[1,2],[3,4]], dtype=np.int8)\n",
        "\n",
        "y = x.T"
      ],
      "execution_count": 0,
      "outputs": []
    },
    {
      "cell_type": "code",
      "metadata": {
        "id": "LZpAtMh_X-Xd",
        "colab_type": "code",
        "outputId": "bd40e1b0-ddec-4205-ae18-5289872ddadf",
        "colab": {
          "base_uri": "https://localhost:8080/",
          "height": 54
        }
      },
      "source": [
        "x"
      ],
      "execution_count": 0,
      "outputs": [
        {
          "output_type": "execute_result",
          "data": {
            "text/plain": [
              "array([[1, 2],\n",
              "       [3, 4]], dtype=int8)"
            ]
          },
          "metadata": {
            "tags": []
          },
          "execution_count": 30
        }
      ]
    },
    {
      "cell_type": "code",
      "metadata": {
        "id": "5JU0K-K2X95g",
        "colab_type": "code",
        "outputId": "cf267cf3-9163-4f27-a45a-974db2a8a770",
        "colab": {
          "base_uri": "https://localhost:8080/",
          "height": 54
        }
      },
      "source": [
        "y"
      ],
      "execution_count": 0,
      "outputs": [
        {
          "output_type": "execute_result",
          "data": {
            "text/plain": [
              "array([[1, 3],\n",
              "       [2, 4]], dtype=int8)"
            ]
          },
          "metadata": {
            "tags": []
          },
          "execution_count": 31
        }
      ]
    },
    {
      "cell_type": "code",
      "metadata": {
        "id": "46HZuKvGgCAE",
        "colab_type": "code",
        "outputId": "2c532ec9-c31b-4cee-8f09-74891e671249",
        "colab": {
          "base_uri": "https://localhost:8080/",
          "height": 54
        }
      },
      "source": [
        "print(x.strides)\n",
        "print(y.strides)"
      ],
      "execution_count": 0,
      "outputs": [
        {
          "output_type": "stream",
          "text": [
            "(2, 1)\n",
            "(1, 2)\n"
          ],
          "name": "stdout"
        }
      ]
    },
    {
      "cell_type": "markdown",
      "metadata": {
        "id": "LdbiXqEKX8yr",
        "colab_type": "text"
      },
      "source": [
        "# 다차원 배열 생성 1"
      ]
    },
    {
      "cell_type": "markdown",
      "metadata": {
        "id": "YqF37G0_hJn1",
        "colab_type": "text"
      },
      "source": [
        "명시적으로 값을 입력해 다차원 배열을 만드는 방법을 알아봅니다."
      ]
    },
    {
      "cell_type": "markdown",
      "metadata": {
        "id": "h7VbFRMGYTU3",
        "colab_type": "text"
      },
      "source": [
        "## 다차원 배열의 자료형"
      ]
    },
    {
      "cell_type": "markdown",
      "metadata": {
        "id": "csIZ1CsL73Vj",
        "colab_type": "text"
      },
      "source": [
        "![alt text](https://lh3.googleusercontent.com/ZhC-hkgaa_zQggBdbQ8J33aW8b6Ubbccwr4dLOiVlXAuJYgBiZzRR0jcrAe9C6h26h_3xfd1UbMt6vwIpLfDffABXNKDkUT6RUZre4-j7DtYt7CFsQ1b4RdNZwfCQoSkr_BWKACQQ42krqB0Jkri4CDHGMhKgALRRiJJaQCsR0frysFtltqxiX0ScqZleBxMkADkJr8FtFKh34ERS4w3lwIqddpWd9ctgu9bJsDA19yNEmLouiwapSV7NwAXgDko3fqxo_W4CY6NU_vXxx8xoyFtaXxdXRCs2yketYJ66IP8Rv_mADUSnXfcCfgHOPlU_PzkT-cLdnfLftHgitAPrDHOqiH7EpLmgg4bO_HWIhpDwfG7iu2upN_rw-sFl64aGj4XhhbPYfmDZpnIEyrvKE4DjycH6rITqxTbhMSWfkeeUBENLusqELkVnPRikaaxYiDVPRuedOp6hNXo7R4A-TghyLn-k61kV3Ruwc14ytOWhZ0BngaDXVo-KF_ZxJUr5GuaFOZbi4UKhXbvnObRZAb0QgKaCdvkYysxU31oryDHpx526hG6SW6b99CxOWbT0lBTy0RoynGz_WVV_ua_umNcmkBNMkt3u04uCUWk8a-BqMG_oVpyqNmqetASSOhCZNbisBzkEgmo4sDbdqsNlFcY3fa-Og8mB1UNmC2uWl5RefSArRAoKn6KxZpcr6qJdl8YWT98ncW6behEO1wLoNsdBg=w526-h413-no)\n",
        "\n",
        "(source: https://docs.scipy.org/doc/numpy/reference/arrays.scalars.html)"
      ]
    },
    {
      "cell_type": "markdown",
      "metadata": {
        "id": "klF_e3KW9Vpx",
        "colab_type": "text"
      },
      "source": [
        "다차원 배열의 원소는 위와 같은 데이터 타입을 가질 수 있습니다.\n",
        "\n",
        "다차원 배열의 원소는 동일한 데이터 타입을 가져야 합니다."
      ]
    },
    {
      "cell_type": "markdown",
      "metadata": {
        "id": "T0lV8kuGYTkg",
        "colab_type": "text"
      },
      "source": [
        "## 직접 원소를 입력해서 다차원 배열 생성하기"
      ]
    },
    {
      "cell_type": "markdown",
      "metadata": {
        "id": "8NpxbG2gDGnA",
        "colab_type": "text"
      },
      "source": [
        "**np.array()**를 사용해 다차원 배열을 생성할 수 있습니다."
      ]
    },
    {
      "cell_type": "markdown",
      "metadata": {
        "id": "MWPPYiNFBuJa",
        "colab_type": "text"
      },
      "source": [
        "### bool"
      ]
    },
    {
      "cell_type": "markdown",
      "metadata": {
        "id": "ppE0ijaUC6x5",
        "colab_type": "text"
      },
      "source": [
        "boolean 데이터를 입력해서 다차원 배열을 생성해봅시다."
      ]
    },
    {
      "cell_type": "code",
      "metadata": {
        "id": "_a7cfM8aBiaf",
        "colab_type": "code",
        "colab": {}
      },
      "source": [
        "boolArray = np.array([True, False, True, True, False])"
      ],
      "execution_count": 0,
      "outputs": []
    },
    {
      "cell_type": "code",
      "metadata": {
        "id": "o8vfhrvL8o4l",
        "colab_type": "code",
        "outputId": "4e20ea35-f80c-4c9b-856a-d5d8197ede88",
        "colab": {
          "base_uri": "https://localhost:8080/",
          "height": 35
        }
      },
      "source": [
        "boolArray"
      ],
      "execution_count": 0,
      "outputs": [
        {
          "output_type": "execute_result",
          "data": {
            "text/plain": [
              "array([ True, False,  True,  True, False])"
            ]
          },
          "metadata": {
            "tags": []
          },
          "execution_count": 34
        }
      ]
    },
    {
      "cell_type": "code",
      "metadata": {
        "id": "cakQ3-2HBp54",
        "colab_type": "code",
        "outputId": "981a466f-e37f-4de0-f779-94fe1d927f24",
        "colab": {
          "base_uri": "https://localhost:8080/",
          "height": 35
        }
      },
      "source": [
        "boolArray.dtype"
      ],
      "execution_count": 0,
      "outputs": [
        {
          "output_type": "execute_result",
          "data": {
            "text/plain": [
              "dtype('bool')"
            ]
          },
          "metadata": {
            "tags": []
          },
          "execution_count": 35
        }
      ]
    },
    {
      "cell_type": "markdown",
      "metadata": {
        "id": "SPopJWaXBxOP",
        "colab_type": "text"
      },
      "source": [
        "### number"
      ]
    },
    {
      "cell_type": "markdown",
      "metadata": {
        "id": "W1vU7-rxDqZi",
        "colab_type": "text"
      },
      "source": [
        "number 데이터를 입력해서 다차원 배열을 생성해봅시다.\n",
        "\n",
        "정수형, 부호없는 정수형, 실수형, 복소수형이 있습니다."
      ]
    },
    {
      "cell_type": "markdown",
      "metadata": {
        "id": "VCNgKGDuCJSM",
        "colab_type": "text"
      },
      "source": [
        "#### 정수형"
      ]
    },
    {
      "cell_type": "markdown",
      "metadata": {
        "id": "riYQenZzEUt_",
        "colab_type": "text"
      },
      "source": [
        "정수형의 default data type은 'int64'입니다.\n",
        "\n",
        "<font color=\"red\">(진실: default data type은 운영체제에 따라 다릅니다.)</font>"
      ]
    },
    {
      "cell_type": "code",
      "metadata": {
        "id": "QPVhK1XvB6sH",
        "colab_type": "code",
        "colab": {}
      },
      "source": [
        "intArray = np.array([[1, 2], [3, 4]])"
      ],
      "execution_count": 0,
      "outputs": []
    },
    {
      "cell_type": "code",
      "metadata": {
        "id": "_0m-Jv15B_ha",
        "colab_type": "code",
        "outputId": "746bbd15-913a-4d2d-ac02-3345a222e78b",
        "colab": {
          "base_uri": "https://localhost:8080/",
          "height": 54
        }
      },
      "source": [
        "intArray"
      ],
      "execution_count": 0,
      "outputs": [
        {
          "output_type": "execute_result",
          "data": {
            "text/plain": [
              "array([[1, 2],\n",
              "       [3, 4]])"
            ]
          },
          "metadata": {
            "tags": []
          },
          "execution_count": 37
        }
      ]
    },
    {
      "cell_type": "code",
      "metadata": {
        "id": "XynD9eUOB_Zf",
        "colab_type": "code",
        "outputId": "ef4755c6-2cf7-4200-9ce6-f3ca1151e89d",
        "colab": {
          "base_uri": "https://localhost:8080/",
          "height": 35
        }
      },
      "source": [
        "intArray.dtype"
      ],
      "execution_count": 0,
      "outputs": [
        {
          "output_type": "execute_result",
          "data": {
            "text/plain": [
              "dtype('int64')"
            ]
          },
          "metadata": {
            "tags": []
          },
          "execution_count": 38
        }
      ]
    },
    {
      "cell_type": "markdown",
      "metadata": {
        "id": "6ZENZr82D1jh",
        "colab_type": "text"
      },
      "source": [
        "#### 부호없는 정수형"
      ]
    },
    {
      "cell_type": "markdown",
      "metadata": {
        "id": "9-eWQM6JEY48",
        "colab_type": "text"
      },
      "source": [
        "부호없는 정수형의 default data type은 'uint64'입니다."
      ]
    },
    {
      "cell_type": "code",
      "metadata": {
        "id": "9xYaFEmMD39n",
        "colab_type": "code",
        "colab": {}
      },
      "source": [
        "uintArray = np.array([[1, 2], [3, 4]], dtype='uint')\n",
        "# uintArray = np.array([[1, 2], [3, 4]], dtype='uint64')"
      ],
      "execution_count": 0,
      "outputs": []
    },
    {
      "cell_type": "code",
      "metadata": {
        "id": "COosTXN_EBiR",
        "colab_type": "code",
        "outputId": "0e006e02-8878-46dd-e0d5-4a56103a3b00",
        "colab": {
          "base_uri": "https://localhost:8080/",
          "height": 54
        }
      },
      "source": [
        "uintArray"
      ],
      "execution_count": 0,
      "outputs": [
        {
          "output_type": "execute_result",
          "data": {
            "text/plain": [
              "array([[1, 2],\n",
              "       [3, 4]], dtype=uint64)"
            ]
          },
          "metadata": {
            "tags": []
          },
          "execution_count": 40
        }
      ]
    },
    {
      "cell_type": "code",
      "metadata": {
        "id": "_y00GptXEBOm",
        "colab_type": "code",
        "outputId": "bc9e8fa3-a8b2-41d7-87b1-e71b4de6281d",
        "colab": {
          "base_uri": "https://localhost:8080/",
          "height": 35
        }
      },
      "source": [
        "uintArray.dtype"
      ],
      "execution_count": 0,
      "outputs": [
        {
          "output_type": "execute_result",
          "data": {
            "text/plain": [
              "dtype('uint64')"
            ]
          },
          "metadata": {
            "tags": []
          },
          "execution_count": 41
        }
      ]
    },
    {
      "cell_type": "markdown",
      "metadata": {
        "id": "9H0yDDqMB0fu",
        "colab_type": "text"
      },
      "source": [
        "#### 실수형"
      ]
    },
    {
      "cell_type": "markdown",
      "metadata": {
        "id": "efVd88hfEjFr",
        "colab_type": "text"
      },
      "source": [
        "실수형의 default data type은 'float64'입니다."
      ]
    },
    {
      "cell_type": "code",
      "metadata": {
        "id": "ZlMmubOcCQbV",
        "colab_type": "code",
        "colab": {}
      },
      "source": [
        "floatArray = np.array([[1.1, 2.2], [3.3, 4.4]])\n",
        "floatArray = np.array([[1.1, 2.2], [3.3, 4.4]], dtype='float64')"
      ],
      "execution_count": 0,
      "outputs": []
    },
    {
      "cell_type": "code",
      "metadata": {
        "id": "9Yi94xAtCQYJ",
        "colab_type": "code",
        "outputId": "8aee2eaf-af3b-4732-bfd3-780212635104",
        "colab": {
          "base_uri": "https://localhost:8080/",
          "height": 54
        }
      },
      "source": [
        "floatArray"
      ],
      "execution_count": 0,
      "outputs": [
        {
          "output_type": "execute_result",
          "data": {
            "text/plain": [
              "array([[1.1, 2.2],\n",
              "       [3.3, 4.4]])"
            ]
          },
          "metadata": {
            "tags": []
          },
          "execution_count": 43
        }
      ]
    },
    {
      "cell_type": "code",
      "metadata": {
        "id": "IME-bubKCQTA",
        "colab_type": "code",
        "outputId": "4fd8ccc6-23c4-43ac-e5bd-402070fac4a5",
        "colab": {
          "base_uri": "https://localhost:8080/",
          "height": 35
        }
      },
      "source": [
        "floatArray.dtype"
      ],
      "execution_count": 0,
      "outputs": [
        {
          "output_type": "execute_result",
          "data": {
            "text/plain": [
              "dtype('float64')"
            ]
          },
          "metadata": {
            "tags": []
          },
          "execution_count": 44
        }
      ]
    },
    {
      "cell_type": "markdown",
      "metadata": {
        "id": "DWSVrft6IXv_",
        "colab_type": "text"
      },
      "source": [
        "##### 형변환"
      ]
    },
    {
      "cell_type": "markdown",
      "metadata": {
        "id": "WLO7UIQGEras",
        "colab_type": "text"
      },
      "source": [
        "데이터가 정수로 입력되더라도 data type을 실수형으로 명시한다면 실수형으로 자동 형변환이 일어납니다."
      ]
    },
    {
      "cell_type": "code",
      "metadata": {
        "id": "HIOBnBfECg_h",
        "colab_type": "code",
        "colab": {}
      },
      "source": [
        "floatArray2 = np.array([[1, 2], [3, 4]], dtype='float64')"
      ],
      "execution_count": 0,
      "outputs": []
    },
    {
      "cell_type": "code",
      "metadata": {
        "id": "TIs7n0qTCg8o",
        "colab_type": "code",
        "outputId": "d85e1bd2-c9e9-4ea2-de46-1ea5ab596365",
        "colab": {
          "base_uri": "https://localhost:8080/",
          "height": 54
        }
      },
      "source": [
        "floatArray2"
      ],
      "execution_count": 0,
      "outputs": [
        {
          "output_type": "execute_result",
          "data": {
            "text/plain": [
              "array([[1., 2.],\n",
              "       [3., 4.]])"
            ]
          },
          "metadata": {
            "tags": []
          },
          "execution_count": 46
        }
      ]
    },
    {
      "cell_type": "code",
      "metadata": {
        "id": "5R-yc4IHCg4K",
        "colab_type": "code",
        "outputId": "bdfe4ef0-32d4-4017-bacb-c79172c82159",
        "colab": {
          "base_uri": "https://localhost:8080/",
          "height": 35
        }
      },
      "source": [
        "floatArray2.dtype"
      ],
      "execution_count": 0,
      "outputs": [
        {
          "output_type": "execute_result",
          "data": {
            "text/plain": [
              "dtype('float64')"
            ]
          },
          "metadata": {
            "tags": []
          },
          "execution_count": 47
        }
      ]
    },
    {
      "cell_type": "markdown",
      "metadata": {
        "id": "ac-kL0GrIJXT",
        "colab_type": "text"
      },
      "source": [
        "##### 더 나은 방법"
      ]
    },
    {
      "cell_type": "markdown",
      "metadata": {
        "id": "YOXJ-BHNI0WF",
        "colab_type": "text"
      },
      "source": [
        "1.0, 2.0, 3.0, 4.0이라는 실수형 데이터를 가지는 다차원배열을 만들고 싶었다면, 아래 방법이 더 나은 코딩표준입니다."
      ]
    },
    {
      "cell_type": "code",
      "metadata": {
        "id": "4TRVN90hH-Q0",
        "colab_type": "code",
        "colab": {}
      },
      "source": [
        "floatArray3 = np.array([[1., 2.], [3., 4.]])"
      ],
      "execution_count": 0,
      "outputs": []
    },
    {
      "cell_type": "code",
      "metadata": {
        "id": "t_EosM17IDgy",
        "colab_type": "code",
        "outputId": "3daab660-68cb-43aa-f786-481151e37253",
        "colab": {
          "base_uri": "https://localhost:8080/",
          "height": 54
        }
      },
      "source": [
        "floatArray3"
      ],
      "execution_count": 0,
      "outputs": [
        {
          "output_type": "execute_result",
          "data": {
            "text/plain": [
              "array([[1., 2.],\n",
              "       [3., 4.]])"
            ]
          },
          "metadata": {
            "tags": []
          },
          "execution_count": 49
        }
      ]
    },
    {
      "cell_type": "code",
      "metadata": {
        "id": "Sfln3jgRIDWI",
        "colab_type": "code",
        "outputId": "b4653279-4408-4958-d633-0c6e7fe539fb",
        "colab": {
          "base_uri": "https://localhost:8080/",
          "height": 35
        }
      },
      "source": [
        "floatArray3.dtype"
      ],
      "execution_count": 0,
      "outputs": [
        {
          "output_type": "execute_result",
          "data": {
            "text/plain": [
              "dtype('float64')"
            ]
          },
          "metadata": {
            "tags": []
          },
          "execution_count": 50
        }
      ]
    },
    {
      "cell_type": "markdown",
      "metadata": {
        "id": "dQT7fOIGG0Np",
        "colab_type": "text"
      },
      "source": [
        "##### 참고"
      ]
    },
    {
      "cell_type": "markdown",
      "metadata": {
        "id": "GgSv92NxH0Lp",
        "colab_type": "text"
      },
      "source": [
        "정수형에서 실수형으로의 형변환 과정은 데이터 손실이 일어나지 않아 문제될 부분이 없지만 반대의 경우에는 문제가 발생할 수 있습니다."
      ]
    },
    {
      "cell_type": "code",
      "metadata": {
        "id": "OyI5R0pKHLjG",
        "colab_type": "code",
        "colab": {}
      },
      "source": [
        "intArray2 = np.array([[1.1, 2.2], [3.3, 4.4]], dtype='int')"
      ],
      "execution_count": 0,
      "outputs": []
    },
    {
      "cell_type": "code",
      "metadata": {
        "id": "0rqDle1lHSjP",
        "colab_type": "code",
        "outputId": "aa3867e9-450a-4fe4-94e5-0e38a8b05a2a",
        "colab": {
          "base_uri": "https://localhost:8080/",
          "height": 54
        }
      },
      "source": [
        "intArray2"
      ],
      "execution_count": 0,
      "outputs": [
        {
          "output_type": "execute_result",
          "data": {
            "text/plain": [
              "array([[1, 2],\n",
              "       [3, 4]])"
            ]
          },
          "metadata": {
            "tags": []
          },
          "execution_count": 52
        }
      ]
    },
    {
      "cell_type": "markdown",
      "metadata": {
        "id": "2w0QOfD3Igzv",
        "colab_type": "text"
      },
      "source": [
        "실수가 정수로 형변환되며 데이터의 손실이 발생했습니다.\n",
        "<font color=\"red\">입력한 데이터와 다차원 배열내의 데이터가 다릅니다.</font>"
      ]
    },
    {
      "cell_type": "markdown",
      "metadata": {
        "id": "LbE2qHLjB0O9",
        "colab_type": "text"
      },
      "source": [
        "#### (참고) 복소수형"
      ]
    },
    {
      "cell_type": "markdown",
      "metadata": {
        "id": "wkKPYQREGH40",
        "colab_type": "text"
      },
      "source": [
        "복소수형의 default data type은 'complex128'입니다."
      ]
    },
    {
      "cell_type": "code",
      "metadata": {
        "id": "8YHs9hemF42o",
        "colab_type": "code",
        "colab": {}
      },
      "source": [
        "complexArray = np.array([1+1j, 2+2j, 3+3j, 4+4j, 5+5j])"
      ],
      "execution_count": 0,
      "outputs": []
    },
    {
      "cell_type": "code",
      "metadata": {
        "id": "JhWPA4DI53Eq",
        "colab_type": "code",
        "outputId": "652a5bd7-196a-4264-800d-b15969f946dc",
        "colab": {
          "base_uri": "https://localhost:8080/",
          "height": 35
        }
      },
      "source": [
        "complexArray"
      ],
      "execution_count": 0,
      "outputs": [
        {
          "output_type": "execute_result",
          "data": {
            "text/plain": [
              "array([1.+1.j, 2.+2.j, 3.+3.j, 4.+4.j, 5.+5.j])"
            ]
          },
          "metadata": {
            "tags": []
          },
          "execution_count": 54
        }
      ]
    },
    {
      "cell_type": "code",
      "metadata": {
        "id": "OfF1aCfQGCw3",
        "colab_type": "code",
        "outputId": "4cae21c7-600a-4393-ce8f-97926a90d4e0",
        "colab": {
          "base_uri": "https://localhost:8080/",
          "height": 35
        }
      },
      "source": [
        "complexArray.dtype"
      ],
      "execution_count": 0,
      "outputs": [
        {
          "output_type": "execute_result",
          "data": {
            "text/plain": [
              "dtype('complex128')"
            ]
          },
          "metadata": {
            "tags": []
          },
          "execution_count": 55
        }
      ]
    },
    {
      "cell_type": "markdown",
      "metadata": {
        "id": "-FJY7VRbYTuR",
        "colab_type": "text"
      },
      "source": [
        "## 파일에서 데이터를 입력 받아 다차원 배열 생성하기\n"
      ]
    },
    {
      "cell_type": "markdown",
      "metadata": {
        "id": "3HdL2XcfTbAO",
        "colab_type": "text"
      },
      "source": [
        "np.genfromtxt()을 이용하여 파일에 저장된 데이터를 입력받아 다차원 배열을 생성할 수 있습니다.\n",
        "\n",
        "하지만 사용할 일은 많지 않습니다. 그 이유는,\n",
        "\n",
        "- NumPy ndarray는 동일한 데이터타입만을 가질 수 있습니다.\n",
        "- 대부분 데이터 파일에는 하나의 데이터 타입만 있는게 아니라 정수, 실수, 문자열이 섞여 있습니다.\n",
        "\n",
        "파일에서 데이터를 읽어올땐 NumPy의 genfromtxt()보단 **Pandas의 read_csv()나 read_excel()**을 주로 사용합니다."
      ]
    },
    {
      "cell_type": "markdown",
      "metadata": {
        "id": "87ZULGqjNVo9",
        "colab_type": "text"
      },
      "source": [
        "### 예시"
      ]
    },
    {
      "cell_type": "code",
      "metadata": {
        "id": "s3dNZLWiMfMj",
        "colab_type": "code",
        "outputId": "b9ca4644-d9aa-4770-cf57-4ed00a181e7c",
        "colab": {
          "base_uri": "https://localhost:8080/",
          "height": 217
        }
      },
      "source": [
        "# 파일 다운로드 받기\n",
        "!wget -O 'mnist_train_super_small.csv' https://docs.google.com/spreadsheets/d/1lUBHgDlG5EVoZxfSF84X5jbcyynjnWSK8_weiQApt2M/export?format=csv"
      ],
      "execution_count": 0,
      "outputs": [
        {
          "output_type": "stream",
          "text": [
            "--2020-01-09 03:13:33--  https://docs.google.com/spreadsheets/d/1lUBHgDlG5EVoZxfSF84X5jbcyynjnWSK8_weiQApt2M/export?format=csv\n",
            "Resolving docs.google.com (docs.google.com)... 172.217.218.100, 172.217.218.139, 172.217.218.113, ...\n",
            "Connecting to docs.google.com (docs.google.com)|172.217.218.100|:443... connected.\n",
            "HTTP request sent, awaiting response... 200 OK\n",
            "Length: unspecified [text/csv]\n",
            "Saving to: ‘mnist_train_super_small.csv’\n",
            "\n",
            "\r          mnist_tra     [<=>                 ]       0  --.-KB/s               \rmnist_train_super_s     [ <=>                ]   1.03K  --.-KB/s    in 0s      \n",
            "\n",
            "2020-01-09 03:13:34 (68.2 MB/s) - ‘mnist_train_super_small.csv’ saved [1051]\n",
            "\n"
          ],
          "name": "stdout"
        }
      ]
    },
    {
      "cell_type": "code",
      "metadata": {
        "id": "tyGFs4eANb5f",
        "colab_type": "code",
        "colab": {}
      },
      "source": [
        "import numpy as np\n",
        "fromCSVArray = np.genfromtxt('mnist_train_super_small.csv', delimiter=',')"
      ],
      "execution_count": 0,
      "outputs": []
    },
    {
      "cell_type": "code",
      "metadata": {
        "id": "jJV40k7tNbyA",
        "colab_type": "code",
        "outputId": "0a5f5115-d93f-45cb-fcd8-7106e9d243ae",
        "colab": {
          "base_uri": "https://localhost:8080/",
          "height": 1000
        }
      },
      "source": [
        "fromCSVArray"
      ],
      "execution_count": 0,
      "outputs": [
        {
          "output_type": "execute_result",
          "data": {
            "text/plain": [
              "array([[ 21., 248., 246.,  34.,   0.,   0.,   0.,   0.,   5.,  61., 234.,\n",
              "        152.],\n",
              "       [  0.,   0.,   0.,   0.,   0.,   0.,   0.,  92., 254., 196.,   0.,\n",
              "          0.],\n",
              "       [  0.,   0.,   0.,   0.,   0.,  19., 201., 254., 196.,  15.,   0.,\n",
              "          0.],\n",
              "       [  0.,   0.,   0.,   0.,   0.,   0., 169., 254., 254., 222.,  30.,\n",
              "          0.],\n",
              "       [  0.,   0.,   0.,   0.,   0.,   0.,   0.,   0.,  19., 228., 252.,\n",
              "         57.],\n",
              "       [253., 204., 178., 141., 191., 254., 228.,  53.,   4.,   0.,   0.,\n",
              "          0.],\n",
              "       [  0.,   0.,   0.,   0.,   0.,   0.,   0.,   0., 114., 254., 253.,\n",
              "        168.],\n",
              "       [255.,  29.,   0.,   3.,  30.,  79.,   0.,   0.,   0.,   0.,   0.,\n",
              "          0.],\n",
              "       [  0.,   0.,  14., 158., 244., 253., 203.,  12.,   0.,   0.,   0.,\n",
              "          0.],\n",
              "       [253., 191.,  84.,   0.,   0.,   0.,   0.,  73., 253., 253., 145.,\n",
              "          0.],\n",
              "       [253., 253., 253., 253., 253., 253., 114.,   0.,   0.,   0.,   0.,\n",
              "          0.],\n",
              "       [  0.,   0.,   0., 132., 252., 253., 252., 172.,  30.,   0.,   0.,\n",
              "          0.],\n",
              "       [254., 254., 254., 255., 254., 254., 254., 254., 254., 254., 254.,\n",
              "         37.],\n",
              "       [  0.,   0.,   0.,   0.,   0.,   0.,   0.,   0.,   0.,   0.,  48.,\n",
              "        123.],\n",
              "       [ 63., 253., 253.,  93.,   0.,   0.,   0.,   0.,   0.,   0.,   0.,\n",
              "          0.],\n",
              "       [  0.,   0.,  20.,   0.,  82., 253., 151.,   0.,   0.,   0.,   0.,\n",
              "          0.],\n",
              "       [ 57.,   0.,   0.,   0.,   4., 169., 252., 252., 161.,   0.,   0.,\n",
              "          0.],\n",
              "       [  6.,  44., 185., 239., 253., 254., 181.,  57.,   0.,   0.,   0.,\n",
              "          0.],\n",
              "       [  0.,   0.,   0., 101., 250.,  28.,   0.,   0.,   0.,   0.,   0.,\n",
              "          0.],\n",
              "       [236., 222.,   0.,   0.,   0., 174., 249.,  56.,   0.,   0.,   0.,\n",
              "          0.],\n",
              "       [  0.,   0.,   0., 164., 255., 255., 202.,   0.,   0.,   0.,   0.,\n",
              "          0.],\n",
              "       [ 51.,  51., 113., 193., 254., 233., 142., 122., 254., 192.,   0.,\n",
              "          0.],\n",
              "       [139., 139., 140., 139., 139., 139., 140., 165., 252., 252., 101.,\n",
              "          0.],\n",
              "       [252., 252., 253., 252., 252., 252., 253., 252.,  71.,   0.,   0.,\n",
              "          0.],\n",
              "       [ 76.,  76.,  76.,  18.,   0., 231., 253., 106.,   0.,   0.,   0.,\n",
              "          0.],\n",
              "       [114., 236., 252., 252.,  96.,   0.,   0.,   0.,   0.,   0.,   0.,\n",
              "          0.],\n",
              "       [  0.,   0.,   0.,   0.,   0.,   0.,   0., 198., 253., 254., 253.,\n",
              "          0.],\n",
              "       [134., 252., 252., 252., 253., 192.,   0.,   0.,   0.,   0.,   0.,\n",
              "          0.],\n",
              "       [  0.,   0.,   0.,   0.,   0.,   0.,   0.,   0., 254., 233.,   0.,\n",
              "          0.],\n",
              "       [ 89.,   6.,   0.,   6., 200., 254., 249.,  50.,   0.,   0.,   0.,\n",
              "          0.]])"
            ]
          },
          "metadata": {
            "tags": []
          },
          "execution_count": 58
        }
      ]
    },
    {
      "cell_type": "markdown",
      "metadata": {
        "id": "D6Oz2Ld0NQPW",
        "colab_type": "text"
      },
      "source": [
        "### 구글 드라이브에서 파일 가져오기"
      ]
    },
    {
      "cell_type": "code",
      "metadata": {
        "id": "HXF0Vl0pKNar",
        "colab_type": "code",
        "outputId": "e6e787ca-e08e-485a-f2f7-43b87a96b19b",
        "colab": {
          "base_uri": "https://localhost:8080/",
          "height": 128
        }
      },
      "source": [
        "# 구글드라이브의 파일을 가져오고 싶은 경우\n",
        "\n",
        "# 구글드라이브 마운트\n",
        "from google.colab import drive\n",
        "drive.mount('/content/drive')"
      ],
      "execution_count": 0,
      "outputs": [
        {
          "output_type": "stream",
          "text": [
            "Go to this URL in a browser: https://accounts.google.com/o/oauth2/auth?client_id=947318989803-6bn6qk8qdgf4n4g3pfee6491hc0brc4i.apps.googleusercontent.com&redirect_uri=urn%3aietf%3awg%3aoauth%3a2.0%3aoob&response_type=code&scope=email%20https%3a%2f%2fwww.googleapis.com%2fauth%2fdocs.test%20https%3a%2f%2fwww.googleapis.com%2fauth%2fdrive%20https%3a%2f%2fwww.googleapis.com%2fauth%2fdrive.photos.readonly%20https%3a%2f%2fwww.googleapis.com%2fauth%2fpeopleapi.readonly\n",
            "\n",
            "Enter your authorization code:\n",
            "··········\n",
            "Mounted at /content/drive\n"
          ],
          "name": "stdout"
        }
      ]
    },
    {
      "cell_type": "code",
      "metadata": {
        "id": "c5AgQYcnKjkM",
        "colab_type": "code",
        "outputId": "2c622cc5-698f-4142-e6b8-c4b3efa5581e",
        "colab": {
          "base_uri": "https://localhost:8080/",
          "height": 324
        }
      },
      "source": [
        "# 구글드라이브내에 있는 파일 경로 지정\n",
        "fromCSVArray = np.genfromtxt('/content/drive/My Drive/talk-on-seminar-numpy/resources/mnist_train_super_small.csv', delimiter=',')"
      ],
      "execution_count": 0,
      "outputs": [
        {
          "output_type": "error",
          "ename": "OSError",
          "evalue": "ignored",
          "traceback": [
            "\u001b[0;31m---------------------------------------------------------------------------\u001b[0m",
            "\u001b[0;31mOSError\u001b[0m                                   Traceback (most recent call last)",
            "\u001b[0;32m<ipython-input-60-607cd5221f6b>\u001b[0m in \u001b[0;36m<module>\u001b[0;34m()\u001b[0m\n\u001b[0;32m----> 1\u001b[0;31m \u001b[0mfromCSVArray\u001b[0m \u001b[0;34m=\u001b[0m \u001b[0mnp\u001b[0m\u001b[0;34m.\u001b[0m\u001b[0mgenfromtxt\u001b[0m\u001b[0;34m(\u001b[0m\u001b[0;34m'/content/drive/My Drive/talk-on-seminar-numpy/resources/mnist_train_super_small.csv'\u001b[0m\u001b[0;34m,\u001b[0m \u001b[0mdelimiter\u001b[0m\u001b[0;34m=\u001b[0m\u001b[0;34m','\u001b[0m\u001b[0;34m)\u001b[0m\u001b[0;34m\u001b[0m\u001b[0;34m\u001b[0m\u001b[0m\n\u001b[0m",
            "\u001b[0;32m/usr/local/lib/python3.6/dist-packages/numpy/lib/npyio.py\u001b[0m in \u001b[0;36mgenfromtxt\u001b[0;34m(fname, dtype, comments, delimiter, skip_header, skip_footer, converters, missing_values, filling_values, usecols, names, excludelist, deletechars, replace_space, autostrip, case_sensitive, defaultfmt, unpack, usemask, loose, invalid_raise, max_rows, encoding)\u001b[0m\n\u001b[1;32m   1757\u001b[0m             \u001b[0mfname\u001b[0m \u001b[0;34m=\u001b[0m \u001b[0mos_fspath\u001b[0m\u001b[0;34m(\u001b[0m\u001b[0mfname\u001b[0m\u001b[0;34m)\u001b[0m\u001b[0;34m\u001b[0m\u001b[0;34m\u001b[0m\u001b[0m\n\u001b[1;32m   1758\u001b[0m         \u001b[0;32mif\u001b[0m \u001b[0misinstance\u001b[0m\u001b[0;34m(\u001b[0m\u001b[0mfname\u001b[0m\u001b[0;34m,\u001b[0m \u001b[0mbasestring\u001b[0m\u001b[0;34m)\u001b[0m\u001b[0;34m:\u001b[0m\u001b[0;34m\u001b[0m\u001b[0;34m\u001b[0m\u001b[0m\n\u001b[0;32m-> 1759\u001b[0;31m             \u001b[0mfid\u001b[0m \u001b[0;34m=\u001b[0m \u001b[0mnp\u001b[0m\u001b[0;34m.\u001b[0m\u001b[0mlib\u001b[0m\u001b[0;34m.\u001b[0m\u001b[0m_datasource\u001b[0m\u001b[0;34m.\u001b[0m\u001b[0mopen\u001b[0m\u001b[0;34m(\u001b[0m\u001b[0mfname\u001b[0m\u001b[0;34m,\u001b[0m \u001b[0;34m'rt'\u001b[0m\u001b[0;34m,\u001b[0m \u001b[0mencoding\u001b[0m\u001b[0;34m=\u001b[0m\u001b[0mencoding\u001b[0m\u001b[0;34m)\u001b[0m\u001b[0;34m\u001b[0m\u001b[0;34m\u001b[0m\u001b[0m\n\u001b[0m\u001b[1;32m   1760\u001b[0m             \u001b[0mfid_ctx\u001b[0m \u001b[0;34m=\u001b[0m \u001b[0mcontextlib\u001b[0m\u001b[0;34m.\u001b[0m\u001b[0mclosing\u001b[0m\u001b[0;34m(\u001b[0m\u001b[0mfid\u001b[0m\u001b[0;34m)\u001b[0m\u001b[0;34m\u001b[0m\u001b[0;34m\u001b[0m\u001b[0m\n\u001b[1;32m   1761\u001b[0m         \u001b[0;32melse\u001b[0m\u001b[0;34m:\u001b[0m\u001b[0;34m\u001b[0m\u001b[0;34m\u001b[0m\u001b[0m\n",
            "\u001b[0;32m/usr/local/lib/python3.6/dist-packages/numpy/lib/_datasource.py\u001b[0m in \u001b[0;36mopen\u001b[0;34m(path, mode, destpath, encoding, newline)\u001b[0m\n\u001b[1;32m    267\u001b[0m \u001b[0;34m\u001b[0m\u001b[0m\n\u001b[1;32m    268\u001b[0m     \u001b[0mds\u001b[0m \u001b[0;34m=\u001b[0m \u001b[0mDataSource\u001b[0m\u001b[0;34m(\u001b[0m\u001b[0mdestpath\u001b[0m\u001b[0;34m)\u001b[0m\u001b[0;34m\u001b[0m\u001b[0;34m\u001b[0m\u001b[0m\n\u001b[0;32m--> 269\u001b[0;31m     \u001b[0;32mreturn\u001b[0m \u001b[0mds\u001b[0m\u001b[0;34m.\u001b[0m\u001b[0mopen\u001b[0m\u001b[0;34m(\u001b[0m\u001b[0mpath\u001b[0m\u001b[0;34m,\u001b[0m \u001b[0mmode\u001b[0m\u001b[0;34m,\u001b[0m \u001b[0mencoding\u001b[0m\u001b[0;34m=\u001b[0m\u001b[0mencoding\u001b[0m\u001b[0;34m,\u001b[0m \u001b[0mnewline\u001b[0m\u001b[0;34m=\u001b[0m\u001b[0mnewline\u001b[0m\u001b[0;34m)\u001b[0m\u001b[0;34m\u001b[0m\u001b[0;34m\u001b[0m\u001b[0m\n\u001b[0m\u001b[1;32m    270\u001b[0m \u001b[0;34m\u001b[0m\u001b[0m\n\u001b[1;32m    271\u001b[0m \u001b[0;34m\u001b[0m\u001b[0m\n",
            "\u001b[0;32m/usr/local/lib/python3.6/dist-packages/numpy/lib/_datasource.py\u001b[0m in \u001b[0;36mopen\u001b[0;34m(self, path, mode, encoding, newline)\u001b[0m\n\u001b[1;32m    621\u001b[0m                                       encoding=encoding, newline=newline)\n\u001b[1;32m    622\u001b[0m         \u001b[0;32melse\u001b[0m\u001b[0;34m:\u001b[0m\u001b[0;34m\u001b[0m\u001b[0;34m\u001b[0m\u001b[0m\n\u001b[0;32m--> 623\u001b[0;31m             \u001b[0;32mraise\u001b[0m \u001b[0mIOError\u001b[0m\u001b[0;34m(\u001b[0m\u001b[0;34m\"%s not found.\"\u001b[0m \u001b[0;34m%\u001b[0m \u001b[0mpath\u001b[0m\u001b[0;34m)\u001b[0m\u001b[0;34m\u001b[0m\u001b[0;34m\u001b[0m\u001b[0m\n\u001b[0m\u001b[1;32m    624\u001b[0m \u001b[0;34m\u001b[0m\u001b[0m\n\u001b[1;32m    625\u001b[0m \u001b[0;34m\u001b[0m\u001b[0m\n",
            "\u001b[0;31mOSError\u001b[0m: /content/drive/My Drive/talk-on-seminar-numpy/resources/mnist_train_super_small.csv not found."
          ]
        }
      ]
    },
    {
      "cell_type": "code",
      "metadata": {
        "id": "BqJXtoaAvISo",
        "colab_type": "code",
        "outputId": "17f63bef-c7d0-48ab-d5d0-258d4d57f9ba",
        "colab": {
          "base_uri": "https://localhost:8080/",
          "height": 1000
        }
      },
      "source": [
        "fromCSVArray"
      ],
      "execution_count": 0,
      "outputs": [
        {
          "output_type": "execute_result",
          "data": {
            "text/plain": [
              "array([[ 21., 248., 246.,  34.,   0.,   0.,   0.,   0.,   5.,  61., 234.,\n",
              "        152.],\n",
              "       [  0.,   0.,   0.,   0.,   0.,   0.,   0.,  92., 254., 196.,   0.,\n",
              "          0.],\n",
              "       [  0.,   0.,   0.,   0.,   0.,  19., 201., 254., 196.,  15.,   0.,\n",
              "          0.],\n",
              "       [  0.,   0.,   0.,   0.,   0.,   0., 169., 254., 254., 222.,  30.,\n",
              "          0.],\n",
              "       [  0.,   0.,   0.,   0.,   0.,   0.,   0.,   0.,  19., 228., 252.,\n",
              "         57.],\n",
              "       [253., 204., 178., 141., 191., 254., 228.,  53.,   4.,   0.,   0.,\n",
              "          0.],\n",
              "       [  0.,   0.,   0.,   0.,   0.,   0.,   0.,   0., 114., 254., 253.,\n",
              "        168.],\n",
              "       [255.,  29.,   0.,   3.,  30.,  79.,   0.,   0.,   0.,   0.,   0.,\n",
              "          0.],\n",
              "       [  0.,   0.,  14., 158., 244., 253., 203.,  12.,   0.,   0.,   0.,\n",
              "          0.],\n",
              "       [253., 191.,  84.,   0.,   0.,   0.,   0.,  73., 253., 253., 145.,\n",
              "          0.],\n",
              "       [253., 253., 253., 253., 253., 253., 114.,   0.,   0.,   0.,   0.,\n",
              "          0.],\n",
              "       [  0.,   0.,   0., 132., 252., 253., 252., 172.,  30.,   0.,   0.,\n",
              "          0.],\n",
              "       [254., 254., 254., 255., 254., 254., 254., 254., 254., 254., 254.,\n",
              "         37.],\n",
              "       [  0.,   0.,   0.,   0.,   0.,   0.,   0.,   0.,   0.,   0.,  48.,\n",
              "        123.],\n",
              "       [ 63., 253., 253.,  93.,   0.,   0.,   0.,   0.,   0.,   0.,   0.,\n",
              "          0.],\n",
              "       [  0.,   0.,  20.,   0.,  82., 253., 151.,   0.,   0.,   0.,   0.,\n",
              "          0.],\n",
              "       [ 57.,   0.,   0.,   0.,   4., 169., 252., 252., 161.,   0.,   0.,\n",
              "          0.],\n",
              "       [  6.,  44., 185., 239., 253., 254., 181.,  57.,   0.,   0.,   0.,\n",
              "          0.],\n",
              "       [  0.,   0.,   0., 101., 250.,  28.,   0.,   0.,   0.,   0.,   0.,\n",
              "          0.],\n",
              "       [236., 222.,   0.,   0.,   0., 174., 249.,  56.,   0.,   0.,   0.,\n",
              "          0.],\n",
              "       [  0.,   0.,   0., 164., 255., 255., 202.,   0.,   0.,   0.,   0.,\n",
              "          0.],\n",
              "       [ 51.,  51., 113., 193., 254., 233., 142., 122., 254., 192.,   0.,\n",
              "          0.],\n",
              "       [139., 139., 140., 139., 139., 139., 140., 165., 252., 252., 101.,\n",
              "          0.],\n",
              "       [252., 252., 253., 252., 252., 252., 253., 252.,  71.,   0.,   0.,\n",
              "          0.],\n",
              "       [ 76.,  76.,  76.,  18.,   0., 231., 253., 106.,   0.,   0.,   0.,\n",
              "          0.],\n",
              "       [114., 236., 252., 252.,  96.,   0.,   0.,   0.,   0.,   0.,   0.,\n",
              "          0.],\n",
              "       [  0.,   0.,   0.,   0.,   0.,   0.,   0., 198., 253., 254., 253.,\n",
              "          0.],\n",
              "       [134., 252., 252., 252., 253., 192.,   0.,   0.,   0.,   0.,   0.,\n",
              "          0.],\n",
              "       [  0.,   0.,   0.,   0.,   0.,   0.,   0.,   0., 254., 233.,   0.,\n",
              "          0.],\n",
              "       [ 89.,   6.,   0.,   6., 200., 254., 249.,  50.,   0.,   0.,   0.,\n",
              "          0.]])"
            ]
          },
          "metadata": {
            "tags": []
          },
          "execution_count": 61
        }
      ]
    },
    {
      "cell_type": "markdown",
      "metadata": {
        "id": "K6FWAdVaYT1a",
        "colab_type": "text"
      },
      "source": [
        "# 다차원 배열 생성 2"
      ]
    },
    {
      "cell_type": "markdown",
      "metadata": {
        "id": "-nIkZ9IS9AAI",
        "colab_type": "text"
      },
      "source": [
        "NumPy에 구현되어있는 함수를 활용해 다차원 배열을 만드는 방법을 알아봅니다.\n",
        "\n",
        "https://docs.scipy.org/doc/numpy/reference/routines.array-creation.html"
      ]
    },
    {
      "cell_type": "markdown",
      "metadata": {
        "id": "vOPgfIGmYT89",
        "colab_type": "text"
      },
      "source": [
        "## numpy.empty"
      ]
    },
    {
      "cell_type": "markdown",
      "metadata": {
        "id": "cXi-LLekg6pC",
        "colab_type": "text"
      },
      "source": [
        "Return a new array of given shape and type, without initializing entries."
      ]
    },
    {
      "cell_type": "code",
      "metadata": {
        "id": "FfORCLsWgd39",
        "colab_type": "code",
        "outputId": "10e0f185-fb46-4086-ea9f-e4d5fc5ed0bb",
        "colab": {
          "base_uri": "https://localhost:8080/",
          "height": 90
        }
      },
      "source": [
        "np.empty((4,3))"
      ],
      "execution_count": 0,
      "outputs": [
        {
          "output_type": "execute_result",
          "data": {
            "text/plain": [
              "array([[1.10128102e-316, 5.07565891e-317, 2.56914136e-322],\n",
              "       [            nan, 5.15840664e-066, 4.95781850e-062],\n",
              "       [3.53947697e-061, 7.69124059e+169, 3.60359129e+175],\n",
              "       [2.19318776e-056, 3.99870740e+252, 1.35434015e-306]])"
            ]
          },
          "metadata": {
            "tags": []
          },
          "execution_count": 62
        }
      ]
    },
    {
      "cell_type": "code",
      "metadata": {
        "id": "_ZeJainFhFeO",
        "colab_type": "code",
        "colab": {}
      },
      "source": [
        "A = np.array([[1, 2, 3], [4, 5, 6], [7, 8, 9]])"
      ],
      "execution_count": 0,
      "outputs": []
    },
    {
      "cell_type": "code",
      "metadata": {
        "id": "ZM3ofgHfd8ie",
        "colab_type": "code",
        "outputId": "8f6d9262-ef65-4367-dcd4-8a59995fa152",
        "colab": {
          "base_uri": "https://localhost:8080/",
          "height": 72
        }
      },
      "source": [
        "A"
      ],
      "execution_count": 0,
      "outputs": [
        {
          "output_type": "execute_result",
          "data": {
            "text/plain": [
              "array([[1, 2, 3],\n",
              "       [4, 5, 6],\n",
              "       [7, 8, 9]])"
            ]
          },
          "metadata": {
            "tags": []
          },
          "execution_count": 64
        }
      ]
    },
    {
      "cell_type": "code",
      "metadata": {
        "id": "pv64IqQMhUdi",
        "colab_type": "code",
        "outputId": "ef8621db-382a-4aeb-afa6-5ad65e7212df",
        "colab": {
          "base_uri": "https://localhost:8080/",
          "height": 72
        }
      },
      "source": [
        "np.empty_like(A)"
      ],
      "execution_count": 0,
      "outputs": [
        {
          "output_type": "execute_result",
          "data": {
            "text/plain": [
              "array([[           48898816,            10273248,                  41],\n",
              "       [                 -1, 8389754706581218095, 2322280117112562735],\n",
              "       [8389772277270474606, 8295758531180589088, 7234304265016272240]])"
            ]
          },
          "metadata": {
            "tags": []
          },
          "execution_count": 65
        }
      ]
    },
    {
      "cell_type": "markdown",
      "metadata": {
        "id": "3SQd-8BcYT6O",
        "colab_type": "text"
      },
      "source": [
        "## numpy.zeros"
      ]
    },
    {
      "cell_type": "markdown",
      "metadata": {
        "id": "PKH0lUxriSA6",
        "colab_type": "text"
      },
      "source": [
        "Return a new array of given shape and type, filled with zeros."
      ]
    },
    {
      "cell_type": "code",
      "metadata": {
        "id": "gJEqvi2tiScc",
        "colab_type": "code",
        "outputId": "93397656-dee6-41c1-e9b1-df61f1342557",
        "colab": {
          "base_uri": "https://localhost:8080/",
          "height": 54
        }
      },
      "source": [
        "np.zeros((2, 3))"
      ],
      "execution_count": 0,
      "outputs": [
        {
          "output_type": "execute_result",
          "data": {
            "text/plain": [
              "array([[0., 0., 0.],\n",
              "       [0., 0., 0.]])"
            ]
          },
          "metadata": {
            "tags": []
          },
          "execution_count": 66
        }
      ]
    },
    {
      "cell_type": "code",
      "metadata": {
        "id": "aBAZ2cC9ieG9",
        "colab_type": "code",
        "outputId": "33c5dc51-effd-4c34-8ebb-3454830922da",
        "colab": {
          "base_uri": "https://localhost:8080/",
          "height": 54
        }
      },
      "source": [
        "np.zeros((2, 3), dtype=int)"
      ],
      "execution_count": 0,
      "outputs": [
        {
          "output_type": "execute_result",
          "data": {
            "text/plain": [
              "array([[0, 0, 0],\n",
              "       [0, 0, 0]])"
            ]
          },
          "metadata": {
            "tags": []
          },
          "execution_count": 67
        }
      ]
    },
    {
      "cell_type": "code",
      "metadata": {
        "id": "bxdxGvAshgGS",
        "colab_type": "code",
        "outputId": "476c609d-b02f-4d01-dd99-038538d980d8",
        "colab": {
          "base_uri": "https://localhost:8080/",
          "height": 72
        }
      },
      "source": [
        "np.zeros_like(A)"
      ],
      "execution_count": 0,
      "outputs": [
        {
          "output_type": "execute_result",
          "data": {
            "text/plain": [
              "array([[0, 0, 0],\n",
              "       [0, 0, 0],\n",
              "       [0, 0, 0]])"
            ]
          },
          "metadata": {
            "tags": []
          },
          "execution_count": 68
        }
      ]
    },
    {
      "cell_type": "markdown",
      "metadata": {
        "id": "2f6I3TUUYT--",
        "colab_type": "text"
      },
      "source": [
        "## numpy.ones"
      ]
    },
    {
      "cell_type": "markdown",
      "metadata": {
        "id": "2TtCx78Gf_Gu",
        "colab_type": "text"
      },
      "source": [
        "Return a new array of given shape and type, filled with ones."
      ]
    },
    {
      "cell_type": "code",
      "metadata": {
        "id": "51_LeiXcfpzR",
        "colab_type": "code",
        "outputId": "f33c859c-2396-494f-811d-e4d1bf5f4bcd",
        "colab": {
          "base_uri": "https://localhost:8080/",
          "height": 54
        }
      },
      "source": [
        "np.ones((2,3))"
      ],
      "execution_count": 0,
      "outputs": [
        {
          "output_type": "execute_result",
          "data": {
            "text/plain": [
              "array([[1., 1., 1.],\n",
              "       [1., 1., 1.]])"
            ]
          },
          "metadata": {
            "tags": []
          },
          "execution_count": 69
        }
      ]
    },
    {
      "cell_type": "code",
      "metadata": {
        "id": "4OqSJJs7hwbQ",
        "colab_type": "code",
        "outputId": "845b54ee-bfc6-485a-801f-07bbf691e00d",
        "colab": {
          "base_uri": "https://localhost:8080/",
          "height": 54
        }
      },
      "source": [
        "np.ones((2,3), dtype=int)"
      ],
      "execution_count": 0,
      "outputs": [
        {
          "output_type": "execute_result",
          "data": {
            "text/plain": [
              "array([[1, 1, 1],\n",
              "       [1, 1, 1]])"
            ]
          },
          "metadata": {
            "tags": []
          },
          "execution_count": 70
        }
      ]
    },
    {
      "cell_type": "code",
      "metadata": {
        "id": "FFIxgrN9hzSn",
        "colab_type": "code",
        "outputId": "bc80a0ec-c05f-4e78-d5ba-b355b53c930d",
        "colab": {
          "base_uri": "https://localhost:8080/",
          "height": 72
        }
      },
      "source": [
        "np.ones_like(A)"
      ],
      "execution_count": 0,
      "outputs": [
        {
          "output_type": "execute_result",
          "data": {
            "text/plain": [
              "array([[1, 1, 1],\n",
              "       [1, 1, 1],\n",
              "       [1, 1, 1]])"
            ]
          },
          "metadata": {
            "tags": []
          },
          "execution_count": 71
        }
      ]
    },
    {
      "cell_type": "markdown",
      "metadata": {
        "id": "iYHi8SL9jHdR",
        "colab_type": "text"
      },
      "source": [
        "## numpy.identity"
      ]
    },
    {
      "cell_type": "markdown",
      "metadata": {
        "id": "wppdmiYnjLVS",
        "colab_type": "text"
      },
      "source": [
        "Return the identity array."
      ]
    },
    {
      "cell_type": "code",
      "metadata": {
        "id": "gk5ptfwOjMoM",
        "colab_type": "code",
        "outputId": "3295b2a0-ee84-4ab4-e6f8-c456ad377cd7",
        "colab": {
          "base_uri": "https://localhost:8080/",
          "height": 54
        }
      },
      "source": [
        "np.identity(2)"
      ],
      "execution_count": 0,
      "outputs": [
        {
          "output_type": "execute_result",
          "data": {
            "text/plain": [
              "array([[1., 0.],\n",
              "       [0., 1.]])"
            ]
          },
          "metadata": {
            "tags": []
          },
          "execution_count": 72
        }
      ]
    },
    {
      "cell_type": "code",
      "metadata": {
        "id": "ufzLDxObjMbQ",
        "colab_type": "code",
        "outputId": "dba06568-f60c-434e-c236-98d1b0f0a2e2",
        "colab": {
          "base_uri": "https://localhost:8080/",
          "height": 72
        }
      },
      "source": [
        "np.identity(3, dtype=int)"
      ],
      "execution_count": 0,
      "outputs": [
        {
          "output_type": "execute_result",
          "data": {
            "text/plain": [
              "array([[1, 0, 0],\n",
              "       [0, 1, 0],\n",
              "       [0, 0, 1]])"
            ]
          },
          "metadata": {
            "tags": []
          },
          "execution_count": 73
        }
      ]
    },
    {
      "cell_type": "markdown",
      "metadata": {
        "id": "EphARzOujW1z",
        "colab_type": "text"
      },
      "source": [
        "## 참고"
      ]
    },
    {
      "cell_type": "markdown",
      "metadata": {
        "id": "i-hkaJr0iG1v",
        "colab_type": "text"
      },
      "source": [
        "### numpy.eye"
      ]
    },
    {
      "cell_type": "markdown",
      "metadata": {
        "id": "AqDYqxoIiU1x",
        "colab_type": "text"
      },
      "source": [
        "Return a 2-D array with ones on the diagonal and zeros elsewhere."
      ]
    },
    {
      "cell_type": "code",
      "metadata": {
        "id": "OMBY4vpth2fA",
        "colab_type": "code",
        "outputId": "17dd93a7-b8cc-43e3-fe47-1663545e9a63",
        "colab": {
          "base_uri": "https://localhost:8080/",
          "height": 72
        }
      },
      "source": [
        "np.eye(3)"
      ],
      "execution_count": 0,
      "outputs": [
        {
          "output_type": "execute_result",
          "data": {
            "text/plain": [
              "array([[1., 0., 0.],\n",
              "       [0., 1., 0.],\n",
              "       [0., 0., 1.]])"
            ]
          },
          "metadata": {
            "tags": []
          },
          "execution_count": 74
        }
      ]
    },
    {
      "cell_type": "code",
      "metadata": {
        "id": "RvJUTBkyh2Nr",
        "colab_type": "code",
        "outputId": "28f361b8-da31-494d-adc8-7365ed446295",
        "colab": {
          "base_uri": "https://localhost:8080/",
          "height": 72
        }
      },
      "source": [
        "np.eye(3, 4)"
      ],
      "execution_count": 0,
      "outputs": [
        {
          "output_type": "execute_result",
          "data": {
            "text/plain": [
              "array([[1., 0., 0., 0.],\n",
              "       [0., 1., 0., 0.],\n",
              "       [0., 0., 1., 0.]])"
            ]
          },
          "metadata": {
            "tags": []
          },
          "execution_count": 75
        }
      ]
    },
    {
      "cell_type": "code",
      "metadata": {
        "id": "yoB2BTKOiyvB",
        "colab_type": "code",
        "outputId": "222d90e1-6e89-4c15-c8f4-5a4eee6310c9",
        "colab": {
          "base_uri": "https://localhost:8080/",
          "height": 72
        }
      },
      "source": [
        "np.eye(3, 4, 1)"
      ],
      "execution_count": 0,
      "outputs": [
        {
          "output_type": "execute_result",
          "data": {
            "text/plain": [
              "array([[0., 1., 0., 0.],\n",
              "       [0., 0., 1., 0.],\n",
              "       [0., 0., 0., 1.]])"
            ]
          },
          "metadata": {
            "tags": []
          },
          "execution_count": 76
        }
      ]
    },
    {
      "cell_type": "code",
      "metadata": {
        "id": "Q5wD8DWRjuDs",
        "colab_type": "code",
        "outputId": "89ea89fb-29c0-46fd-edb6-79ff569549ee",
        "colab": {
          "base_uri": "https://localhost:8080/",
          "height": 72
        }
      },
      "source": [
        "np.eye(3, 4, -1)"
      ],
      "execution_count": 0,
      "outputs": [
        {
          "output_type": "execute_result",
          "data": {
            "text/plain": [
              "array([[0., 0., 0., 0.],\n",
              "       [1., 0., 0., 0.],\n",
              "       [0., 1., 0., 0.]])"
            ]
          },
          "metadata": {
            "tags": []
          },
          "execution_count": 77
        }
      ]
    },
    {
      "cell_type": "markdown",
      "metadata": {
        "id": "o2-dCEXxkAsq",
        "colab_type": "text"
      },
      "source": [
        "### numpy.full"
      ]
    },
    {
      "cell_type": "markdown",
      "metadata": {
        "id": "HlqXmw0rkHNn",
        "colab_type": "text"
      },
      "source": [
        "numpy.full(shape, fill_value, dtype=None, order='C')\n",
        "\n",
        "Return a new array of given shape and type, filled with fill_value."
      ]
    },
    {
      "cell_type": "code",
      "metadata": {
        "id": "geBFyWUEkG25",
        "colab_type": "code",
        "outputId": "03c54536-05df-498f-bc20-4e3516ab5ca9",
        "colab": {
          "base_uri": "https://localhost:8080/",
          "height": 54
        }
      },
      "source": [
        "np.full((2, 3), 10)"
      ],
      "execution_count": 0,
      "outputs": [
        {
          "output_type": "execute_result",
          "data": {
            "text/plain": [
              "array([[10, 10, 10],\n",
              "       [10, 10, 10]])"
            ]
          },
          "metadata": {
            "tags": []
          },
          "execution_count": 78
        }
      ]
    },
    {
      "cell_type": "markdown",
      "metadata": {
        "id": "CnCSOJICkVjv",
        "colab_type": "text"
      },
      "source": [
        "위 보다는 아래 방식을 선호합니다."
      ]
    },
    {
      "cell_type": "code",
      "metadata": {
        "id": "B3n5nkYgkPT3",
        "colab_type": "code",
        "outputId": "b4c6f155-2221-4c84-d136-09b7b5c6ce00",
        "colab": {
          "base_uri": "https://localhost:8080/",
          "height": 54
        }
      },
      "source": [
        "10 * np.ones((2,3), dtype=int)"
      ],
      "execution_count": 0,
      "outputs": [
        {
          "output_type": "execute_result",
          "data": {
            "text/plain": [
              "array([[10, 10, 10],\n",
              "       [10, 10, 10]])"
            ]
          },
          "metadata": {
            "tags": []
          },
          "execution_count": 79
        }
      ]
    },
    {
      "cell_type": "code",
      "metadata": {
        "id": "yT60enIOMlpR",
        "colab_type": "code",
        "colab": {}
      },
      "source": [
        "\n"
      ],
      "execution_count": 0,
      "outputs": []
    },
    {
      "cell_type": "markdown",
      "metadata": {
        "id": "AdnkzqaLfk7O",
        "colab_type": "text"
      },
      "source": [
        "### numpy.arange"
      ]
    },
    {
      "cell_type": "markdown",
      "metadata": {
        "id": "xgmdzhZPhOZs",
        "colab_type": "text"
      },
      "source": [
        "Return evenly spaced values within a given interval."
      ]
    },
    {
      "cell_type": "code",
      "metadata": {
        "id": "5Sr383Cmfkd7",
        "colab_type": "code",
        "outputId": "70d10642-866c-43fe-d080-e481403c7c98",
        "colab": {
          "base_uri": "https://localhost:8080/",
          "height": 35
        }
      },
      "source": [
        "# default value\n",
        "# start = 0\n",
        "# step = 1\n",
        "np.arange(10)"
      ],
      "execution_count": 0,
      "outputs": [
        {
          "output_type": "execute_result",
          "data": {
            "text/plain": [
              "array([0, 1, 2, 3, 4, 5, 6, 7, 8, 9])"
            ]
          },
          "metadata": {
            "tags": []
          },
          "execution_count": 80
        }
      ]
    },
    {
      "cell_type": "code",
      "metadata": {
        "id": "n0rm-lH7gSmd",
        "colab_type": "code",
        "outputId": "6ece4664-5e33-4fd8-b70c-c8aa2d5429cf",
        "colab": {
          "base_uri": "https://localhost:8080/",
          "height": 35
        }
      },
      "source": [
        "np.arange(start=1.0, stop=5.0, step=0.5)"
      ],
      "execution_count": 0,
      "outputs": [
        {
          "output_type": "execute_result",
          "data": {
            "text/plain": [
              "array([1. , 1.5, 2. , 2.5, 3. , 3.5, 4. , 4.5])"
            ]
          },
          "metadata": {
            "tags": []
          },
          "execution_count": 81
        }
      ]
    },
    {
      "cell_type": "markdown",
      "metadata": {
        "id": "vj0WRG9-hbd4",
        "colab_type": "text"
      },
      "source": [
        "### numpy.linspace"
      ]
    },
    {
      "cell_type": "markdown",
      "metadata": {
        "id": "azYRu3ophbRq",
        "colab_type": "text"
      },
      "source": [
        "Return evenly spaced numbers over a specified interval."
      ]
    },
    {
      "cell_type": "code",
      "metadata": {
        "id": "AfShQksbhku-",
        "colab_type": "code",
        "outputId": "caa19ff4-6ffe-47ed-c1de-36d4ce1337f0",
        "colab": {
          "base_uri": "https://localhost:8080/",
          "height": 35
        }
      },
      "source": [
        "np.linspace(2.0, 3.0, num=5)"
      ],
      "execution_count": 0,
      "outputs": [
        {
          "output_type": "execute_result",
          "data": {
            "text/plain": [
              "array([2.  , 2.25, 2.5 , 2.75, 3.  ])"
            ]
          },
          "metadata": {
            "tags": []
          },
          "execution_count": 82
        }
      ]
    },
    {
      "cell_type": "markdown",
      "metadata": {
        "id": "8umKaPA-YT4J",
        "colab_type": "text"
      },
      "source": [
        "# 다차원 배열 다루기 1"
      ]
    },
    {
      "cell_type": "markdown",
      "metadata": {
        "id": "YJamUKL9nK3T",
        "colab_type": "text"
      },
      "source": [
        "통계값을 구하는 함수에 대해 알아봅니다.\n",
        "\n",
        "<font color=\"red\">이제 반복문은 사용하지 않습니다.</font>\n",
        "\n",
        "https://docs.scipy.org/doc/numpy/reference/routines.statistics.html"
      ]
    },
    {
      "cell_type": "markdown",
      "metadata": {
        "id": "k_Ha7m_6oaVw",
        "colab_type": "text"
      },
      "source": [
        "![alt text](https://lh3.googleusercontent.com/zXC7mbgObMUkQoUnkfMvog5wU8Qh2bvLEwINZo7eilDpq_aun8c3D_qCvaCZhQQLnC-iz7XxFP3iWylf3RZWNsKUaw2MFU0c4Oiu3cbZIPM4AsgSSUVYlDzZKVgG-ldbaEt2vty-cqaHNqrIYNPjsN6n8gT5XbJPqEk5GJjjTfL61t5ugfaDtHjbskwoZm45x8xbWJgkilc8fZ70hWGr8tpskk_5P4G3dI9zy0-ZNTDF9R2nGknAjcmCT3cP5nKhL0YM8mhhbWxS7jTotR1A-hKBPRXbu-5tFa1W54F8k4Do17Wvhz_JNaj0EX-5z0BT8ryE6XPvsJd4vlQAAzwYKdy9oIL7KYzTiIy3vi7MicCg7opIc87ueczPBpZUv2vczrUzzOT-6Yczc9Ay2UPvzyS6SmB2QJI2gGXXvdRFZAElecn83X98psuIHAGx7xii7OplLOQLNaDN3o0tCt4v0e2mgnP8zU87MfUGMCgs-zJwCZYeJz-2rt1EHGGk0IuiiDJQ-R_X91KUE1Z76VOHOjBt_saj-UJ40dTB2w_ITArQa1dH2GhPZCz7wC4_UmwYlr1BHUiohA1ByDBHRB2cA8sBF5MU3s7F1KKWPQUcBQqf2NhQgUJTYWnvWUrgqdmvEKRVRiXwqlJiwGVc1_nCFUAOtzXqLtJAvT0mlKso-GUEPy6NPFjR-Yvv4ci_QFfhtUh87MyVYTEphY7xcNwTaswPqw=w652-h341-no)"
      ]
    },
    {
      "cell_type": "markdown",
      "metadata": {
        "id": "WeQkeSp9YTxA",
        "colab_type": "text"
      },
      "source": [
        "## numpy.amin(array min)"
      ]
    },
    {
      "cell_type": "markdown",
      "metadata": {
        "id": "tr0WYF7Co1ho",
        "colab_type": "text"
      },
      "source": [
        "Return the minimum of an array or minimum along an axis.\n",
        "축을 따라 배열의 최소값을 반환해줘라"
      ]
    },
    {
      "cell_type": "code",
      "metadata": {
        "id": "_-Ptumyjo0dT",
        "colab_type": "code",
        "outputId": "d27e2565-4af2-46e4-ae5b-52b7d327a3bd",
        "colab": {
          "base_uri": "https://localhost:8080/",
          "height": 72
        }
      },
      "source": [
        "A"
      ],
      "execution_count": 0,
      "outputs": [
        {
          "output_type": "execute_result",
          "data": {
            "text/plain": [
              "array([[1, 2, 3],\n",
              "       [4, 5, 6],\n",
              "       [7, 8, 9]])"
            ]
          },
          "metadata": {
            "tags": []
          },
          "execution_count": 83
        }
      ]
    },
    {
      "cell_type": "code",
      "metadata": {
        "id": "et4d4RNIocCs",
        "colab_type": "code",
        "outputId": "5ab59461-b2bf-4785-aac7-8235fb9335f3",
        "colab": {
          "base_uri": "https://localhost:8080/",
          "height": 35
        }
      },
      "source": [
        "#np.amin(A, 0) # axis 0을 따라 최소값을 구함\n",
        "np.amin(A, axis=0) # axis 생략해도 됨"
      ],
      "execution_count": 0,
      "outputs": [
        {
          "output_type": "execute_result",
          "data": {
            "text/plain": [
              "array([1, 2, 3])"
            ]
          },
          "metadata": {
            "tags": []
          },
          "execution_count": 84
        }
      ]
    },
    {
      "cell_type": "code",
      "metadata": {
        "id": "0jLWkPjdoyrB",
        "colab_type": "code",
        "outputId": "836a303d-7b6e-4130-a362-70db64e7f8a4",
        "colab": {
          "base_uri": "https://localhost:8080/",
          "height": 35
        }
      },
      "source": [
        "np.amin(A, 1) \n",
        "# np.amin(A, axis=1)"
      ],
      "execution_count": 0,
      "outputs": [
        {
          "output_type": "execute_result",
          "data": {
            "text/plain": [
              "array([1, 4, 7])"
            ]
          },
          "metadata": {
            "tags": []
          },
          "execution_count": 85
        }
      ]
    },
    {
      "cell_type": "code",
      "metadata": {
        "id": "QBbjFJ6GpDCn",
        "colab_type": "code",
        "outputId": "b0c858cf-860e-434e-e822-28d3a97be9b7",
        "colab": {
          "base_uri": "https://localhost:8080/",
          "height": 35
        }
      },
      "source": [
        "np.amin(A) # 축 설정 안하면 전체 축 다 순환했을 때"
      ],
      "execution_count": 0,
      "outputs": [
        {
          "output_type": "execute_result",
          "data": {
            "text/plain": [
              "1"
            ]
          },
          "metadata": {
            "tags": []
          },
          "execution_count": 86
        }
      ]
    },
    {
      "cell_type": "markdown",
      "metadata": {
        "id": "gMsPpdw1pCWC",
        "colab_type": "text"
      },
      "source": [
        "## numpy.amax(array max)"
      ]
    },
    {
      "cell_type": "markdown",
      "metadata": {
        "id": "Fqn9ZjeRpUgO",
        "colab_type": "text"
      },
      "source": [
        "Return the maximum of an array or maximum along an axis.\n",
        "축을 따라 배열의 최대값을 반환"
      ]
    },
    {
      "cell_type": "code",
      "metadata": {
        "id": "oAootx86qA5z",
        "colab_type": "code",
        "outputId": "938af117-590c-4c7a-fb9f-6974c37d9b33",
        "colab": {
          "base_uri": "https://localhost:8080/",
          "height": 72
        }
      },
      "source": [
        "A"
      ],
      "execution_count": 0,
      "outputs": [
        {
          "output_type": "execute_result",
          "data": {
            "text/plain": [
              "array([[1, 2, 3],\n",
              "       [4, 5, 6],\n",
              "       [7, 8, 9]])"
            ]
          },
          "metadata": {
            "tags": []
          },
          "execution_count": 87
        }
      ]
    },
    {
      "cell_type": "code",
      "metadata": {
        "id": "ej2Se2iXpJpQ",
        "colab_type": "code",
        "outputId": "c6d4df02-cb54-492e-f8ed-dede7e3b952f",
        "colab": {
          "base_uri": "https://localhost:8080/",
          "height": 35
        }
      },
      "source": [
        "np.amax(A, 0)\n",
        "# np.amax(A, axis=0)"
      ],
      "execution_count": 0,
      "outputs": [
        {
          "output_type": "execute_result",
          "data": {
            "text/plain": [
              "array([7, 8, 9])"
            ]
          },
          "metadata": {
            "tags": []
          },
          "execution_count": 88
        }
      ]
    },
    {
      "cell_type": "code",
      "metadata": {
        "id": "9sIDnzytpJna",
        "colab_type": "code",
        "outputId": "5fab9b6e-2942-4f72-fc70-288bf43abb34",
        "colab": {
          "base_uri": "https://localhost:8080/",
          "height": 35
        }
      },
      "source": [
        "np.amax(A, 1).ndim\n",
        "# np.amax(A, axis=1)"
      ],
      "execution_count": 0,
      "outputs": [
        {
          "output_type": "execute_result",
          "data": {
            "text/plain": [
              "1"
            ]
          },
          "metadata": {
            "tags": []
          },
          "execution_count": 89
        }
      ]
    },
    {
      "cell_type": "code",
      "metadata": {
        "id": "Z_B6Gkbpft_x",
        "colab_type": "code",
        "outputId": "5209487a-ffac-4f2d-da0d-ec4dd0d50698",
        "colab": {
          "base_uri": "https://localhost:8080/",
          "height": 90
        }
      },
      "source": [
        "print(A)\n",
        "print(A.ndim)"
      ],
      "execution_count": 0,
      "outputs": [
        {
          "output_type": "stream",
          "text": [
            "[[1 2 3]\n",
            " [4 5 6]\n",
            " [7 8 9]]\n",
            "2\n"
          ],
          "name": "stdout"
        }
      ]
    },
    {
      "cell_type": "code",
      "metadata": {
        "id": "Msli9K2Nf3-i",
        "colab_type": "code",
        "colab": {}
      },
      "source": [
        ""
      ],
      "execution_count": 0,
      "outputs": []
    },
    {
      "cell_type": "code",
      "metadata": {
        "id": "dHHs7spzeQj2",
        "colab_type": "code",
        "outputId": "b474f137-4b89-4e0c-eeff-ce4b6d9b4d10",
        "colab": {
          "base_uri": "https://localhost:8080/",
          "height": 35
        }
      },
      "source": [
        "type(np.amax(A, 1))\n",
        "# np.amax(A, axis=1)"
      ],
      "execution_count": 0,
      "outputs": [
        {
          "output_type": "execute_result",
          "data": {
            "text/plain": [
              "numpy.ndarray"
            ]
          },
          "metadata": {
            "tags": []
          },
          "execution_count": 91
        }
      ]
    },
    {
      "cell_type": "code",
      "metadata": {
        "id": "-nynSVABdkxc",
        "colab_type": "code",
        "outputId": "47db6b22-fee9-4e88-81c2-659ebc7dacab",
        "colab": {
          "base_uri": "https://localhost:8080/",
          "height": 35
        }
      },
      "source": [
        "np.amax(A, 1).shape # 행렬을 갖지 않는 1차원의 shape은 (갯수, 뒤에는 빈칸)\n",
        "# np.amax(A, axis=1)"
      ],
      "execution_count": 0,
      "outputs": [
        {
          "output_type": "execute_result",
          "data": {
            "text/plain": [
              "(3,)"
            ]
          },
          "metadata": {
            "tags": []
          },
          "execution_count": 92
        }
      ]
    },
    {
      "cell_type": "code",
      "metadata": {
        "id": "yrUM3U-9WOhG",
        "colab_type": "code",
        "outputId": "d22601a9-c52d-4575-f55c-9fe4e0dff8e6",
        "colab": {
          "base_uri": "https://localhost:8080/",
          "height": 35
        }
      },
      "source": [
        "np.amax(A)"
      ],
      "execution_count": 0,
      "outputs": [
        {
          "output_type": "execute_result",
          "data": {
            "text/plain": [
              "9"
            ]
          },
          "metadata": {
            "tags": []
          },
          "execution_count": 93
        }
      ]
    },
    {
      "cell_type": "code",
      "metadata": {
        "id": "CL6YZbXSolnf",
        "colab_type": "code",
        "outputId": "36b62fb3-b2a1-44fd-bd22-a4e9be074a19",
        "colab": {
          "base_uri": "https://localhost:8080/",
          "height": 35
        }
      },
      "source": [
        "np.amax(A, 1).shape # 배열의 차원과 차원의 크기 표시(3차원,)"
      ],
      "execution_count": 0,
      "outputs": [
        {
          "output_type": "execute_result",
          "data": {
            "text/plain": [
              "(3,)"
            ]
          },
          "metadata": {
            "tags": []
          },
          "execution_count": 94
        }
      ]
    },
    {
      "cell_type": "markdown",
      "metadata": {
        "id": "yVHIj1Iupnhf",
        "colab_type": "text"
      },
      "source": [
        "## numpy.ptp\n",
        "(최대 peak와 최소 peak의 범위를 보는 함수)\n",
        "대충 어느 정도 범위가 벌어졌는 지 보는 함수"
      ]
    },
    {
      "cell_type": "markdown",
      "metadata": {
        "id": "EFYuiVX4pxvj",
        "colab_type": "text"
      },
      "source": [
        "Range of values (maximum - minimum) along an axis.\n",
        "\n",
        "The name of the function comes from the acronym for ‘peak to peak’."
      ]
    },
    {
      "cell_type": "code",
      "metadata": {
        "id": "8VxGXuinp8kQ",
        "colab_type": "code",
        "outputId": "946b15fc-b79e-42b1-a34f-b0bf963d5e40",
        "colab": {
          "base_uri": "https://localhost:8080/",
          "height": 72
        }
      },
      "source": [
        "A"
      ],
      "execution_count": 0,
      "outputs": [
        {
          "output_type": "execute_result",
          "data": {
            "text/plain": [
              "array([[1, 2, 3],\n",
              "       [4, 5, 6],\n",
              "       [7, 8, 9]])"
            ]
          },
          "metadata": {
            "tags": []
          },
          "execution_count": 95
        }
      ]
    },
    {
      "cell_type": "code",
      "metadata": {
        "id": "Q6YNHrwOpzuZ",
        "colab_type": "code",
        "outputId": "08752f0a-ea7a-46df-d5da-870f3d5db3a5",
        "colab": {
          "base_uri": "https://localhost:8080/",
          "height": 35
        }
      },
      "source": [
        "np.ptp(A, 0)"
      ],
      "execution_count": 0,
      "outputs": [
        {
          "output_type": "execute_result",
          "data": {
            "text/plain": [
              "array([6, 6, 6])"
            ]
          },
          "metadata": {
            "tags": []
          },
          "execution_count": 96
        }
      ]
    },
    {
      "cell_type": "code",
      "metadata": {
        "id": "Xm14LIGdp6a3",
        "colab_type": "code",
        "outputId": "b5ad3a1b-a0ba-4421-e28b-c0fec6b747c8",
        "colab": {
          "base_uri": "https://localhost:8080/",
          "height": 35
        }
      },
      "source": [
        "np.ptp(A, 1)"
      ],
      "execution_count": 0,
      "outputs": [
        {
          "output_type": "execute_result",
          "data": {
            "text/plain": [
              "array([2, 2, 2])"
            ]
          },
          "metadata": {
            "tags": []
          },
          "execution_count": 97
        }
      ]
    },
    {
      "cell_type": "code",
      "metadata": {
        "id": "Z4QFXCVxp99u",
        "colab_type": "code",
        "outputId": "879532a5-dfd5-48f9-9f3b-3c416c199cb0",
        "colab": {
          "base_uri": "https://localhost:8080/",
          "height": 35
        }
      },
      "source": [
        "np.ptp(A)"
      ],
      "execution_count": 0,
      "outputs": [
        {
          "output_type": "execute_result",
          "data": {
            "text/plain": [
              "8"
            ]
          },
          "metadata": {
            "tags": []
          },
          "execution_count": 98
        }
      ]
    },
    {
      "cell_type": "markdown",
      "metadata": {
        "id": "FoCO6OmSqUhW",
        "colab_type": "text"
      },
      "source": [
        "## numpy.median\n",
        "중간값을 반환하는 함수"
      ]
    },
    {
      "cell_type": "markdown",
      "metadata": {
        "id": "P-Eyf72Urhjz",
        "colab_type": "text"
      },
      "source": [
        "Compute the median along the specified axis."
      ]
    },
    {
      "cell_type": "code",
      "metadata": {
        "id": "Bi64JNDerJ7W",
        "colab_type": "code",
        "outputId": "491bdf33-9f1e-47a7-94d9-1547475d280f",
        "colab": {
          "base_uri": "https://localhost:8080/",
          "height": 72
        }
      },
      "source": [
        "A"
      ],
      "execution_count": 0,
      "outputs": [
        {
          "output_type": "execute_result",
          "data": {
            "text/plain": [
              "array([[1, 2, 3],\n",
              "       [4, 5, 6],\n",
              "       [7, 8, 9]])"
            ]
          },
          "metadata": {
            "tags": []
          },
          "execution_count": 99
        }
      ]
    },
    {
      "cell_type": "code",
      "metadata": {
        "id": "ps-6IJLxrLTI",
        "colab_type": "code",
        "outputId": "34f30017-bd2d-40db-f877-772c8e0073bf",
        "colab": {
          "base_uri": "https://localhost:8080/",
          "height": 35
        }
      },
      "source": [
        "np.median(A, 0)"
      ],
      "execution_count": 0,
      "outputs": [
        {
          "output_type": "execute_result",
          "data": {
            "text/plain": [
              "array([4., 5., 6.])"
            ]
          },
          "metadata": {
            "tags": []
          },
          "execution_count": 100
        }
      ]
    },
    {
      "cell_type": "code",
      "metadata": {
        "id": "hsVht0ByrQN1",
        "colab_type": "code",
        "outputId": "19186560-e045-4c53-dbe8-106483b95887",
        "colab": {
          "base_uri": "https://localhost:8080/",
          "height": 35
        }
      },
      "source": [
        "np.median(A, 1)"
      ],
      "execution_count": 0,
      "outputs": [
        {
          "output_type": "execute_result",
          "data": {
            "text/plain": [
              "array([2., 5., 8.])"
            ]
          },
          "metadata": {
            "tags": []
          },
          "execution_count": 101
        }
      ]
    },
    {
      "cell_type": "code",
      "metadata": {
        "id": "SsqQsYZ1rU_N",
        "colab_type": "code",
        "outputId": "90b3d38d-9eda-4fb7-a07e-5083e2f657cf",
        "colab": {
          "base_uri": "https://localhost:8080/",
          "height": 35
        }
      },
      "source": [
        "np.median(A)"
      ],
      "execution_count": 0,
      "outputs": [
        {
          "output_type": "execute_result",
          "data": {
            "text/plain": [
              "5.0"
            ]
          },
          "metadata": {
            "tags": []
          },
          "execution_count": 102
        }
      ]
    },
    {
      "cell_type": "markdown",
      "metadata": {
        "id": "OBi1rF4uqYaW",
        "colab_type": "text"
      },
      "source": [
        "## numpy.mean"
      ]
    },
    {
      "cell_type": "markdown",
      "metadata": {
        "id": "fxwp6vDBr0uO",
        "colab_type": "text"
      },
      "source": [
        "Compute the arithmetic mean along the specified axis.\n",
        "\n",
        "(가중평균을 구하려면 numpy.average를 사용해야 합니다.)"
      ]
    },
    {
      "cell_type": "code",
      "metadata": {
        "id": "sbY1nmGHseNT",
        "colab_type": "code",
        "outputId": "33849363-686f-4b47-d668-e6cd2246bebe",
        "colab": {
          "base_uri": "https://localhost:8080/",
          "height": 72
        }
      },
      "source": [
        "A"
      ],
      "execution_count": 0,
      "outputs": [
        {
          "output_type": "execute_result",
          "data": {
            "text/plain": [
              "array([[1, 2, 3],\n",
              "       [4, 5, 6],\n",
              "       [7, 8, 9]])"
            ]
          },
          "metadata": {
            "tags": []
          },
          "execution_count": 103
        }
      ]
    },
    {
      "cell_type": "code",
      "metadata": {
        "id": "WnFfddIZrdsT",
        "colab_type": "code",
        "outputId": "6ee3a4ab-1cef-4954-9265-023e4c7bde7e",
        "colab": {
          "base_uri": "https://localhost:8080/",
          "height": 35
        }
      },
      "source": [
        "np.mean(A, 0)"
      ],
      "execution_count": 0,
      "outputs": [
        {
          "output_type": "execute_result",
          "data": {
            "text/plain": [
              "array([4., 5., 6.])"
            ]
          },
          "metadata": {
            "tags": []
          },
          "execution_count": 104
        }
      ]
    },
    {
      "cell_type": "code",
      "metadata": {
        "id": "tNyK0HGXrdNp",
        "colab_type": "code",
        "outputId": "40f5f3dc-3eca-40d0-eec5-136e2d853501",
        "colab": {
          "base_uri": "https://localhost:8080/",
          "height": 35
        }
      },
      "source": [
        "np.mean(A, 1)"
      ],
      "execution_count": 0,
      "outputs": [
        {
          "output_type": "execute_result",
          "data": {
            "text/plain": [
              "array([2., 5., 8.])"
            ]
          },
          "metadata": {
            "tags": []
          },
          "execution_count": 105
        }
      ]
    },
    {
      "cell_type": "code",
      "metadata": {
        "id": "n79iGG5jrc1M",
        "colab_type": "code",
        "outputId": "11c9c780-d68c-4147-94b3-549d8fa06df0",
        "colab": {
          "base_uri": "https://localhost:8080/",
          "height": 35
        }
      },
      "source": [
        "np.mean(A)"
      ],
      "execution_count": 0,
      "outputs": [
        {
          "output_type": "execute_result",
          "data": {
            "text/plain": [
              "5.0"
            ]
          },
          "metadata": {
            "tags": []
          },
          "execution_count": 106
        }
      ]
    },
    {
      "cell_type": "markdown",
      "metadata": {
        "id": "QtXO6zuuqYVa",
        "colab_type": "text"
      },
      "source": [
        "## numpy.var\n",
        "분산"
      ]
    },
    {
      "cell_type": "markdown",
      "metadata": {
        "id": "wPXmUNHmsxrp",
        "colab_type": "text"
      },
      "source": [
        "Compute the variance along the specified axis."
      ]
    },
    {
      "cell_type": "code",
      "metadata": {
        "id": "dSSXxSv7s_S0",
        "colab_type": "code",
        "outputId": "5e7be18f-f18e-47f1-e128-fac0bb9f2b34",
        "colab": {
          "base_uri": "https://localhost:8080/",
          "height": 35
        }
      },
      "source": [
        "np.var(A, 0)"
      ],
      "execution_count": 0,
      "outputs": [
        {
          "output_type": "execute_result",
          "data": {
            "text/plain": [
              "array([6., 6., 6.])"
            ]
          },
          "metadata": {
            "tags": []
          },
          "execution_count": 107
        }
      ]
    },
    {
      "cell_type": "code",
      "metadata": {
        "id": "0NMEX8w5s-6a",
        "colab_type": "code",
        "outputId": "fc2287b2-503e-451c-bc95-d607c7ad9314",
        "colab": {
          "base_uri": "https://localhost:8080/",
          "height": 35
        }
      },
      "source": [
        "np.var(A, 1)"
      ],
      "execution_count": 0,
      "outputs": [
        {
          "output_type": "execute_result",
          "data": {
            "text/plain": [
              "array([0.66666667, 0.66666667, 0.66666667])"
            ]
          },
          "metadata": {
            "tags": []
          },
          "execution_count": 108
        }
      ]
    },
    {
      "cell_type": "code",
      "metadata": {
        "id": "LxQSe0JoqX5I",
        "colab_type": "code",
        "outputId": "55e4efd1-5212-4f01-a7b2-e22b366b28ab",
        "colab": {
          "base_uri": "https://localhost:8080/",
          "height": 35
        }
      },
      "source": [
        "np.var(A)"
      ],
      "execution_count": 0,
      "outputs": [
        {
          "output_type": "execute_result",
          "data": {
            "text/plain": [
              "6.666666666666667"
            ]
          },
          "metadata": {
            "tags": []
          },
          "execution_count": 109
        }
      ]
    },
    {
      "cell_type": "markdown",
      "metadata": {
        "id": "3lmrJ1t7b9Qg",
        "colab_type": "text"
      },
      "source": [
        ""
      ]
    },
    {
      "cell_type": "markdown",
      "metadata": {
        "id": "5s-Mj7H8tEUR",
        "colab_type": "text"
      },
      "source": [
        "## numpy.std"
      ]
    },
    {
      "cell_type": "markdown",
      "metadata": {
        "id": "enWqlt2rtHjV",
        "colab_type": "text"
      },
      "source": [
        "Compute the standard deviation along the specified axis."
      ]
    },
    {
      "cell_type": "code",
      "metadata": {
        "id": "kgMKCi3MtKdT",
        "colab_type": "code",
        "outputId": "af92a938-8557-4ad1-af17-79f4d772c497",
        "colab": {
          "base_uri": "https://localhost:8080/",
          "height": 35
        }
      },
      "source": [
        "np.std(A, 0)"
      ],
      "execution_count": 0,
      "outputs": [
        {
          "output_type": "execute_result",
          "data": {
            "text/plain": [
              "array([2.44948974, 2.44948974, 2.44948974])"
            ]
          },
          "metadata": {
            "tags": []
          },
          "execution_count": 110
        }
      ]
    },
    {
      "cell_type": "code",
      "metadata": {
        "id": "3Rm1-Cq0tKKM",
        "colab_type": "code",
        "outputId": "a5da9e5b-df1b-4b15-9a16-ce9ba040598c",
        "colab": {
          "base_uri": "https://localhost:8080/",
          "height": 35
        }
      },
      "source": [
        "np.std(A, 1)"
      ],
      "execution_count": 0,
      "outputs": [
        {
          "output_type": "execute_result",
          "data": {
            "text/plain": [
              "array([0.81649658, 0.81649658, 0.81649658])"
            ]
          },
          "metadata": {
            "tags": []
          },
          "execution_count": 111
        }
      ]
    },
    {
      "cell_type": "code",
      "metadata": {
        "id": "yIfc_SX2tKEq",
        "colab_type": "code",
        "outputId": "e1bb35b5-03bd-42f5-b9e3-811735b79f08",
        "colab": {
          "base_uri": "https://localhost:8080/",
          "height": 35
        }
      },
      "source": [
        "np.std(A)"
      ],
      "execution_count": 0,
      "outputs": [
        {
          "output_type": "execute_result",
          "data": {
            "text/plain": [
              "2.581988897471611"
            ]
          },
          "metadata": {
            "tags": []
          },
          "execution_count": 112
        }
      ]
    },
    {
      "cell_type": "markdown",
      "metadata": {
        "id": "DAql9fTuYTr_",
        "colab_type": "text"
      },
      "source": [
        "# 다차원 배열 다루기 2\n",
        "다차원 배열에서 일부분만 가져오거나 다차원 배열의 형태를 바꾸는 방법을 알아봅니다.\n",
        "\n",
        "https://docs.scipy.org/doc/numpy/reference/routines.array-manipulation.html"
      ]
    },
    {
      "cell_type": "markdown",
      "metadata": {
        "id": "YJOXeenmYTni",
        "colab_type": "text"
      },
      "source": [
        "## 슬라이싱"
      ]
    },
    {
      "cell_type": "markdown",
      "metadata": {
        "id": "UrUs0eyi12sY",
        "colab_type": "text"
      },
      "source": [
        "파이썬 리스트와 유사하게, Numpy 배열도 슬라이싱이 가능합니다.\n",
        "\n",
        "Numpy 배열은 다차원인 경우가 많기에, 각 차원별로 어떻게 슬라이스할건지 명확히 해야 합니다:\n",
        "\n",
        "Numpy 배열을 슬라이싱하면, 연속된 값을 가져오기에 결과로 얻어지는 배열은 언제나 원본 배열의 부분 배열입니다."
      ]
    },
    {
      "cell_type": "code",
      "metadata": {
        "id": "rSTklt9WuQj5",
        "colab_type": "code",
        "colab": {}
      },
      "source": [
        "import numpy as np\n",
        "\n",
        "# shape가 (3, 4)인 2차원 배열 생성\n",
        "# [[ 1  2  3  4]\n",
        "#  [ 5  6  7  8]\n",
        "#  [ 9 10 11 12]]\n",
        "a = np.array([[1,2,3,4], [5,6,7,8], [9,10,11,12]])"
      ],
      "execution_count": 0,
      "outputs": []
    },
    {
      "cell_type": "markdown",
      "metadata": {
        "id": "gvAMJaf9vPa7",
        "colab_type": "text"
      },
      "source": [
        "다차원배열은 아래와 같은 방법으로 슬라이싱 합니다."
      ]
    },
    {
      "cell_type": "markdown",
      "metadata": {
        "id": "osPEARhNvmFf",
        "colab_type": "text"
      },
      "source": [
        "`a[ : , : ]`\n",
        "\n",
        "\n",
        "`a[행 슬라이싱 시작:행 슬라이싱 끝, 열 슬라이싱 시작:열 슬라이싱 끝]`\n",
        "\n",
        "\n",
        "**시작값**부터 **끝값** <font color=\"red\">전</font>까지 슬라이싱 됩니다."
      ]
    },
    {
      "cell_type": "code",
      "metadata": {
        "id": "s6MPTZG2wmRW",
        "colab_type": "code",
        "outputId": "d1b4fe49-8e11-4212-fa0d-451b8dc963b0",
        "colab": {
          "base_uri": "https://localhost:8080/",
          "height": 54
        }
      },
      "source": [
        "a[0:2, 0:4]"
      ],
      "execution_count": 0,
      "outputs": [
        {
          "output_type": "execute_result",
          "data": {
            "text/plain": [
              "array([[1, 2, 3, 4],\n",
              "       [5, 6, 7, 8]])"
            ]
          },
          "metadata": {
            "tags": []
          },
          "execution_count": 114
        }
      ]
    },
    {
      "cell_type": "markdown",
      "metadata": {
        "id": "1tA0TY58wrjf",
        "colab_type": "text"
      },
      "source": [
        "0행부터 2행 전까지(= 1행 까지), 0열부터 4열 전까지(= 3열 까지) 슬라이스되었습니다.\n",
        "\n",
        "시작값이 0인 경우 생략 가능하며 끝 값이 shape의 값과 동일한 경우 생략 가능합니다.\n",
        "\n",
        "`a[0:2, 0:4]`은 `a[:2, :]`로 표시할 수 있습니다."
      ]
    },
    {
      "cell_type": "code",
      "metadata": {
        "id": "sBVcKEPCwmNd",
        "colab_type": "code",
        "outputId": "c12aec78-dd4f-4927-c42c-f7957eb7e7e6",
        "colab": {
          "base_uri": "https://localhost:8080/",
          "height": 54
        }
      },
      "source": [
        "a[:2, :]"
      ],
      "execution_count": 0,
      "outputs": [
        {
          "output_type": "execute_result",
          "data": {
            "text/plain": [
              "array([[1, 2, 3, 4],\n",
              "       [5, 6, 7, 8]])"
            ]
          },
          "metadata": {
            "tags": []
          },
          "execution_count": 115
        }
      ]
    },
    {
      "cell_type": "markdown",
      "metadata": {
        "id": "He-aVrqQ3eBA",
        "colab_type": "text"
      },
      "source": [
        "위 코드는 열을 슬라이싱 하지 않는 코드이며 이런 경우 열 부분은 전체 생략 가능합니다.\n",
        "\n",
        "(행을 슬라이싱 하지 않는다고 하더라도, 행부분을 생략할 순 없습니다.)"
      ]
    },
    {
      "cell_type": "code",
      "metadata": {
        "id": "b7EOJsdkwmKb",
        "colab_type": "code",
        "outputId": "e99a1db0-cbd9-43eb-eadc-97a8c6c63264",
        "colab": {
          "base_uri": "https://localhost:8080/",
          "height": 54
        }
      },
      "source": [
        "a[:2]"
      ],
      "execution_count": 0,
      "outputs": [
        {
          "output_type": "execute_result",
          "data": {
            "text/plain": [
              "array([[1, 2, 3, 4],\n",
              "       [5, 6, 7, 8]])"
            ]
          },
          "metadata": {
            "tags": []
          },
          "execution_count": 116
        }
      ]
    },
    {
      "cell_type": "markdown",
      "metadata": {
        "id": "_DFoCzNO4dRr",
        "colab_type": "text"
      },
      "source": [
        "**슬라이싱에 익숙해지기 전까진 생략하지말고 명시적으로 코드를 작성해주는것이 실수를 방지하는 방법입니다.**"
      ]
    },
    {
      "cell_type": "markdown",
      "metadata": {
        "id": "o1fcIHf654TM",
        "colab_type": "text"
      },
      "source": [
        "## 인덱싱\n",
        "선택을 해서 가져온다!"
      ]
    },
    {
      "cell_type": "markdown",
      "metadata": {
        "id": "WzL4Xo-N6b4k",
        "colab_type": "text"
      },
      "source": [
        "인덱싱을 통해 원소에 접근할 수 있습니다.\n",
        "\n",
        "두 가지 표현법이 있습니다."
      ]
    },
    {
      "cell_type": "code",
      "metadata": {
        "id": "6P16QmWU6gLp",
        "colab_type": "code",
        "outputId": "6fc8782d-6ca5-45d7-f11e-11bde48d8708",
        "colab": {
          "base_uri": "https://localhost:8080/",
          "height": 35
        }
      },
      "source": [
        "# 선호하는 방식\n",
        "a[0, 0] # 원소를 인덱싱하는 방법"
      ],
      "execution_count": 0,
      "outputs": [
        {
          "output_type": "execute_result",
          "data": {
            "text/plain": [
              "1"
            ]
          },
          "metadata": {
            "tags": []
          },
          "execution_count": 117
        }
      ]
    },
    {
      "cell_type": "code",
      "metadata": {
        "id": "wTKkLKLS6VTf",
        "colab_type": "code",
        "outputId": "cdce4497-c3ae-40f3-d737-b6916ddb7524",
        "colab": {
          "base_uri": "https://localhost:8080/",
          "height": 35
        }
      },
      "source": [
        "a[0][0]"
      ],
      "execution_count": 0,
      "outputs": [
        {
          "output_type": "execute_result",
          "data": {
            "text/plain": [
              "1"
            ]
          },
          "metadata": {
            "tags": []
          },
          "execution_count": 118
        }
      ]
    },
    {
      "cell_type": "markdown",
      "metadata": {
        "id": "mO7ZPlga57Yd",
        "colab_type": "text"
      },
      "source": [
        "Numpy 배열을 슬라이싱하면, 연속된 값을 가져오기에 결과로 얻어지는 배열은 언제나 원본 배열의 부분 배열입니다.\n",
        "\n",
        "그러나 인덱싱을 한다면, 연속하지 않은 값을 가져올 수 있으니 원본과 다른 배열을 만들 수 있습니다."
      ]
    },
    {
      "cell_type": "code",
      "metadata": {
        "id": "ajcFwt7b9G_Z",
        "colab_type": "code",
        "outputId": "fdca600a-9dd0-472f-cede-5b5786cc7c10",
        "colab": {
          "base_uri": "https://localhost:8080/",
          "height": 72
        }
      },
      "source": [
        "a"
      ],
      "execution_count": 0,
      "outputs": [
        {
          "output_type": "execute_result",
          "data": {
            "text/plain": [
              "array([[ 1,  2,  3,  4],\n",
              "       [ 5,  6,  7,  8],\n",
              "       [ 9, 10, 11, 12]])"
            ]
          },
          "metadata": {
            "tags": []
          },
          "execution_count": 119
        }
      ]
    },
    {
      "cell_type": "code",
      "metadata": {
        "id": "MX-MxYDl8eWr",
        "colab_type": "code",
        "outputId": "d21e891d-ca47-4daa-fe14-1e85e5ae55fd",
        "colab": {
          "base_uri": "https://localhost:8080/",
          "height": 54
        }
      },
      "source": [
        "# 0행, 2행만 인덱싱\n",
        "a[[0, 2], ] # 연속되지 않은 행을 인덱싱하는 방법"
      ],
      "execution_count": 0,
      "outputs": [
        {
          "output_type": "execute_result",
          "data": {
            "text/plain": [
              "array([[ 1,  2,  3,  4],\n",
              "       [ 9, 10, 11, 12]])"
            ]
          },
          "metadata": {
            "tags": []
          },
          "execution_count": 120
        }
      ]
    },
    {
      "cell_type": "code",
      "metadata": {
        "id": "4F_hYGty9Vag",
        "colab_type": "code",
        "outputId": "e6679856-db67-4eb5-eb4d-c2b3e59eb644",
        "colab": {
          "base_uri": "https://localhost:8080/",
          "height": 72
        }
      },
      "source": [
        "# 0열, 1열, 3열만 인덱싱\n",
        "a[:, [0,1,3]]"
      ],
      "execution_count": 0,
      "outputs": [
        {
          "output_type": "execute_result",
          "data": {
            "text/plain": [
              "array([[ 1,  2,  4],\n",
              "       [ 5,  6,  8],\n",
              "       [ 9, 10, 12]])"
            ]
          },
          "metadata": {
            "tags": []
          },
          "execution_count": 121
        }
      ]
    },
    {
      "cell_type": "markdown",
      "metadata": {
        "id": "nKciLNy_RLI5",
        "colab_type": "text"
      },
      "source": [
        "## 인덱싱&슬라이싱 - 차원"
      ]
    },
    {
      "cell_type": "markdown",
      "metadata": {
        "id": "QAObDpXdRQPQ",
        "colab_type": "text"
      },
      "source": [
        "정수 인덱싱과 슬라이싱을 혼합해서 사용하면 낮은 차원의 배열이 생성되지만,\n",
        "\n",
        "슬라이싱만 사용하면 원본 배열과 동일한 차원의 배열이 생성됩니다.\n",
        "\n",
        "0번째 행을 인덱싱하는 경우와 슬라이싱 하는 경우를 비교해보겠습니다."
      ]
    },
    {
      "cell_type": "code",
      "metadata": {
        "id": "OFo3Mmd4RP3w",
        "colab_type": "code",
        "outputId": "4ac05486-14bc-4ade-fc6c-7c282048ca16",
        "colab": {
          "base_uri": "https://localhost:8080/",
          "height": 72
        }
      },
      "source": [
        "# shape가 (3, 4)인 2차원 배열 생성\n",
        "# [[ 1  2  3  4]\n",
        "#  [ 5  6  7  8]\n",
        "#  [ 9 10 11 12]]\n",
        "\n",
        "print(a, a.shape, a.ndim)"
      ],
      "execution_count": 0,
      "outputs": [
        {
          "output_type": "stream",
          "text": [
            "[[ 1  2  3  4]\n",
            " [ 5  6  7  8]\n",
            " [ 9 10 11 12]] (3, 4) 2\n"
          ],
          "name": "stdout"
        }
      ]
    },
    {
      "cell_type": "code",
      "metadata": {
        "id": "qIZ1PgyySLVK",
        "colab_type": "code",
        "outputId": "4f85acf0-5edb-4cd7-f49d-cddc5981fe88",
        "colab": {
          "base_uri": "https://localhost:8080/",
          "height": 35
        }
      },
      "source": [
        "# 슬라이싱만 사용(차원이 유지된다.) 연산을 하려면 차원이 같을 때 가능,초보에게 슬라이싱을 추천\n",
        "slicedRow = a[0:1, :]\n",
        "print(slicedRow, slicedRow.shape, slicedRow.ndim)"
      ],
      "execution_count": 0,
      "outputs": [
        {
          "output_type": "stream",
          "text": [
            "[[1 2 3 4]] (1, 4) 2\n"
          ],
          "name": "stdout"
        }
      ]
    },
    {
      "cell_type": "code",
      "metadata": {
        "id": "ost9l4B1R8tw",
        "colab_type": "code",
        "outputId": "3a2a3fd6-1128-48c7-9ae9-e365421614f7",
        "colab": {
          "base_uri": "https://localhost:8080/",
          "height": 54
        }
      },
      "source": [
        "# 아래와 동일한 코드\n",
        "# 인덱싱&슬라이싱 혼합 사용(차원이 줄어들 수 있다.)\n",
        "indexedRow = a[0]\n",
        "print(indexedRow, indexedRow.shape, indexedRow.ndim)\n",
        "\n",
        "# 위와 동일한 코드\n",
        "# 인덱싱&슬라이싱 혼합 사용\n",
        "indexedRow2 = a[0, :] # 행은 indexing, 열은 slicing\n",
        "print(indexedRow2, indexedRow2.shape, indexedRow2.ndim)"
      ],
      "execution_count": 0,
      "outputs": [
        {
          "output_type": "stream",
          "text": [
            "[1 2 3 4] (4,) 1\n",
            "[1 2 3 4] (4,) 1\n"
          ],
          "name": "stdout"
        }
      ]
    },
    {
      "cell_type": "markdown",
      "metadata": {
        "id": "OWuj2vu3TK6y",
        "colab_type": "text"
      },
      "source": [
        "행이 아닌 열의 경우에도 마찬가지 입니다."
      ]
    },
    {
      "cell_type": "code",
      "metadata": {
        "id": "ZcXhWBMTSERz",
        "colab_type": "code",
        "outputId": "0a8babb4-4da7-4c72-f85d-933304560340",
        "colab": {
          "base_uri": "https://localhost:8080/",
          "height": 72
        }
      },
      "source": [
        "# 슬라이싱만 사용\n",
        "slicedCol = a[:, 0:1]\n",
        "print(slicedCol, slicedCol.shape, slicedCol.ndim)"
      ],
      "execution_count": 0,
      "outputs": [
        {
          "output_type": "stream",
          "text": [
            "[[1]\n",
            " [5]\n",
            " [9]] (3, 1) 2\n"
          ],
          "name": "stdout"
        }
      ]
    },
    {
      "cell_type": "code",
      "metadata": {
        "id": "Y09IJ9mFU4ct",
        "colab_type": "code",
        "outputId": "a29eb102-08d6-4a46-8933-e087b52ad35f",
        "colab": {
          "base_uri": "https://localhost:8080/",
          "height": 54
        }
      },
      "source": [
        "# 아래와 동일한 코드\n",
        "# 인덱싱&슬라이싱 혼합 사용\n",
        "indexedCol = a[:, 0]\n",
        "print(indexedCol, indexedCol.shape, indexedCol.ndim)\n",
        "\n",
        "# 위와 동일한 코드\n",
        "# 인덱싱&슬라이싱 혼합 사용\n",
        "indexedCol2 = a[:, 0]\n",
        "print(indexedCol2, indexedCol2.shape, indexedCol2.ndim)"
      ],
      "execution_count": 0,
      "outputs": [
        {
          "output_type": "stream",
          "text": [
            "[1 5 9] (3,) 1\n",
            "[1 5 9] (3,) 1\n"
          ],
          "name": "stdout"
        }
      ]
    },
    {
      "cell_type": "markdown",
      "metadata": {
        "id": "6AFtk8WmVbfc",
        "colab_type": "text"
      },
      "source": [
        "다차원배열간 연산에서 차원이 달라 문제가 발생하는 경우가 종종 있습니다.\n",
        "\n",
        "**특별히 인덱싱을 써야 하는 상황이 아니라면, 인덱싱보다 슬라이싱을 추천합니다.**"
      ]
    },
    {
      "cell_type": "markdown",
      "metadata": {
        "id": "2eLKR9auQK7m",
        "colab_type": "text"
      },
      "source": [
        "## 인덱싱&슬라이싱 - 값 복사&참조"
      ]
    },
    {
      "cell_type": "markdown",
      "metadata": {
        "id": "SQGaAAhFQQLx",
        "colab_type": "text"
      },
      "source": [
        "인덱싱은 값을 복사해옵니다. 복사된 값을 변경해도 원본의 값은 변하지 않습니다."
      ]
    },
    {
      "cell_type": "code",
      "metadata": {
        "id": "6__bo0VQQYmY",
        "colab_type": "code",
        "outputId": "091b1bfd-4863-4bc9-8564-4fceb2932e08",
        "colab": {
          "base_uri": "https://localhost:8080/",
          "height": 72
        }
      },
      "source": [
        "a"
      ],
      "execution_count": 0,
      "outputs": [
        {
          "output_type": "execute_result",
          "data": {
            "text/plain": [
              "array([[ 1,  2,  3,  4],\n",
              "       [ 5,  6,  7,  8],\n",
              "       [ 9, 10, 11, 12]])"
            ]
          },
          "metadata": {
            "tags": []
          },
          "execution_count": 127
        }
      ]
    },
    {
      "cell_type": "code",
      "metadata": {
        "id": "4xtsM0d7P37t",
        "colab_type": "code",
        "outputId": "b145cfbb-a8b1-430f-9eba-bd6dda2b543f",
        "colab": {
          "base_uri": "https://localhost:8080/",
          "height": 54
        }
      },
      "source": [
        "# 인덱싱해서 b에 대입(복사본을 만드는 것이 인덱싱, 원본값에 영향을 미치지 않음)\n",
        "b = a[0, 0]\n",
        "\n",
        "# b값 수정\n",
        "b = 100\n",
        "\n",
        "print(\"a[0, 0]: {}\".format(a[0, 0]))\n",
        "print(\"b: {}\".format(b))"
      ],
      "execution_count": 0,
      "outputs": [
        {
          "output_type": "stream",
          "text": [
            "a[0, 0]: 1\n",
            "b: 100\n"
          ],
          "name": "stdout"
        }
      ]
    },
    {
      "cell_type": "markdown",
      "metadata": {
        "id": "_JGPVOvtQ0gK",
        "colab_type": "text"
      },
      "source": [
        "슬라이싱된 배열은 원본 배열과 같은 데이터를 참조합니다.\n",
        "\n",
        "<font color=\"red\">즉 슬라이싱된 배열을 수정하면 원본 배열 역시 수정됩니다.</font>"
      ]
    },
    {
      "cell_type": "code",
      "metadata": {
        "id": "uqVFNX_zQAha",
        "colab_type": "code",
        "outputId": "cdeb432e-066a-4829-b27f-c80e596f875e",
        "colab": {
          "base_uri": "https://localhost:8080/",
          "height": 54
        }
      },
      "source": [
        "# a를 슬라이스하여 c 생성\n",
        "c = a[1:3, 1:3]\n",
        "\n",
        "print(c)"
      ],
      "execution_count": 0,
      "outputs": [
        {
          "output_type": "stream",
          "text": [
            "[[ 6  7]\n",
            " [10 11]]\n"
          ],
          "name": "stdout"
        }
      ]
    },
    {
      "cell_type": "code",
      "metadata": {
        "id": "Sn84SoasQEbx",
        "colab_type": "code",
        "outputId": "f91cc066-5f30-4971-d3b0-24c7a3ec3434",
        "colab": {
          "base_uri": "https://localhost:8080/",
          "height": 126
        }
      },
      "source": [
        "# c[0, 0]은 a[1, 1]과 같은 데이터입니다.\n",
        "c[0, 0] = 100\n",
        "\n",
        "print(c)\n",
        "print('------------------')\n",
        "print(a)"
      ],
      "execution_count": 0,
      "outputs": [
        {
          "output_type": "stream",
          "text": [
            "[[100   7]\n",
            " [ 10  11]]\n",
            "------------------\n",
            "[[  1   2   3   4]\n",
            " [  5 100   7   8]\n",
            " [  9  10  11  12]]\n"
          ],
          "name": "stdout"
        }
      ]
    },
    {
      "cell_type": "markdown",
      "metadata": {
        "id": "OqiAjevMrZk9",
        "colab_type": "text"
      },
      "source": [
        "### 인덱싱은 값을 복사해오고 슬라이싱은 값을 참조한다."
      ]
    },
    {
      "cell_type": "markdown",
      "metadata": {
        "id": "8HQJpEQA2wj2",
        "colab_type": "text"
      },
      "source": [
        "## 불리언 배열 인덱싱"
      ]
    },
    {
      "cell_type": "markdown",
      "metadata": {
        "id": "ZPR4ewXDaJaT",
        "colab_type": "text"
      },
      "source": [
        "불리언 배열 인덱싱을 통해 배열 속 요소를 취사선택할 수 있습니다. 불리언 배열 인덱싱은 특정 조건을 만족하게 하는 요소만 선택하고자 할 때 자주 사용됩니다."
      ]
    },
    {
      "cell_type": "code",
      "metadata": {
        "id": "w4xl1Vbz2y71",
        "colab_type": "code",
        "outputId": "581d2ab4-556a-43a5-c6c9-fc050b7cee77",
        "colab": {
          "base_uri": "https://localhost:8080/",
          "height": 72
        }
      },
      "source": [
        "import numpy as np\n",
        "\n",
        "a = np.array([[1,2], [3, 4], [5, 6]])\n",
        "\n",
        "print(a)"
      ],
      "execution_count": 0,
      "outputs": [
        {
          "output_type": "stream",
          "text": [
            "[[1 2]\n",
            " [3 4]\n",
            " [5 6]]\n"
          ],
          "name": "stdout"
        }
      ]
    },
    {
      "cell_type": "code",
      "metadata": {
        "id": "2caKbkRbbzVD",
        "colab_type": "code",
        "outputId": "2b24a72e-2315-4b5f-b18d-33a0c707ad59",
        "colab": {
          "base_uri": "https://localhost:8080/",
          "height": 108
        }
      },
      "source": [
        "bool_idx = (a > 2)  # 2보다 큰 a의 요소를 찾습니다;\n",
        "                    # 이 코드는 a와 shape가 같고 불리언 자료형을 요소로 하는 numpy 배열을 반환합니다,\n",
        "                    # bool_idx의 각 요소는 동일한 위치에 있는 a의\n",
        "                    # 요소가 2보다 큰지를 말해줍니다.\n",
        "\n",
        "print(bool_idx)      # 출력 \"[[False False]\n",
        "                     #       [ True  True]\n",
        "                     #       [ True  True]]\"\n",
        "\n",
        "# 불리언 배열 인덱싱을 통해 bool_idx에서\n",
        "# 참 값을 가지는 요소로 구성되는\n",
        "# rank 1인 배열을 구성할 수 있습니다.\n",
        "print(a[bool_idx])  # 출력 \"[3 4 5 6]\" boolian indexing 했을 때\n",
        "\n",
        "# 위에서 한 모든것을 한 문장으로 할 수 있습니다:\n",
        "print(a[a > 2])     # 출력 \"[3 4 5 6]\" True인 값만 출력이 됨."
      ],
      "execution_count": 0,
      "outputs": [
        {
          "output_type": "stream",
          "text": [
            "[[False False]\n",
            " [ True  True]\n",
            " [ True  True]]\n",
            "[3 4 5 6]\n",
            "[3 4 5 6]\n"
          ],
          "name": "stdout"
        }
      ]
    },
    {
      "cell_type": "markdown",
      "metadata": {
        "id": "orsL9GWLYTpQ",
        "colab_type": "text"
      },
      "source": [
        "## (참조) 정수 배열 인덱싱"
      ]
    },
    {
      "cell_type": "code",
      "metadata": {
        "id": "gmXzZ-IyxESh",
        "colab_type": "code",
        "outputId": "14bdf4ee-7f97-44eb-9de5-49cf9f21e22d",
        "colab": {
          "base_uri": "https://localhost:8080/",
          "height": 72
        }
      },
      "source": [
        "import numpy as np\n",
        "\n",
        "a = np.array([[1,2], [3, 4], [5, 6]])\n",
        "\n",
        "print(a)"
      ],
      "execution_count": 0,
      "outputs": [
        {
          "output_type": "stream",
          "text": [
            "[[1 2]\n",
            " [3 4]\n",
            " [5 6]]\n"
          ],
          "name": "stdout"
        }
      ]
    },
    {
      "cell_type": "code",
      "metadata": {
        "id": "OBq04jLFZRGn",
        "colab_type": "code",
        "outputId": "64af4899-5617-42da-a92e-864061fb3d77",
        "colab": {
          "base_uri": "https://localhost:8080/",
          "height": 90
        }
      },
      "source": [
        "# 정수 배열 인덱싱의 예.\n",
        "# 반환되는 배열의 shape는 (3,)\n",
        "print(a[[0, 1, 2], [0, 1, 0]])  #첫번째 [0,1,2]는 a의 x좌표,두번째 [0,1,2] a의 y좌표이다. 출력 \"[1 4 5]\"\n",
        "\n",
        "# 위에서 본 정수 배열 인덱싱 예제는 다음과 동일합니다:\n",
        "print(np.array([a[0, 0], a[1, 1], a[2, 0]]))  # 출력 \"[1 4 5]\"\n",
        "\n",
        "# 정수 배열 인덱싱을 사용할 때,\n",
        "# 원본 배열의 같은 요소를 재사용할 수 있습니다:\n",
        "print(a[[0, 0], [1, 1]])  # 출력 \"[2 2]\"\n",
        "\n",
        "# 위 예제는 다음과 동일합니다\n",
        "print(np.array([a[0, 1], a[0, 1]]))  # 출력 \"[2 2]\""
      ],
      "execution_count": 0,
      "outputs": [
        {
          "output_type": "stream",
          "text": [
            "[1 4 5]\n",
            "[1 4 5]\n",
            "[2 2]\n",
            "[2 2]\n"
          ],
          "name": "stdout"
        }
      ]
    },
    {
      "cell_type": "markdown",
      "metadata": {
        "id": "p3t9TzIMX5bG",
        "colab_type": "text"
      },
      "source": [
        "## 전치(transpose)"
      ]
    },
    {
      "cell_type": "markdown",
      "metadata": {
        "id": "zFtuErBr3lN0",
        "colab_type": "text"
      },
      "source": [
        "종종 배열의 모양을 바꾸거나 데이터를 처리해야 할 때가 있습니다. 가장 간단한 예는 행렬의 주 대각선을 기준으로 대칭되는 요소끼리 뒤바꾸는 것입니다; \n",
        "\n",
        "데이터는 그대로이고, 바라보는 관점만 바뀌었다.\n",
        "\n",
        "이를 전치라고 하며 행렬을 전치하기 위해선, 간단하게 배열 객체의 ‘T’ 속성을 사용하면 됩니다:"
      ]
    },
    {
      "cell_type": "code",
      "metadata": {
        "id": "BpMXJuMb3nti",
        "colab_type": "code",
        "outputId": "250dfa05-3420-4350-de43-a0f9c65c9c52",
        "colab": {
          "base_uri": "https://localhost:8080/",
          "height": 126
        }
      },
      "source": [
        "import numpy as np\n",
        "\n",
        "x = np.array([[1,2], [3,4]])\n",
        "print(x)    # 출력 \"[[1 2]\n",
        "            #       [3 4]]\"\n",
        "print(x.T)  # 출력 \"[[1 3]\n",
        "            #       [2 4]]\"\n",
        "\n",
        "# 차원이 1인 배열을 전치할 경우 아무 일도 일어나지 않습니다:\n",
        "v = np.array([1,2,3])\n",
        "print(v)    # 출력 \"[1 2 3]\"\n",
        "print(v.T)  # 출력 \"[1 2 3]\""
      ],
      "execution_count": 0,
      "outputs": [
        {
          "output_type": "stream",
          "text": [
            "[[1 2]\n",
            " [3 4]]\n",
            "[[1 3]\n",
            " [2 4]]\n",
            "[1 2 3]\n",
            "[1 2 3]\n"
          ],
          "name": "stdout"
        }
      ]
    },
    {
      "cell_type": "markdown",
      "metadata": {
        "id": "PLZ_crwrYmvQ",
        "colab_type": "text"
      },
      "source": [
        "## Shape 변경"
      ]
    },
    {
      "cell_type": "markdown",
      "metadata": {
        "id": "aflbVOpd708-",
        "colab_type": "text"
      },
      "source": [
        "### numpy.reshape"
      ]
    },
    {
      "cell_type": "markdown",
      "metadata": {
        "id": "XCMTsEvP7273",
        "colab_type": "text"
      },
      "source": [
        "Gives a new shape to an array without changing its data"
      ]
    },
    {
      "cell_type": "code",
      "metadata": {
        "id": "t8dR7iPqwgzA",
        "colab_type": "code",
        "outputId": "4eec6525-4de9-480a-c941-9dd02c8d25fb",
        "colab": {
          "base_uri": "https://localhost:8080/",
          "height": 35
        }
      },
      "source": [
        "np.arange(6)"
      ],
      "execution_count": 0,
      "outputs": [
        {
          "output_type": "execute_result",
          "data": {
            "text/plain": [
              "array([0, 1, 2, 3, 4, 5])"
            ]
          },
          "metadata": {
            "tags": []
          },
          "execution_count": 136
        }
      ]
    },
    {
      "cell_type": "code",
      "metadata": {
        "id": "sZabiDuswjzb",
        "colab_type": "code",
        "outputId": "413b549e-1332-434b-e239-d614428a6d59",
        "colab": {
          "base_uri": "https://localhost:8080/",
          "height": 72
        }
      },
      "source": [
        "np.arange(6).reshape((3, 2)) # 3행 2열로 reshape"
      ],
      "execution_count": 0,
      "outputs": [
        {
          "output_type": "execute_result",
          "data": {
            "text/plain": [
              "array([[0, 1],\n",
              "       [2, 3],\n",
              "       [4, 5]])"
            ]
          },
          "metadata": {
            "tags": []
          },
          "execution_count": 137
        }
      ]
    },
    {
      "cell_type": "code",
      "metadata": {
        "id": "C5D6ux9P8ACt",
        "colab_type": "code",
        "colab": {}
      },
      "source": [
        "a = np.arange(6).reshape((3, 2))"
      ],
      "execution_count": 0,
      "outputs": []
    },
    {
      "cell_type": "code",
      "metadata": {
        "id": "DLBAyj0K8Jgk",
        "colab_type": "code",
        "outputId": "27c9eb38-9183-4b77-81e5-ab45eaf3f205",
        "colab": {
          "base_uri": "https://localhost:8080/",
          "height": 72
        }
      },
      "source": [
        "a"
      ],
      "execution_count": 0,
      "outputs": [
        {
          "output_type": "execute_result",
          "data": {
            "text/plain": [
              "array([[0, 1],\n",
              "       [2, 3],\n",
              "       [4, 5]])"
            ]
          },
          "metadata": {
            "tags": []
          },
          "execution_count": 139
        }
      ]
    },
    {
      "cell_type": "code",
      "metadata": {
        "id": "VCg8dOLG5JC1",
        "colab_type": "code",
        "outputId": "dd2ced89-2ed6-471f-babd-90c9ba7af8ae",
        "colab": {
          "base_uri": "https://localhost:8080/",
          "height": 54
        }
      },
      "source": [
        "np.reshape(a, (2,3))"
      ],
      "execution_count": 0,
      "outputs": [
        {
          "output_type": "execute_result",
          "data": {
            "text/plain": [
              "array([[0, 1, 2],\n",
              "       [3, 4, 5]])"
            ]
          },
          "metadata": {
            "tags": []
          },
          "execution_count": 140
        }
      ]
    },
    {
      "cell_type": "code",
      "metadata": {
        "id": "Dz_ffZkx5q-_",
        "colab_type": "code",
        "outputId": "e6319618-3cd0-4d6c-8026-48c7ae9e6109",
        "colab": {
          "base_uri": "https://localhost:8080/",
          "height": 35
        }
      },
      "source": [
        "# 2차원\n",
        "np.reshape(a, (1,6))"
      ],
      "execution_count": 0,
      "outputs": [
        {
          "output_type": "execute_result",
          "data": {
            "text/plain": [
              "array([[0, 1, 2, 3, 4, 5]])"
            ]
          },
          "metadata": {
            "tags": []
          },
          "execution_count": 141
        }
      ]
    },
    {
      "cell_type": "code",
      "metadata": {
        "id": "8lVoSmog5qkf",
        "colab_type": "code",
        "outputId": "cdb4fff3-1d48-4ed4-9e83-acc11761e5b7",
        "colab": {
          "base_uri": "https://localhost:8080/",
          "height": 35
        }
      },
      "source": [
        "# 1차원\n",
        "np.reshape(a, 6)"
      ],
      "execution_count": 0,
      "outputs": [
        {
          "output_type": "execute_result",
          "data": {
            "text/plain": [
              "array([0, 1, 2, 3, 4, 5])"
            ]
          },
          "metadata": {
            "tags": []
          },
          "execution_count": 142
        }
      ]
    },
    {
      "cell_type": "markdown",
      "metadata": {
        "id": "LWmGFdPN8sHz",
        "colab_type": "text"
      },
      "source": [
        "### numpy.ravel() : 직선으로 만들어주는 함수\n",
        "예시) 2차원, 3차원을 1차원으로 만들어줘야 neural network학습이 가능"
      ]
    },
    {
      "cell_type": "markdown",
      "metadata": {
        "id": "spkzJmkO80L6",
        "colab_type": "text"
      },
      "source": [
        "Return a contiguous flattened array."
      ]
    },
    {
      "cell_type": "code",
      "metadata": {
        "id": "IzmcXTCq5qaH",
        "colab_type": "code",
        "outputId": "27a67a38-4fa0-4060-fe3e-f019d7310c30",
        "colab": {
          "base_uri": "https://localhost:8080/",
          "height": 35
        }
      },
      "source": [
        "np.ravel(a)"
      ],
      "execution_count": 0,
      "outputs": [
        {
          "output_type": "execute_result",
          "data": {
            "text/plain": [
              "array([0, 1, 2, 3, 4, 5])"
            ]
          },
          "metadata": {
            "tags": []
          },
          "execution_count": 143
        }
      ]
    },
    {
      "cell_type": "code",
      "metadata": {
        "id": "qbsqbAJZ53jX",
        "colab_type": "code",
        "outputId": "93a2dcd3-0364-4bf8-fefb-e1b982f07c4d",
        "colab": {
          "base_uri": "https://localhost:8080/",
          "height": 35
        }
      },
      "source": [
        "a.ravel()"
      ],
      "execution_count": 0,
      "outputs": [
        {
          "output_type": "execute_result",
          "data": {
            "text/plain": [
              "array([0, 1, 2, 3, 4, 5])"
            ]
          },
          "metadata": {
            "tags": []
          },
          "execution_count": 144
        }
      ]
    },
    {
      "cell_type": "markdown",
      "metadata": {
        "id": "YZHKRyvk89wK",
        "colab_type": "text"
      },
      "source": [
        "### numpy.ndarray.flatten()"
      ]
    },
    {
      "cell_type": "markdown",
      "metadata": {
        "id": "5aABNEj89ERE",
        "colab_type": "text"
      },
      "source": [
        "Return a copy of the array collapsed into one dimension."
      ]
    },
    {
      "cell_type": "code",
      "metadata": {
        "id": "V3IjMMqZ5Og5",
        "colab_type": "code",
        "outputId": "db5ac3b4-3982-414c-dc36-b515c8156d73",
        "colab": {
          "base_uri": "https://localhost:8080/",
          "height": 35
        }
      },
      "source": [
        "# np.flatten(a) # Numpy 모듈 함수가 아님\n",
        "a.flatten()     # ndarray(다차원배열) 객체의 메소드로만 사용 가능"
      ],
      "execution_count": 0,
      "outputs": [
        {
          "output_type": "execute_result",
          "data": {
            "text/plain": [
              "array([0, 1, 2, 3, 4, 5])"
            ]
          },
          "metadata": {
            "tags": []
          },
          "execution_count": 145
        }
      ]
    },
    {
      "cell_type": "markdown",
      "metadata": {
        "id": "7ZvKr7dS_MxT",
        "colab_type": "text"
      },
      "source": [
        "**ravel()과 flatten() 차이점**\n",
        "- flatten은 객체의 매소드로만 사용 가능\n",
        "- ravel()은 뷰를 반환(값을 참조해서 반환), flatten은 복사본을 반환\n",
        "  (원본 a에 영향미치지 않음)\n",
        "-cf 유사원리: indexing은 뷰를 반환, slicing 은 복사본 반환"
      ]
    },
    {
      "cell_type": "markdown",
      "metadata": {
        "id": "-e2xFxz9Ym87",
        "colab_type": "text"
      },
      "source": [
        "## 연결"
      ]
    },
    {
      "cell_type": "markdown",
      "metadata": {
        "id": "tHanj3jX37oT",
        "colab_type": "text"
      },
      "source": [
        "### numpy.concatenate"
      ]
    },
    {
      "cell_type": "code",
      "metadata": {
        "id": "O67AqHaB3qqK",
        "colab_type": "code",
        "colab": {}
      },
      "source": [
        "a = np.array([[1, 2], [3, 4]])\n",
        "b = np.array([[5, 6]])"
      ],
      "execution_count": 0,
      "outputs": []
    },
    {
      "cell_type": "code",
      "metadata": {
        "id": "mvr_CL7C4EjK",
        "colab_type": "code",
        "outputId": "f135fb33-9c9f-4189-b0a9-86f0e08ab92c",
        "colab": {
          "base_uri": "https://localhost:8080/",
          "height": 72
        }
      },
      "source": [
        "np.concatenate((a, b), axis=0)"
      ],
      "execution_count": 0,
      "outputs": [
        {
          "output_type": "execute_result",
          "data": {
            "text/plain": [
              "array([[1, 2],\n",
              "       [3, 4],\n",
              "       [5, 6]])"
            ]
          },
          "metadata": {
            "tags": []
          },
          "execution_count": 147
        }
      ]
    },
    {
      "cell_type": "code",
      "metadata": {
        "id": "bMkQiBU0ySuX",
        "colab_type": "code",
        "outputId": "2b75514a-624c-4ef7-b681-e98294f460df",
        "colab": {
          "base_uri": "https://localhost:8080/",
          "height": 54
        }
      },
      "source": [
        "a"
      ],
      "execution_count": 0,
      "outputs": [
        {
          "output_type": "execute_result",
          "data": {
            "text/plain": [
              "array([[1, 2],\n",
              "       [3, 4]])"
            ]
          },
          "metadata": {
            "tags": []
          },
          "execution_count": 148
        }
      ]
    },
    {
      "cell_type": "code",
      "metadata": {
        "id": "ErQPNtzT_HpQ",
        "colab_type": "code",
        "outputId": "540ac854-3dc3-4611-f9fe-2ee0fec684cb",
        "colab": {
          "base_uri": "https://localhost:8080/",
          "height": 35
        }
      },
      "source": [
        "a[0] # a를 indexing 한 상태에서"
      ],
      "execution_count": 0,
      "outputs": [
        {
          "output_type": "execute_result",
          "data": {
            "text/plain": [
              "array([1, 2])"
            ]
          },
          "metadata": {
            "tags": []
          },
          "execution_count": 149
        }
      ]
    },
    {
      "cell_type": "code",
      "metadata": {
        "id": "5e_crQWP_SNa",
        "colab_type": "code",
        "outputId": "5e0d4aa9-e0e4-4d83-9aa3-219cc58cf77e",
        "colab": {
          "base_uri": "https://localhost:8080/",
          "height": 35
        }
      },
      "source": [
        "a[0].T # transformation 시키면 변화가 없다. 1차원에서 transformation 시켰기 때문. (indexing 아닌 slicing 했어야..)"
      ],
      "execution_count": 0,
      "outputs": [
        {
          "output_type": "execute_result",
          "data": {
            "text/plain": [
              "array([1, 2])"
            ]
          },
          "metadata": {
            "tags": []
          },
          "execution_count": 150
        }
      ]
    },
    {
      "cell_type": "code",
      "metadata": {
        "id": "MbtPfOJP_1Qw",
        "colab_type": "code",
        "outputId": "a8e8a87b-3116-41d1-fac8-2fff95ade897",
        "colab": {
          "base_uri": "https://localhost:8080/",
          "height": 35
        }
      },
      "source": [
        "a[0:1] # a를 slicing 시키면"
      ],
      "execution_count": 0,
      "outputs": [
        {
          "output_type": "execute_result",
          "data": {
            "text/plain": [
              "array([[1, 2]])"
            ]
          },
          "metadata": {
            "tags": []
          },
          "execution_count": 151
        }
      ]
    },
    {
      "cell_type": "code",
      "metadata": {
        "id": "IfeAwqgWAMXP",
        "colab_type": "code",
        "outputId": "60846175-2cd9-4cd8-837f-375d676b740d",
        "colab": {
          "base_uri": "https://localhost:8080/",
          "height": 54
        }
      },
      "source": [
        "a[0:1].T # transformation이 된다."
      ],
      "execution_count": 0,
      "outputs": [
        {
          "output_type": "execute_result",
          "data": {
            "text/plain": [
              "array([[1],\n",
              "       [2]])"
            ]
          },
          "metadata": {
            "tags": []
          },
          "execution_count": 152
        }
      ]
    },
    {
      "cell_type": "code",
      "metadata": {
        "id": "IfKUxkJe9_3t",
        "colab_type": "code",
        "outputId": "2f3b38d5-ba8e-4c0b-bbb0-c2886717a1dc",
        "colab": {
          "base_uri": "https://localhost:8080/",
          "height": 35
        }
      },
      "source": [
        "b"
      ],
      "execution_count": 0,
      "outputs": [
        {
          "output_type": "execute_result",
          "data": {
            "text/plain": [
              "array([[5, 6]])"
            ]
          },
          "metadata": {
            "tags": []
          },
          "execution_count": 153
        }
      ]
    },
    {
      "cell_type": "code",
      "metadata": {
        "id": "O0O_d3tP-RUq",
        "colab_type": "code",
        "outputId": "aec888e8-bb41-48f2-9ad7-d9fb3152b3c1",
        "colab": {
          "base_uri": "https://localhost:8080/",
          "height": 136
        }
      },
      "source": [
        "b. #b가 1차원이 아니고 2차원이기 때문에 transformation이 가능함"
      ],
      "execution_count": 0,
      "outputs": [
        {
          "output_type": "error",
          "ename": "SyntaxError",
          "evalue": "ignored",
          "traceback": [
            "\u001b[0;36m  File \u001b[0;32m\"<ipython-input-154-3b0a7e0e201e>\"\u001b[0;36m, line \u001b[0;32m1\u001b[0m\n\u001b[0;31m    b. #b가 1차원이 아니고 2차원이기 때문에 transformation이 가능함\u001b[0m\n\u001b[0m                                                 ^\u001b[0m\n\u001b[0;31mSyntaxError\u001b[0m\u001b[0;31m:\u001b[0m invalid syntax\n"
          ]
        }
      ]
    },
    {
      "cell_type": "code",
      "metadata": {
        "id": "ffqEvbSqyUM9",
        "colab_type": "code",
        "outputId": "fe7772a9-2896-4c23-9c57-5c36c7d40978",
        "colab": {
          "base_uri": "https://localhost:8080/",
          "height": 54
        }
      },
      "source": [
        "a[0:1].T"
      ],
      "execution_count": 0,
      "outputs": [
        {
          "output_type": "execute_result",
          "data": {
            "text/plain": [
              "array([[1],\n",
              "       [2]])"
            ]
          },
          "metadata": {
            "tags": []
          },
          "execution_count": 155
        }
      ]
    },
    {
      "cell_type": "code",
      "metadata": {
        "id": "YwrtBYd54EUw",
        "colab_type": "code",
        "outputId": "7ab415db-3ebf-4701-8c51-de22debe7814",
        "colab": {
          "base_uri": "https://localhost:8080/",
          "height": 54
        }
      },
      "source": [
        "np.concatenate((a, b.T), axis=1)"
      ],
      "execution_count": 0,
      "outputs": [
        {
          "output_type": "execute_result",
          "data": {
            "text/plain": [
              "array([[1, 2, 5],\n",
              "       [3, 4, 6]])"
            ]
          },
          "metadata": {
            "tags": []
          },
          "execution_count": 156
        }
      ]
    },
    {
      "cell_type": "markdown",
      "metadata": {
        "id": "rVREocA94NhK",
        "colab_type": "text"
      },
      "source": [
        "### 참조"
      ]
    },
    {
      "cell_type": "markdown",
      "metadata": {
        "id": "d0JgPbk903Pi",
        "colab_type": "text"
      },
      "source": [
        "https://docs.scipy.org/doc/numpy/reference/routines.array-manipulation.html#joining-arrays"
      ]
    },
    {
      "cell_type": "markdown",
      "metadata": {
        "id": "NEfhcSP6Ym6r",
        "colab_type": "text"
      },
      "source": [
        "# 다차원 배열 연산"
      ]
    },
    {
      "cell_type": "markdown",
      "metadata": {
        "id": "QPREx67Z3B9K",
        "colab_type": "text"
      },
      "source": [
        "기본적인 수학함수는 배열의 각 요소별로 동작하며 연산자를 통해 동작하거나 numpy 함수모듈을 통해 동작합니다.\n",
        "\n",
        "다차원 배열간 연산시, **shape가 맞아야** 연산이 이루어집니다.\n",
        "- 요소별 합, 차, 곱, 나눗셈의 경우 shape가 일치해야 합니다.\n",
        "- dot의 경우 앞 배열의 열과 뒤 배열의 행의 크기가 일치해야 합니다.\n",
        "\n",
        "https://docs.scipy.org/doc/numpy/reference/routines.math.html"
      ]
    },
    {
      "cell_type": "code",
      "metadata": {
        "id": "KB6qg3SB3Bde",
        "colab_type": "code",
        "outputId": "2d168a95-eb4d-4afe-ad11-296ed60a795e",
        "colab": {
          "base_uri": "https://localhost:8080/",
          "height": 345
        }
      },
      "source": [
        "import numpy as np\n",
        "\n",
        "x = np.array([[1., 2.], [3., 4.]])\n",
        "y = np.array([[5., 6.], [7., 8.]])\n",
        "\n",
        "# 요소별 합; 둘 다 다음의 배열을 만듭니다\n",
        "# [[ 6.0  8.0]\n",
        "#  [10.0 12.0]]\n",
        "print(x + y)\n",
        "print(np.add(x, y))\n",
        "\n",
        "# 요소별 차; 둘 다 다음의 배열을 만듭니다\n",
        "# [[-4.0 -4.0]\n",
        "#  [-4.0 -4.0]]\n",
        "print(x - y)\n",
        "print(np.subtract(x, y))\n",
        "\n",
        "# 요소별 곱; 둘 다 다음의 배열을 만듭니다\n",
        "# [[ 5.0 12.0]\n",
        "#  [21.0 32.0]]\n",
        "print(x * y)\n",
        "print(np.multiply(x, y))\n",
        "\n",
        "# 요소별 나눗셈; 둘 다 다음의 배열을 만듭니다\n",
        "# [[ 0.2         0.33333333]\n",
        "#  [ 0.42857143  0.5       ]]\n",
        "print(x / y)\n",
        "print(np.divide(x, y))\n",
        "\n",
        "# 요소별 제곱근; 다음의 배열을 만듭니다\n",
        "# [[ 1.          1.41421356]\n",
        "#  [ 1.73205081  2.        ]]\n",
        "print(np.sqrt(x))"
      ],
      "execution_count": 0,
      "outputs": [
        {
          "output_type": "stream",
          "text": [
            "[[ 6.  8.]\n",
            " [10. 12.]]\n",
            "[[ 6.  8.]\n",
            " [10. 12.]]\n",
            "[[-4. -4.]\n",
            " [-4. -4.]]\n",
            "[[-4. -4.]\n",
            " [-4. -4.]]\n",
            "[[ 5. 12.]\n",
            " [21. 32.]]\n",
            "[[ 5. 12.]\n",
            " [21. 32.]]\n",
            "[[0.2        0.33333333]\n",
            " [0.42857143 0.5       ]]\n",
            "[[0.2        0.33333333]\n",
            " [0.42857143 0.5       ]]\n",
            "[[1.         1.41421356]\n",
            " [1.73205081 2.        ]]\n"
          ],
          "name": "stdout"
        }
      ]
    },
    {
      "cell_type": "markdown",
      "metadata": {
        "id": "dB_z-c6e3VOk",
        "colab_type": "text"
      },
      "source": [
        "Numpy에선 벡터의 내적, 벡터와 행렬의 곱, 행렬곱을 위해 `*`대신 `dot`함수를 사용합니다.\n",
        "\n",
        "`dot`은 Numpy 모듈 함수로서도 배열 객체의 메소드로서도 이용 가능한 합수입니다"
      ]
    },
    {
      "cell_type": "code",
      "metadata": {
        "id": "3PFt0rCE3Y_M",
        "colab_type": "code",
        "outputId": "a3678080-c615-48a7-9bd6-f5fcc64944bd",
        "colab": {
          "base_uri": "https://localhost:8080/",
          "height": 163
        }
      },
      "source": [
        "import numpy as np\n",
        "\n",
        "x = np.array([[1,2],[3,4]])\n",
        "y = np.array([[5,6],[7,8]])\n",
        "\n",
        "v = np.array([9,10])\n",
        "w = np.array([11, 12])\n",
        "\n",
        "# 벡터의 내적; 둘 다 결과는 219\n",
        "print(v.dot(w))\n",
        "print(np.dot(v, w))# numpy module 함수\n",
        "\n",
        "# 행렬과 벡터의 곱; 둘 다 결과는 dimension 1인 배열 [29 67]\n",
        "print(x.dot(v))\n",
        "print(np.dot(x, v))\n",
        "\n",
        "# 행렬곱; 둘 다 결과는 dimension 2인 배열\n",
        "# [[19 22]\n",
        "#  [43 50]]\n",
        "print(x.dot(y))\n",
        "print(np.dot(x, y))"
      ],
      "execution_count": 0,
      "outputs": [
        {
          "output_type": "stream",
          "text": [
            "219\n",
            "219\n",
            "[29 67]\n",
            "[29 67]\n",
            "[[19 22]\n",
            " [43 50]]\n",
            "[[19 22]\n",
            " [43 50]]\n"
          ],
          "name": "stdout"
        }
      ]
    },
    {
      "cell_type": "markdown",
      "metadata": {
        "id": "FlyVDye2Ymo7",
        "colab_type": "text"
      },
      "source": [
        "# NumPy 고급 기능"
      ]
    },
    {
      "cell_type": "markdown",
      "metadata": {
        "id": "clp8mtKH35Sm",
        "colab_type": "text"
      },
      "source": [
        "브로트캐스팅은 Numpy에서 shape가 다른 배열 간에도 산술 연산이 가능하게 하는 메커니즘입니다. 종종 작은 배열과 큰 배열이 있을 때, 큰 배열을 대상으로 작은 배열을 여러 번 연산하고자 할 때가 있습니다. 예를 들어, 행렬의 각 행에 상수 벡터를 더하는 걸 생각해보세요. 이는 다음과 같은 방식으로 처리될 수 있습니다:"
      ]
    },
    {
      "cell_type": "code",
      "metadata": {
        "id": "Jt-LJxZS365d",
        "colab_type": "code",
        "colab": {}
      },
      "source": [
        "import numpy as np\n",
        "\n",
        "# 행렬 x의 각 행에 벡터 v를 더한 뒤,\n",
        "# 그 결과를 행렬 y에 저장하고자 합니다\n",
        "x = np.array([[1,2,3], [4,5,6], [7,8,9], [10, 11, 12]])\n",
        "# x =   \"[[1  2  3]\n",
        "#         [4  5  6]\n",
        "#         [7  8  9]\n",
        "#         [10 11 12]]\"\n",
        "\n",
        "v = np.array([1, 0, 1])\n"
      ],
      "execution_count": 0,
      "outputs": []
    },
    {
      "cell_type": "code",
      "metadata": {
        "id": "mM8Ns-s27dcc",
        "colab_type": "code",
        "outputId": "c7dec9de-c431-407b-915c-062d82fd43fc",
        "colab": {
          "base_uri": "https://localhost:8080/",
          "height": 92
        }
      },
      "source": [
        "x"
      ],
      "execution_count": 2,
      "outputs": [
        {
          "output_type": "execute_result",
          "data": {
            "text/plain": [
              "array([[ 1,  2,  3],\n",
              "       [ 4,  5,  6],\n",
              "       [ 7,  8,  9],\n",
              "       [10, 11, 12]])"
            ]
          },
          "metadata": {
            "tags": []
          },
          "execution_count": 2
        }
      ]
    },
    {
      "cell_type": "code",
      "metadata": {
        "id": "-7qf8vW17gfh",
        "colab_type": "code",
        "colab": {
          "base_uri": "https://localhost:8080/",
          "height": 36
        },
        "outputId": "24150e8a-89fb-4b4f-88f7-f7b475ccda34"
      },
      "source": [
        "v"
      ],
      "execution_count": 3,
      "outputs": [
        {
          "output_type": "execute_result",
          "data": {
            "text/plain": [
              "array([1, 0, 1])"
            ]
          },
          "metadata": {
            "tags": []
          },
          "execution_count": 3
        }
      ]
    },
    {
      "cell_type": "code",
      "metadata": {
        "id": "NlMN8-eD7itj",
        "colab_type": "code",
        "colab": {
          "base_uri": "https://localhost:8080/",
          "height": 36
        },
        "outputId": "9a944b83-d249-41a5-a496-95cc9907e842"
      },
      "source": [
        "x.shape"
      ],
      "execution_count": 4,
      "outputs": [
        {
          "output_type": "execute_result",
          "data": {
            "text/plain": [
              "(4, 3)"
            ]
          },
          "metadata": {
            "tags": []
          },
          "execution_count": 4
        }
      ]
    },
    {
      "cell_type": "code",
      "metadata": {
        "id": "mdTItwZH7khS",
        "colab_type": "code",
        "colab": {
          "base_uri": "https://localhost:8080/",
          "height": 36
        },
        "outputId": "532f6985-8f91-4cc0-dd8e-b1156eb44b41"
      },
      "source": [
        "v.shape"
      ],
      "execution_count": 5,
      "outputs": [
        {
          "output_type": "execute_result",
          "data": {
            "text/plain": [
              "(3,)"
            ]
          },
          "metadata": {
            "tags": []
          },
          "execution_count": 5
        }
      ]
    },
    {
      "cell_type": "code",
      "metadata": {
        "id": "VxaXYMf17oc3",
        "colab_type": "code",
        "colab": {
          "base_uri": "https://localhost:8080/",
          "height": 92
        },
        "outputId": "85f98345-fb9c-4578-da81-958ab276228c"
      },
      "source": [
        "y = np.empty_like(x)   # x와 동일한 shape를 가지며 비어있는 행렬 생성\n",
        "\n",
        "y"
      ],
      "execution_count": 6,
      "outputs": [
        {
          "output_type": "execute_result",
          "data": {
            "text/plain": [
              "array([[       67819520,               0,             833],\n",
              "       [       50712120, 140328308113632, 140328308113632],\n",
              "       [140328308113632, 140328308113632,               0],\n",
              "       [              4,     38654705665,               0]])"
            ]
          },
          "metadata": {
            "tags": []
          },
          "execution_count": 6
        }
      ]
    },
    {
      "cell_type": "code",
      "metadata": {
        "id": "ytOKGmgf7s8A",
        "colab_type": "code",
        "colab": {
          "base_uri": "https://localhost:8080/",
          "height": 92
        },
        "outputId": "4feddb92-dc3c-42b9-cac0-8c1b74eee72a"
      },
      "source": [
        "# 명시적 반복문을 통해 행렬 x의 각 행에 벡터 v를 더하는 방법\n",
        "for i in range(4):\n",
        "    y[i, :] = x[i, :] + v\n",
        "\n",
        "# 이제 y는 다음과 같습니다\n",
        "# [[ 2  2  4]\n",
        "#  [ 5  5  7]\n",
        "#  [ 8  8 10]\n",
        "#  [11 11 13]]\n",
        "print(y)"
      ],
      "execution_count": 7,
      "outputs": [
        {
          "output_type": "stream",
          "text": [
            "[[ 2  2  4]\n",
            " [ 5  5  7]\n",
            " [ 8  8 10]\n",
            " [11 11 13]]\n"
          ],
          "name": "stdout"
        }
      ]
    },
    {
      "cell_type": "markdown",
      "metadata": {
        "id": "TS7aVqJH4AZd",
        "colab_type": "text"
      },
      "source": [
        "위의 방식대로 하면 됩니다; 그러나 `x`가 매우 큰 행렬이라면, 파이썬의 반복문을 이용한 위 코드는 매우 느려질 수 있습니다.\n",
        "\n",
        "벡터 `v`를 행렬 `x`의 각 행에 더하는 것은 `v`를 여러 개 복사해 수직으로 쌓은 행렬 `vv`를 만들고 이 `vv`를 `x`에 더하는것과 동일합니다.\n",
        "\n",
        "이 과정을 아래처럼 구현할 수 있습니다:"
      ]
    },
    {
      "cell_type": "code",
      "metadata": {
        "id": "ALVbwRLD4EU5",
        "colab_type": "code",
        "colab": {}
      },
      "source": [
        "import numpy as np\n",
        "\n",
        "# 벡터 v를 행렬 x의 각 행에 더한 뒤,\n",
        "# 그 결과를 행렬 y에 저장하고자 합니다\n",
        "x = np.array([[1,2,3], [4,5,6], [7,8,9], [10, 11, 12]])\n",
        "v = np.array([1, 0, 1])\n"
      ],
      "execution_count": 0,
      "outputs": []
    },
    {
      "cell_type": "code",
      "metadata": {
        "id": "KjJQJFHR8MvE",
        "colab_type": "code",
        "colab": {
          "base_uri": "https://localhost:8080/",
          "height": 36
        },
        "outputId": "8bdebcdf-427a-4040-a3ac-f2f1c37a0a7c"
      },
      "source": [
        "vv = np.tile(v, (4, 1))   # v의 복사본 4개를 위로 차곡차곡 쌓은 것이 vv\n",
        "\n",
        "vv.shape"
      ],
      "execution_count": 9,
      "outputs": [
        {
          "output_type": "execute_result",
          "data": {
            "text/plain": [
              "(4, 3)"
            ]
          },
          "metadata": {
            "tags": []
          },
          "execution_count": 9
        }
      ]
    },
    {
      "cell_type": "code",
      "metadata": {
        "id": "SftbRUUj8Ykc",
        "colab_type": "code",
        "colab": {
          "base_uri": "https://localhost:8080/",
          "height": 167
        },
        "outputId": "32176f6a-cb4b-4f08-e1b9-fa99f68c7692"
      },
      "source": [
        "print(vv)                 # 출력 \"[[1 0 1]\n",
        "                          #       [1 0 1]\n",
        "                          #       [1 0 1]\n",
        "                          #       [1 0 1]]\"\n",
        "y = x + vv  # x와 vv의 요소별 합\n",
        "print(y)    # 출력 \"[[ 2  2  4\n",
        "            #       [ 5  5  7]\n",
        "            #       [ 8  8 10]\n",
        "            #       [11 11 13]]\""
      ],
      "execution_count": 10,
      "outputs": [
        {
          "output_type": "stream",
          "text": [
            "[[1 0 1]\n",
            " [1 0 1]\n",
            " [1 0 1]\n",
            " [1 0 1]]\n",
            "[[ 2  2  4]\n",
            " [ 5  5  7]\n",
            " [ 8  8 10]\n",
            " [11 11 13]]\n"
          ],
          "name": "stdout"
        }
      ]
    },
    {
      "cell_type": "markdown",
      "metadata": {
        "id": "Q5fnf7ub4DNk",
        "colab_type": "text"
      },
      "source": [
        "Numpy 브로드캐스팅을 이용한다면 이렇게 v의 복사본을 여러 개 만들지 않아도 동일한 연산을 할 수 있습니다. 아래는 브로드캐스팅을 이용한 예시 코드입니다:"
      ]
    },
    {
      "cell_type": "code",
      "metadata": {
        "id": "bCqCOn4l4NGD",
        "colab_type": "code",
        "colab": {
          "base_uri": "https://localhost:8080/",
          "height": 92
        },
        "outputId": "c7424c57-c41f-49b8-c61a-c9b684a41aa4"
      },
      "source": [
        "import numpy as np\n",
        "\n",
        "# 벡터 v를 행렬 x의 각 행에 더한 뒤,\n",
        "# 그 결과를 행렬 y에 저장하고자 합니다\n",
        "x = np.array([[1,2,3], [4,5,6], [7,8,9], [10, 11, 12]])\n",
        "v = np.array([1, 0, 1])\n",
        "y = x + v  # 브로드캐스팅을 이용하여 v를 x의 각 행에 더하기\n",
        "print(y)  # 출력 \"[[ 2  2  4]\n",
        "          #       [ 5  5  7]\n",
        "          #       [ 8  8 10]\n",
        "          #       [11 11 13]]\""
      ],
      "execution_count": 11,
      "outputs": [
        {
          "output_type": "stream",
          "text": [
            "[[ 2  2  4]\n",
            " [ 5  5  7]\n",
            " [ 8  8 10]\n",
            " [11 11 13]]\n"
          ],
          "name": "stdout"
        }
      ]
    },
    {
      "cell_type": "markdown",
      "metadata": {
        "id": "0YKozO6EBgEQ",
        "colab_type": "text"
      },
      "source": [
        "(강의 처음에 나온, 수학점수 다차원 배열에 +1 한 코드도 사실은 브로드캐스팅이었습니다!)"
      ]
    },
    {
      "cell_type": "markdown",
      "metadata": {
        "id": "Xz6ed7rh4TjN",
        "colab_type": "text"
      },
      "source": [
        "x의 shape가 (4, 3)이고 v의 shape가 (3,)라도 브로드캐스팅으로 인해 y = x + v는 문제없이 수행됩니다.\n",
        "\n",
        "이때 `v`는 `v`의 복사본이 차곡차곡 쌓인 shape (4, 3)처럼 간주되어 `x`와 동일한 shape가 되며 이들 간의 요소별 덧셈연산이 y에 저장됩니다.\n",
        "\n",
        "두 배열의 브로드캐스팅은 아래의 규칙을 따릅니다:\n",
        "\n",
        "1. 두 배열이 동일한 dimension을 가지고 있지 않다면, 낮은 dimension의 1차원 배열이 높은 dimension 배열의 shape로 간주합니다.\n",
        "2. 특정 차원에서 두 배열이 동일한 크기를 갖거나, 두 배열 중 하나의 크기가 1이라면 그 두 배열은 특정 차원에서 compatible하다고 여겨집니다.\n",
        "3. 두 행렬이 모든 차원에서 compatible하다면, 브로드캐스팅이 가능합니다.\n",
        "4. 브로드캐스팅이 이뤄지면, 각 배열 shape의 요소별 최소공배수로 이루어진 shape가 두 배열의 shape로 간주합니다.\n",
        "5. 차원에 상관없이 크기가 1인 배열과 1보다 큰 배열이 있을 때, 크기가 1인 배열은 자신의 차원 수만큼 복사되어 쌓인 것처럼 간주합니다."
      ]
    },
    {
      "cell_type": "markdown",
      "metadata": {
        "id": "ngKciAsj4bM-",
        "colab_type": "text"
      },
      "source": [
        "브로드캐스팅을 지원하는 함수를 universal functions라고 합니다. \n",
        "\n",
        "https://docs.scipy.org/doc/numpy/reference/ufuncs.html\n",
        "\n",
        "브로드캐스팅을 응용한 예시들입니다:"
      ]
    },
    {
      "cell_type": "code",
      "metadata": {
        "id": "y3rAVEb34d03",
        "colab_type": "code",
        "colab": {}
      },
      "source": [
        "import numpy as np\n",
        "\n",
        "v = np.array([1,2,3])  # v의 shape는 (3,)\n",
        "w = np.array([4,5])    # w의 shape는 (2,)\n",
        "x = np.array([[1,2,3], \n",
        "              [4,5,6]])"
      ],
      "execution_count": 0,
      "outputs": []
    },
    {
      "cell_type": "code",
      "metadata": {
        "id": "YybmNf-Uynmr",
        "colab_type": "code",
        "colab": {
          "base_uri": "https://localhost:8080/",
          "height": 55
        },
        "outputId": "47c8954d-9b30-4122-a5e4-24af56d08e3a"
      },
      "source": [
        "print(x)"
      ],
      "execution_count": 13,
      "outputs": [
        {
          "output_type": "stream",
          "text": [
            "[[1 2 3]\n",
            " [4 5 6]]\n"
          ],
          "name": "stdout"
        }
      ]
    },
    {
      "cell_type": "code",
      "metadata": {
        "id": "2Nl3kWPTyuha",
        "colab_type": "code",
        "colab": {
          "base_uri": "https://localhost:8080/",
          "height": 55
        },
        "outputId": "f8547b67-f326-46f0-e7e2-4d3ac69ef9ac"
      },
      "source": [
        "# 벡터를 행렬의 각 행에 더하기\n",
        "# x는 shape가 (2, 3)이고 v는 shape가 (3,)이므로 이 둘을 브로드캐스팅하면 shape가 (2, 3)인\n",
        "# 아래와 같은 행렬이 나옵니다:\n",
        "# [[2 4 6]\n",
        "#  [5 7 9]]\n",
        "print(x + v)"
      ],
      "execution_count": 14,
      "outputs": [
        {
          "output_type": "stream",
          "text": [
            "[[2 4 6]\n",
            " [5 7 9]]\n"
          ],
          "name": "stdout"
        }
      ]
    },
    {
      "cell_type": "code",
      "metadata": {
        "id": "fOq_hbEW993m",
        "colab_type": "code",
        "colab": {
          "base_uri": "https://localhost:8080/",
          "height": 73
        },
        "outputId": "03d19af2-0ae8-4b5e-c1fe-6baf4d9be2e1"
      },
      "source": [
        "x.T"
      ],
      "execution_count": 15,
      "outputs": [
        {
          "output_type": "execute_result",
          "data": {
            "text/plain": [
              "array([[1, 4],\n",
              "       [2, 5],\n",
              "       [3, 6]])"
            ]
          },
          "metadata": {
            "tags": []
          },
          "execution_count": 15
        }
      ]
    },
    {
      "cell_type": "code",
      "metadata": {
        "id": "-kkH3_069_sa",
        "colab_type": "code",
        "colab": {
          "base_uri": "https://localhost:8080/",
          "height": 36
        },
        "outputId": "60d84ae5-739b-4d37-9196-98955d70046e"
      },
      "source": [
        "w"
      ],
      "execution_count": 16,
      "outputs": [
        {
          "output_type": "execute_result",
          "data": {
            "text/plain": [
              "array([4, 5])"
            ]
          },
          "metadata": {
            "tags": []
          },
          "execution_count": 16
        }
      ]
    },
    {
      "cell_type": "code",
      "metadata": {
        "id": "OY6jCvOF-Cls",
        "colab_type": "code",
        "colab": {
          "base_uri": "https://localhost:8080/",
          "height": 73
        },
        "outputId": "eb966435-fce3-4ae8-e393-ba37c6b3bd06"
      },
      "source": [
        "x.T + w"
      ],
      "execution_count": 17,
      "outputs": [
        {
          "output_type": "execute_result",
          "data": {
            "text/plain": [
              "array([[ 5,  9],\n",
              "       [ 6, 10],\n",
              "       [ 7, 11]])"
            ]
          },
          "metadata": {
            "tags": []
          },
          "execution_count": 17
        }
      ]
    },
    {
      "cell_type": "code",
      "metadata": {
        "id": "Sn8mkBYE-HaZ",
        "colab_type": "code",
        "colab": {
          "base_uri": "https://localhost:8080/",
          "height": 55
        },
        "outputId": "3f2e5f4d-2821-4229-a5f0-98375ad49c6c"
      },
      "source": [
        "(x.T + w).T"
      ],
      "execution_count": 18,
      "outputs": [
        {
          "output_type": "execute_result",
          "data": {
            "text/plain": [
              "array([[ 5,  6,  7],\n",
              "       [ 9, 10, 11]])"
            ]
          },
          "metadata": {
            "tags": []
          },
          "execution_count": 18
        }
      ]
    },
    {
      "cell_type": "code",
      "metadata": {
        "id": "R1sGvZNnyyWm",
        "colab_type": "code",
        "colab": {
          "base_uri": "https://localhost:8080/",
          "height": 55
        },
        "outputId": "c839d942-e8bc-41ba-bfee-9e3b4b4d58ae"
      },
      "source": [
        "# 벡터를 행렬의 각 행에 더하기\n",
        "# x는 shape가 (2, 3)이고 w는 shape가 (2,)입니다.\n",
        "# x의 전치행렬은 shape가 (3,2)이며 이는 w와 브로드캐스팅이 가능하고 결과로 shape가 (3,2)인 행렬이 생깁니다;\n",
        "# 이 행렬을 전치하면 shape가 (2,3)인 행렬이 나오며\n",
        "# 이는 행렬 x의 각 열에 벡터 w을 더한 결과와 동일합니다.\n",
        "# 아래의 행렬입니다:\n",
        "# [[ 5  6  7]\n",
        "#  [ 9 10 11]]\n",
        "print((x.T + w).T)"
      ],
      "execution_count": 19,
      "outputs": [
        {
          "output_type": "stream",
          "text": [
            "[[ 5  6  7]\n",
            " [ 9 10 11]]\n"
          ],
          "name": "stdout"
        }
      ]
    },
    {
      "cell_type": "code",
      "metadata": {
        "id": "O8flNn3d-csG",
        "colab_type": "code",
        "colab": {
          "base_uri": "https://localhost:8080/",
          "height": 36
        },
        "outputId": "702c8cfb-f183-48d9-9ed5-fd4b4bc1c67a"
      },
      "source": [
        "w"
      ],
      "execution_count": 20,
      "outputs": [
        {
          "output_type": "execute_result",
          "data": {
            "text/plain": [
              "array([4, 5])"
            ]
          },
          "metadata": {
            "tags": []
          },
          "execution_count": 20
        }
      ]
    },
    {
      "cell_type": "code",
      "metadata": {
        "id": "IS1AtfzQ-ege",
        "colab_type": "code",
        "colab": {
          "base_uri": "https://localhost:8080/",
          "height": 55
        },
        "outputId": "a661a681-690c-4a85-822d-08827ceb8ba3"
      },
      "source": [
        " np.reshape(w, (2, 1))"
      ],
      "execution_count": 21,
      "outputs": [
        {
          "output_type": "execute_result",
          "data": {
            "text/plain": [
              "array([[4],\n",
              "       [5]])"
            ]
          },
          "metadata": {
            "tags": []
          },
          "execution_count": 21
        }
      ]
    },
    {
      "cell_type": "code",
      "metadata": {
        "id": "buxpt-e7yx5E",
        "colab_type": "code",
        "colab": {
          "base_uri": "https://localhost:8080/",
          "height": 55
        },
        "outputId": "94f8a79a-d37f-4cfc-d612-34c111a89347"
      },
      "source": [
        "# 다른 방법은 w를 shape가 (2,1)인 열벡터로 변환하는 것입니다;\n",
        "# 그런 다음 이를 바로 x에 브로드캐스팅해 더하면\n",
        "# 동일한 결과가 나옵니다.\n",
        "print(x + np.reshape(w, (2, 1)))"
      ],
      "execution_count": 22,
      "outputs": [
        {
          "output_type": "stream",
          "text": [
            "[[ 5  6  7]\n",
            " [ 9 10 11]]\n"
          ],
          "name": "stdout"
        }
      ]
    },
    {
      "cell_type": "code",
      "metadata": {
        "id": "Dg-XjQ8EyxqD",
        "colab_type": "code",
        "colab": {
          "base_uri": "https://localhost:8080/",
          "height": 55
        },
        "outputId": "e04e927e-3d5b-4ee7-86ac-f410e22e3c9f"
      },
      "source": [
        "# 행렬의 스칼라배:\n",
        "# x 의 shape는 (2, 3)입니다. Numpy는 스칼라를 shape가 ()인 배열로 취급합니다;\n",
        "# 그렇기에 스칼라 값은 (2,3) shape로 브로드캐스트 될 수 있고,\n",
        "# 아래와 같은 결과를 만들어 냅니다:\n",
        "# [[ 2  4  6]\n",
        "#  [ 8 10 12]]\n",
        "print(x * 2)"
      ],
      "execution_count": 23,
      "outputs": [
        {
          "output_type": "stream",
          "text": [
            "[[ 2  4  6]\n",
            " [ 8 10 12]]\n"
          ],
          "name": "stdout"
        }
      ]
    },
    {
      "cell_type": "markdown",
      "metadata": {
        "id": "7nq1PTCS4lyk",
        "colab_type": "text"
      },
      "source": [
        "브로드캐스팅은 보통 코드를 간결하고 빠르게 해줍니다, 그러니 가능한 많이 사용하세요."
      ]
    }
  ]
}